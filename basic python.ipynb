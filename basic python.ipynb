{
 "cells": [
  {
   "cell_type": "markdown",
   "id": "92d6c30e-da6d-4b63-b79b-4e38e0766521",
   "metadata": {},
   "source": [
    "**Comments in Python**\n",
    "\n",
    "**1.single line comment use #**\n",
    "\n",
    "**2.Multi Line comment use (Triple cot) (\"\"\"    \"\"\")**"
   ]
  },
  {
   "cell_type": "code",
   "execution_count": 3,
   "id": "7d24acce-7a0b-492b-bf33-f61ee269a082",
   "metadata": {},
   "outputs": [
    {
     "name": "stdout",
     "output_type": "stream",
     "text": [
      "hello world\n"
     ]
    }
   ],
   "source": [
    "# multi line comment use \"\"\"  \"\"\"(triple cot) or single line comment use # (hash)\n",
    "\"\"\"\n",
    "  hello world \n",
    "\"\"\"\n",
    "print(\"hello world\")"
   ]
  },
  {
   "cell_type": "markdown",
   "id": "a2c0d181-f4a0-4feb-86a9-181f890fbfa5",
   "metadata": {},
   "source": [
    "**Data Type**"
   ]
  },
  {
   "cell_type": "code",
   "execution_count": 5,
   "id": "217babc9-c6cd-458c-9549-23a49d27612e",
   "metadata": {},
   "outputs": [],
   "source": [
    "a=12 # int\n",
    "b=10.5 # float\n",
    "c=5+ 6j #complex number\n",
    "d=\" Good Morning\" # string"
   ]
  },
  {
   "cell_type": "markdown",
   "id": "7d4bbd55-7921-4b36-934a-e6eb9258a8dd",
   "metadata": {},
   "source": [
    "**Sequence data type**\n",
    "- list  \n",
    "- Tuple\n",
    "- set\n",
    "- dictionary"
   ]
  },
  {
   "cell_type": "code",
   "execution_count": 7,
   "id": "bf15a916-f993-4b23-8cd1-2aae38109ce1",
   "metadata": {},
   "outputs": [
    {
     "name": "stdout",
     "output_type": "stream",
     "text": [
      "['xyz', '1', '20.8', 'abc_20']\n",
      "('neha', '28', '56.9', 'abc_78')\n",
      "{'3', 'moni', 'pqr'}\n",
      "{'name': 'Neha', 'age': '22'}\n"
     ]
    }
   ],
   "source": [
    "# list\n",
    "x=[\"xyz\",\"1\",\"20.8\",\"abc_20\"]\n",
    "print(x)\n",
    "\n",
    "# tuple\n",
    "y=(\"neha\",\"28\",\"56.9\",\"abc_78\")\n",
    "print(y)\n",
    "\n",
    "# set\n",
    "z={\"3\",\"pqr\",\"moni\"}\n",
    "print(z)\n",
    "\n",
    "# dictionary\n",
    "d={\"name\":\"Neha\",\"age\":\"22\"}\n",
    "print(d)"
   ]
  },
  {
   "cell_type": "markdown",
   "id": "4eaf12f0-1b5a-486f-853e-9b53b73798fe",
   "metadata": {},
   "source": [
    "**Type conversion in Python**"
   ]
  },
  {
   "cell_type": "code",
   "execution_count": 9,
   "id": "819ef2cb-bc14-4eeb-9865-7f335ef61e56",
   "metadata": {},
   "outputs": [
    {
     "data": {
      "text/plain": [
       "list"
      ]
     },
     "execution_count": 9,
     "metadata": {},
     "output_type": "execute_result"
    }
   ],
   "source": [
    "type(x)"
   ]
  },
  {
   "cell_type": "code",
   "execution_count": 10,
   "id": "04e57b4f-3e0b-417d-9078-dcc554a8756a",
   "metadata": {},
   "outputs": [
    {
     "data": {
      "text/plain": [
       "list"
      ]
     },
     "execution_count": 10,
     "metadata": {},
     "output_type": "execute_result"
    }
   ],
   "source": [
    "# list to tuple\n",
    "tuple(x)\n",
    "type(x)"
   ]
  },
  {
   "cell_type": "code",
   "execution_count": 11,
   "id": "6cdaf658-4879-44f8-bfcf-138e8d854b0d",
   "metadata": {},
   "outputs": [
    {
     "data": {
      "text/plain": [
       "'12'"
      ]
     },
     "execution_count": 11,
     "metadata": {},
     "output_type": "execute_result"
    }
   ],
   "source": [
    "#int to string\n",
    "type(a)\n",
    "str(a)"
   ]
  },
  {
   "cell_type": "code",
   "execution_count": 12,
   "id": "0c8ea7a8-d2a6-4493-a2a2-ec56d5ced01c",
   "metadata": {},
   "outputs": [
    {
     "name": "stdout",
     "output_type": "stream",
     "text": [
      "12\n"
     ]
    }
   ],
   "source": [
    "print(a)"
   ]
  },
  {
   "cell_type": "code",
   "execution_count": 13,
   "id": "92689772-397b-4c6f-a57e-57b344784d6a",
   "metadata": {},
   "outputs": [],
   "source": [
    "ab = 12 # int to float \n",
    "ba=12.5  # float to int\n",
    "ca=\"233\" # string to int\n",
    "xy=[\"asd\",\"sdc\",\"sds\"]  # list to tuple\n",
    "df=(\"xadi\",\"243\",\"34f\",\"24dsdz\") # convert to set\n",
    "gf={\"sdsj\",\"ffgs\",\"dfytf\",\"tygy\"} # convert to list"
   ]
  },
  {
   "cell_type": "code",
   "execution_count": 14,
   "id": "c44aeab6-280c-4c66-8f4d-1202c8ab4d77",
   "metadata": {},
   "outputs": [
    {
     "data": {
      "text/plain": [
       "12.0"
      ]
     },
     "execution_count": 14,
     "metadata": {},
     "output_type": "execute_result"
    }
   ],
   "source": [
    "ab = 12 \n",
    "\n",
    "float(ab) # int to float"
   ]
  },
  {
   "cell_type": "code",
   "execution_count": 15,
   "id": "fbb7a22c-840b-4764-9340-2d968ceb631f",
   "metadata": {},
   "outputs": [
    {
     "data": {
      "text/plain": [
       "12"
      ]
     },
     "execution_count": 15,
     "metadata": {},
     "output_type": "execute_result"
    }
   ],
   "source": [
    "ba=12.5\n",
    "int(ba) # float to int"
   ]
  },
  {
   "cell_type": "code",
   "execution_count": 16,
   "id": "27c6aafe-57d4-4642-b2ba-0a214104496a",
   "metadata": {},
   "outputs": [
    {
     "data": {
      "text/plain": [
       "233"
      ]
     },
     "execution_count": 16,
     "metadata": {},
     "output_type": "execute_result"
    }
   ],
   "source": [
    "ca=\"233\"\n",
    "int(ca) # string to int"
   ]
  },
  {
   "cell_type": "code",
   "execution_count": 17,
   "id": "38cf6061-0e32-4680-b171-a95924923135",
   "metadata": {},
   "outputs": [
    {
     "data": {
      "text/plain": [
       "('asd', 'sdc', 'sds')"
      ]
     },
     "execution_count": 17,
     "metadata": {},
     "output_type": "execute_result"
    }
   ],
   "source": [
    "xy=[\"asd\",\"sdc\",\"sds\"]\n",
    "tuple(xy) # list to tuple"
   ]
  },
  {
   "cell_type": "code",
   "execution_count": 18,
   "id": "41b73875-cf1f-444c-8f0c-d1039ce3b696",
   "metadata": {},
   "outputs": [
    {
     "data": {
      "text/plain": [
       "{'243', '24dsdz', '34f', 'xadi'}"
      ]
     },
     "execution_count": 18,
     "metadata": {},
     "output_type": "execute_result"
    }
   ],
   "source": [
    "df=(\"xadi\",\"243\",\"34f\",\"24dsdz\")\n",
    "set(df) # convert to set"
   ]
  },
  {
   "cell_type": "code",
   "execution_count": 19,
   "id": "9c4e723c-f769-4aad-b568-fe1ed65d2b4f",
   "metadata": {},
   "outputs": [
    {
     "data": {
      "text/plain": [
       "['dfytf', 'sdsj', 'ffgs', 'tygy']"
      ]
     },
     "execution_count": 19,
     "metadata": {},
     "output_type": "execute_result"
    }
   ],
   "source": [
    "gf={\"sdsj\",\"ffgs\",\"dfytf\",\"tygy\"}\n",
    "list(gf) # convert to list"
   ]
  },
  {
   "cell_type": "markdown",
   "id": "7916a055-dd17-477b-bf1d-66c870172f64",
   "metadata": {},
   "source": [
    "# Control structure & conditional statement"
   ]
  },
  {
   "cell_type": "code",
   "execution_count": 37,
   "id": "7eaa43a4-58e9-4b5c-96c8-ddc16225abec",
   "metadata": {},
   "outputs": [
    {
     "name": "stdin",
     "output_type": "stream",
     "text": [
      "enter a integer: 5\n"
     ]
    },
    {
     "name": "stdout",
     "output_type": "stream",
     "text": [
      "x is odd\n"
     ]
    }
   ],
   "source": [
    "# if else\n",
    "x=int(input(\"enter a integer:\")) # take input from user\n",
    "if x % 2==0:\n",
    "    print(\"x is even\") # check number is even or odd if  condition is true then return x is even\n",
    "else:\n",
    "    print(\"x is odd\") # number is odd then return x is odd"
   ]
  },
  {
   "cell_type": "code",
   "execution_count": 47,
   "id": "132f7c1a-0f92-4c5d-b9ee-773c93923368",
   "metadata": {},
   "outputs": [
    {
     "name": "stdin",
     "output_type": "stream",
     "text": [
      "Enter your percentage: 86\n"
     ]
    },
    {
     "name": "stdout",
     "output_type": "stream",
     "text": [
      "Grade A\n"
     ]
    }
   ],
   "source": [
    "# if elif else\n",
    "percentage=float(input(\"Enter your percentage:\"))\n",
    "if percentage >=90:  # check percentage is greater than 90  return Grade A +\n",
    "    print(\"Grade A+\")\n",
    "elif percentage >= 80: #check percentage is greater than 80  return Grade A\n",
    "    print(\"Grade A\")\n",
    "elif percentage >=70:  #check percentage is greater than 70  return Grade B+\n",
    "    print(\"Grade B+\")\n",
    "elif percentage >=60:  #check percentage is greater than 60  return Grade B\n",
    "    print(\"Grade B\")\n",
    "elif percentage >=40:  #check percentage is greater than 40  return pass \n",
    "    print(\"pass\")\n",
    "else:\n",
    "    print(\"Fail\")  # other wise return Fail (leass than 40)"
   ]
  },
  {
   "cell_type": "markdown",
   "id": "77f3d838-68ac-4573-b021-674e3bb9c531",
   "metadata": {},
   "source": [
    "# Loops\n",
    "- perform task repeatadly."
   ]
  },
  {
   "cell_type": "code",
   "execution_count": 52,
   "id": "ba3a76c0-1fc2-47dc-b1f9-9598907b02fa",
   "metadata": {},
   "outputs": [
    {
     "name": "stdout",
     "output_type": "stream",
     "text": [
      "5 x 1 = 5\n",
      "5 x 2 = 10\n",
      "5 x 3 = 15\n",
      "5 x 4 = 20\n",
      "5 x 5 = 25\n",
      "5 x 6 = 30\n",
      "5 x 7 = 35\n",
      "5 x 8 = 40\n",
      "5 x 9 = 45\n",
      "5 x 10 = 50\n"
     ]
    }
   ],
   "source": [
    "# for loop # use when we have any sequence\n",
    "number=5\n",
    "for i in range(1,11):\n",
    "    print(number,'x',i,'=',number*i)\n"
   ]
  },
  {
   "cell_type": "code",
   "execution_count": 63,
   "id": "ccc72b68-7d7e-41c3-9344-29b578bc0dcb",
   "metadata": {},
   "outputs": [
    {
     "name": "stdout",
     "output_type": "stream",
     "text": [
      "1\n",
      "2\n",
      "3\n",
      "4\n",
      "5\n",
      "6\n",
      "7\n",
      "8\n",
      "9\n",
      "10\n"
     ]
    }
   ],
   "source": [
    "# while loop \n",
    "count=1  # initial digit\n",
    "while count <=10:  # digit less than equal to 10  # when conditon is true until while loop excuted. \n",
    "    print(count)\n",
    "    count +=1 # for increase  digit"
   ]
  },
  {
   "cell_type": "code",
   "execution_count": 5,
   "id": "fce5bbed-7acf-48c3-9ad1-96fa7e707939",
   "metadata": {},
   "outputs": [
    {
     "name": "stdin",
     "output_type": "stream",
     "text": [
      "Enter first number: 10\n",
      "Enter Second number: 20\n",
      "Enter third number: 30\n"
     ]
    },
    {
     "name": "stdout",
     "output_type": "stream",
     "text": [
      "A is minimum number\n"
     ]
    }
   ],
   "source": [
    "#1.minimum of three number\n",
    "a=int(input(\"Enter first number:\"))\n",
    "b=int(input(\"Enter Second number:\"))\n",
    "c=int(input(\"Enter third number:\"))\n",
    "if a < b:\n",
    "    print(\"A is minimum number\")\n",
    "elif b < c:\n",
    "    print(\"B is minimum number\")\n",
    "else:\n",
    "    print(\"C is minimum number\")\n"
   ]
  },
  {
   "cell_type": "code",
   "execution_count": 30,
   "id": "c3b487e2-14e9-45c5-ab3b-df78687c74c1",
   "metadata": {},
   "outputs": [
    {
     "name": "stdin",
     "output_type": "stream",
     "text": [
      "Enter number: 7\n"
     ]
    },
    {
     "name": "stdout",
     "output_type": "stream",
     "text": [
      "7 is prime number\n"
     ]
    }
   ],
   "source": [
    "# 2.check number is prime or not\n",
    "num=int(input(\"Enter number:\")) # take input form user\n",
    "count=0   # count initialized to 0\n",
    "for i in range(1,num+1):   # it start form 1 to num\n",
    "    if num % i==0:\n",
    "        count=count +1 # if it is divisible by i the count is increase\n",
    "if count == 2: \n",
    "    print(num,\"is prime number\")\n",
    "else:\n",
    "    print(num,\"is not prime number\")\n",
    "    "
   ]
  },
  {
   "cell_type": "code",
   "execution_count": 3,
   "id": "8b75c0b1-7524-4387-bb33-2bb63bcf3b90",
   "metadata": {},
   "outputs": [
    {
     "name": "stdin",
     "output_type": "stream",
     "text": [
      "entre the count down time: 5\n"
     ]
    },
    {
     "name": "stdout",
     "output_type": "stream",
     "text": [
      "count down time  5\n",
      "count down time  4\n",
      "count down time  3\n",
      "count down time  2\n",
      "count down time  1\n",
      "count down time  0\n"
     ]
    }
   ],
   "source": [
    "#3. count down timer take the number as user input and count down the number till 0\n",
    "count_down_time=int(input(\"entre the count down time:\"))\n",
    "while count_down_time >=0:\n",
    "    print(\"count down time \",count_down_time,)\n",
    "    count_down_time -=1"
   ]
  },
  {
   "cell_type": "code",
   "execution_count": 15,
   "id": "00b1c3f9-bd90-4885-a55a-e274ff4b2520",
   "metadata": {},
   "outputs": [
    {
     "name": "stdin",
     "output_type": "stream",
     "text": [
      "enter the number 5\n"
     ]
    },
    {
     "name": "stdout",
     "output_type": "stream",
     "text": [
      "1 \n",
      "1 2 \n",
      "1 2 3 \n",
      "1 2 3 4 \n",
      "1 2 3 4 5 \n"
     ]
    }
   ],
   "source": [
    "# 4.number pyramid\n",
    "n=int(input(\"enter the number\"))\n",
    "for i in range(1,n+1):  # i for row\n",
    "    for j in range(1,i+1):  # j for column\n",
    "        print(j ,end=' ')\n",
    "    print() # print number to the next line"
   ]
  },
  {
   "cell_type": "code",
   "execution_count": 17,
   "id": "0acc6f17-b398-4e71-b06e-901e096581bb",
   "metadata": {},
   "outputs": [
    {
     "name": "stdin",
     "output_type": "stream",
     "text": [
      "enter the number 4\n"
     ]
    },
    {
     "name": "stdout",
     "output_type": "stream",
     "text": [
      "1\n",
      "1 2\n",
      "1 2 3\n",
      "1 2 3 4\n"
     ]
    }
   ],
   "source": [
    "rows=int(input(\"enter the number\"))\n",
    "for i in range(1,rows+1):\n",
    "    print(*range(1,i+1)) # * (all) use for unpack the output pattern."
   ]
  },
  {
   "cell_type": "markdown",
   "id": "82a52087-04c8-4514-9d02-b6f8ff89b5b0",
   "metadata": {},
   "source": [
    "# loop control Statement\n",
    "- break : It break the condition until its execute. \n",
    "- continue : continue the condition (check all condition).\n",
    "- pass : work as a place holder. (when we have no logic or empty loop then we use pass)"
   ]
  },
  {
   "cell_type": "markdown",
   "id": "c9f36674-5dca-4c78-8a2d-825d13eeeb56",
   "metadata": {},
   "source": [
    "**1.write a program that print all prime number within a specified range provided by the user.**"
   ]
  },
  {
   "cell_type": "code",
   "execution_count": 6,
   "id": "9af0d28c-8ef3-4121-94af-60ff3375f44f",
   "metadata": {},
   "outputs": [
    {
     "name": "stdin",
     "output_type": "stream",
     "text": [
      "Enter start number: 1\n",
      "Enter end number: 20\n"
     ]
    },
    {
     "name": "stdout",
     "output_type": "stream",
     "text": [
      "prime number between 1 and 20:\n",
      "2\n",
      "3\n",
      "5\n",
      "7\n",
      "11\n",
      "13\n",
      "17\n",
      "19\n"
     ]
    }
   ],
   "source": [
    "start_no=int(input(\"Enter start number:\")) # take  starting digit from user\n",
    "end_no=int(input(\"Enter end number:\"))  # take last digitfrom user\n",
    "print(f\"prime number between {start_no} and {end_no}:\")\n",
    "for i in range(start_no,end_no + 1):   # define the range where which we want to prime number between given range.\n",
    "    if i > 1:                       # this check the number is less than 1 i.e not prime # end _no +1 last disgit also include\n",
    "        for num in range(2,i):\n",
    "            if i% num == 0:       # check the number has any divisible by 1 or itself\n",
    "                break    # not prime  and exit the loop\n",
    "        else:\n",
    "            print(i)  # print only prime number "
   ]
  },
  {
   "cell_type": "markdown",
   "id": "1d18c28b-c424-496c-9a7e-c11c67892d64",
   "metadata": {},
   "source": [
    "**2.sum of natural number**"
   ]
  },
  {
   "cell_type": "code",
   "execution_count": 1,
   "id": "c7a94858-b1bc-43e0-9eaa-f8e68523e4e3",
   "metadata": {},
   "outputs": [
    {
     "name": "stdin",
     "output_type": "stream",
     "text": [
      "Enter a number: 23\n"
     ]
    },
    {
     "name": "stdout",
     "output_type": "stream",
     "text": [
      "the sum of natural number is 276\n"
     ]
    }
   ],
   "source": [
    "number=int(input(\"Enter a number:\")) # take input from user\n",
    "sum=0  # intial  sum is 0\n",
    "for i in range(1,number + 1): # define the range start from 1  upto number which we provide.\n",
    "    sum +=i  # add number \n",
    " \n",
    "print(\"the sum of natural number is\",sum)"
   ]
  },
  {
   "cell_type": "markdown",
   "id": "3b724f53-fc16-4901-911c-a3d91264cc70",
   "metadata": {},
   "source": [
    "**3.write a program that print all even number between two number provided by the user.** "
   ]
  },
  {
   "cell_type": "code",
   "execution_count": 16,
   "id": "5b58c0dc-cb83-4c73-9fe8-28edf6d121b9",
   "metadata": {},
   "outputs": [
    {
     "name": "stdin",
     "output_type": "stream",
     "text": [
      "Enter start number: 1\n",
      "Enter end number: 10\n"
     ]
    },
    {
     "name": "stdout",
     "output_type": "stream",
     "text": [
      "even number between 1 and 10:\n",
      "2\n",
      "4\n",
      "6\n",
      "8\n",
      "10\n"
     ]
    }
   ],
   "source": [
    "first=int(input(\"Enter start number:\")) # take  starting digit from user\n",
    "last=int(input(\"Enter end number:\"))  # take last digitfrom user\n",
    "print(f\"even number between {first} and {last}:\")\n",
    "for i in range(first,last + 1):\n",
    "    if i % 2 == 0:\n",
    "        print(i)\n",
    "    "
   ]
  },
  {
   "cell_type": "markdown",
   "id": "fb63d1d4-9e96-4b6f-aaf3-8b872c98cd99",
   "metadata": {},
   "source": [
    "5.**write a program to calculate the sum of the digit of a number provided by the user.**"
   ]
  },
  {
   "cell_type": "code",
   "execution_count": 7,
   "id": "a277b739-52ac-46a5-be4b-7651426fdd88",
   "metadata": {},
   "outputs": [
    {
     "name": "stdin",
     "output_type": "stream",
     "text": [
      "Enter a number: 27\n"
     ]
    },
    {
     "name": "stdout",
     "output_type": "stream",
     "text": [
      "sum of digit: 9\n"
     ]
    }
   ],
   "source": [
    "number=int(input(\"Enter a number:\"))\n",
    "sum=0\n",
    "while number > 0: \n",
    "    sum += number % 10 # add last digit digit to sum\n",
    "    number //= 10  # remove last digit from number\n",
    "print(\"sum of digit:\",sum)"
   ]
  },
  {
   "cell_type": "markdown",
   "id": "2c5d7ef9-6738-4b6c-a5ce-e3e3e5bad888",
   "metadata": {},
   "source": [
    "**6.write a program that count the number of vowels in a given string.**"
   ]
  },
  {
   "cell_type": "code",
   "execution_count": 34,
   "id": "ee13d82c-d962-46d5-b191-81f92b395428",
   "metadata": {},
   "outputs": [
    {
     "name": "stdin",
     "output_type": "stream",
     "text": [
      "Enter your string: Neha\n"
     ]
    },
    {
     "name": "stdout",
     "output_type": "stream",
     "text": [
      "The count of Vowels are: 2\n"
     ]
    }
   ],
   "source": [
    "string=input(\"Enter your string:\")\n",
    "vowel=0  # initial count is 0\n",
    "for i in string:\n",
    "    if i=='a' or i=='e' or i=='i' or i=='o' or i=='u' or i=='A' or i=='E' or i=='I' or i=='O'  or i=='U':  # check condition (vowel like a,e,i,o,u or A,E,I,O,U  present in the string or not)\n",
    "        vowel=vowel + 1  # if  yes then add it\n",
    "print(\"The count of Vowels are:\",vowel)"
   ]
  },
  {
   "cell_type": "markdown",
   "id": "04b17041-9451-4970-839f-51b4a4ba594e",
   "metadata": {},
   "source": [
    "**7.calculate the GCD(Gretest common divisor)**"
   ]
  },
  {
   "cell_type": "code",
   "execution_count": 41,
   "id": "95fe73a1-1ca9-4669-94c5-b6504975f751",
   "metadata": {},
   "outputs": [
    {
     "name": "stdin",
     "output_type": "stream",
     "text": [
      "enter the first number : 36\n",
      "enter the second number: 60\n"
     ]
    },
    {
     "name": "stdout",
     "output_type": "stream",
     "text": [
      "GCD of 36 and 60 is 12\n"
     ]
    }
   ],
   "source": [
    "num1=int(input(\"enter the first number :\"))\n",
    "num2=int(input(\"enter the second number:\"))\n",
    "x=num1\n",
    "y=num2\n",
    "while num1 != num2:\n",
    "    if num1 > num2:\n",
    "        num1 -= num2 # if num1 is less than num2 and subtract it from num2 and strore in num1\n",
    "    else:\n",
    "        num2 -= num1\n",
    "print(\"GCD of\",x,\"and\",y,\"is\",num1)"
   ]
  },
  {
   "cell_type": "markdown",
   "id": "b43c0ede-4a18-4d58-9861-c04b3237253d",
   "metadata": {},
   "source": [
    "4.**convert temprature from celsius to fahrenheit**"
   ]
  },
  {
   "cell_type": "code",
   "execution_count": 3,
   "id": "6564da65-0207-470e-83b1-d7a8f5d0a5b2",
   "metadata": {},
   "outputs": [
    {
     "name": "stdin",
     "output_type": "stream",
     "text": [
      "Enter the Temprature  in celcius: 46\n"
     ]
    },
    {
     "name": "stdout",
     "output_type": "stream",
     "text": [
      "Temprature in Fahreheit is : 114.8\n"
     ]
    }
   ],
   "source": [
    "temprature=float(input(\"Enter the Temprature  in celcius:\")) # take input from user\n",
    "fahreheit=(9/5*temprature)+32  # to convert celcius  to fahreheit\n",
    "print(\"Temprature in Fahreheit is :\",fahreheit)"
   ]
  },
  {
   "cell_type": "markdown",
   "id": "b1238822-cf2b-41a1-aa1d-e8344dcaae08",
   "metadata": {},
   "source": [
    "**1.program to print half pyramid using***"
   ]
  },
  {
   "cell_type": "code",
   "execution_count": 3,
   "id": "1d48240d-45a9-4080-8c54-eb64f2ca5b40",
   "metadata": {},
   "outputs": [
    {
     "name": "stdout",
     "output_type": "stream",
     "text": [
      "* \n",
      "* * \n",
      "* * * \n",
      "* * * * \n",
      "* * * * * \n",
      "* * * * * * \n"
     ]
    }
   ],
   "source": [
    "x=6\n",
    "for i in range(1,x+1): # i for row  i.e i goes from 1 to 6 \n",
    "    for j in range(1,i+1): # j for column \n",
    "        print('*',end=' ')\n",
    "    print()"
   ]
  },
  {
   "cell_type": "markdown",
   "id": "f153fed2-0816-40e7-b623-317f8519ed29",
   "metadata": {},
   "source": [
    "2.inverted half pyramid using*"
   ]
  },
  {
   "cell_type": "code",
   "execution_count": 17,
   "id": "b803ab2d-7c3e-4137-abef-d87f439bd62d",
   "metadata": {},
   "outputs": [
    {
     "name": "stdout",
     "output_type": "stream",
     "text": [
      "* * * * * * \n",
      "* * * * * \n",
      "* * * * \n",
      "* * * \n",
      "* * \n",
      "* \n",
      "\n"
     ]
    }
   ],
   "source": [
    "x=6\n",
    "for i in range(x+1,0,-1): # i for row  \n",
    "    for j in range(0,i-1): # j for column\n",
    "        print('*',end=' ')\n",
    "    print()"
   ]
  },
  {
   "cell_type": "code",
   "execution_count": 5,
   "id": "9daf558b-0162-421e-ac2c-c4f8a4e84938",
   "metadata": {},
   "outputs": [
    {
     "name": "stdin",
     "output_type": "stream",
     "text": [
      "Enter no of rows: 5\n"
     ]
    },
    {
     "name": "stdout",
     "output_type": "stream",
     "text": [
      "* * * * * \n",
      "* * * * \n",
      "* * * \n",
      "* * \n",
      "* \n"
     ]
    }
   ],
   "source": [
    "x=int(input(\"Enter no of rows:\")) # take input from user\n",
    "for i in range(x,0,-1): # i for row  \n",
    "    for j in range(0,i): # j for column  range start from 0 to i\n",
    "        print('*',end=' ')\n",
    "    print()"
   ]
  },
  {
   "cell_type": "code",
   "execution_count": 27,
   "id": "32a22a9a-a1cb-4f72-af9a-651cf0e78a31",
   "metadata": {},
   "outputs": [
    {
     "name": "stdin",
     "output_type": "stream",
     "text": [
      "Enter no of rows: 6\n"
     ]
    },
    {
     "name": "stdout",
     "output_type": "stream",
     "text": [
      "          * \n",
      "        * * * \n",
      "      * * * * * \n",
      "    * * * * * * * \n",
      "  * * * * * * * * * \n",
      "* * * * * * * * * * * \n"
     ]
    }
   ],
   "source": [
    "x=int(input(\"Enter no of rows:\"))\n",
    "a=0 # initital  starting is 0\n",
    "for i in range(1, x+1):no of rows print\n",
    "    for space in range(1, (x-i)+1):# check the space and also in one line\n",
    "        print(end='  ')\n",
    "    while a!=(2*i-1):\n",
    "        print(\"*\",end=' ')\n",
    "        a += 1\n",
    "    a=0  # recet the rows starting from 1 \n",
    "    print()"
   ]
  },
  {
   "cell_type": "code",
   "execution_count": 7,
   "id": "8f3452ab-b66b-43e9-8fdf-fb2e2ed5c379",
   "metadata": {},
   "outputs": [
    {
     "name": "stdin",
     "output_type": "stream",
     "text": [
      "Enter the number 5\n"
     ]
    },
    {
     "name": "stdout",
     "output_type": "stream",
     "text": [
      "*********\n",
      " *******\n",
      "  *****\n",
      "   ***\n",
      "    *\n"
     ]
    }
   ],
   "source": [
    "x=int(input(\"Enter the number\")) # take input from user\n",
    "for i in range(x , 0 , -1): # define range from given number  and -1 for decrement.\n",
    "    print(' ' * (x-i) + '*' * (2 * i-1)) # ' ' * (x-i) for adding space to center align and '*' * (2 * i-1) it gives correct no of star in inverted.\n",
    "                                           # suppose i=5 (2*5-1=9) it print 9 star ."
   ]
  },
  {
   "cell_type": "code",
   "execution_count": 13,
   "id": "28237b5f-8949-4218-b6e6-b006ccc67728",
   "metadata": {},
   "outputs": [
    {
     "name": "stdin",
     "output_type": "stream",
     "text": [
      "Enter the number 6\n"
     ]
    },
    {
     "name": "stdout",
     "output_type": "stream",
     "text": [
      "           1 \n",
      "         2 3 2 \n",
      "       3 4 5 4 3 \n",
      "     4 5 6 7 6 5 4 \n",
      "   5 6 7 8 9 8 7 6 5 \n",
      " 6 7 8 9 10 11 10 9 8 7 6 \n"
     ]
    }
   ],
   "source": [
    "num=int(input(\"Enter the number\")) # take input from user\n",
    "for i in range(1,num+1): # starting range from 1 to num +1\n",
    "    print('  '*(num-i),end=' ') #  print space for alignment\n",
    "    for j in range(i,i*2):  #  it increasing number starting from i to i*2 i.e i= 4 it print 4,5,6\n",
    "        print(j,end=' ')\n",
    "    for j in range(i*2-2,i-1,-1): # i*2 -2 and goes down to i i.e i=4 it print 5,4\n",
    "        print(j,end=' ')\n",
    "    print()"
   ]
  },
  {
   "cell_type": "markdown",
   "id": "b5f2127a-83fa-431e-97b2-50386a669c57",
   "metadata": {},
   "source": [
    "# Operators "
   ]
  },
  {
   "cell_type": "code",
   "execution_count": 12,
   "id": "3d17fb88-f09d-4d86-84c5-3d8aff66c5e4",
   "metadata": {},
   "outputs": [
    {
     "name": "stdout",
     "output_type": "stream",
     "text": [
      "1\n"
     ]
    }
   ],
   "source": [
    "# Bitwise Operators \n",
    "# and (&)\n",
    "a= 5 & 3  # 0101 & 0011=0001\n",
    "print(a)"
   ]
  },
  {
   "cell_type": "code",
   "execution_count": 14,
   "id": "df8b6b84-2853-4a06-8ab9-d4d9214fb23d",
   "metadata": {},
   "outputs": [
    {
     "name": "stdout",
     "output_type": "stream",
     "text": [
      "7\n"
     ]
    }
   ],
   "source": [
    "# or(|)\n",
    "y= 5| 3  # 0101 & 0011=0111 (7)\n",
    "print(y)"
   ]
  },
  {
   "cell_type": "code",
   "execution_count": 16,
   "id": "5fb55508-14b6-422f-aed7-a11bd6074bb4",
   "metadata": {},
   "outputs": [
    {
     "name": "stdout",
     "output_type": "stream",
     "text": [
      "6\n"
     ]
    }
   ],
   "source": [
    "# XOR (^)\n",
    "y=5 ^ 3 # 0101 & 0011=0110 (6)\n",
    "print(y)"
   ]
  },
  {
   "cell_type": "code",
   "execution_count": 18,
   "id": "699506e6-4727-4ed7-91ce-2c8fa0eaf1d2",
   "metadata": {},
   "outputs": [
    {
     "name": "stdout",
     "output_type": "stream",
     "text": [
      "-6\n"
     ]
    }
   ],
   "source": [
    "# NOT(~)\n",
    "y= ~5  # ~0101 = 1010\n",
    "print(y)"
   ]
  },
  {
   "cell_type": "code",
   "execution_count": 20,
   "id": "bad840ab-de28-4362-9cae-3afee8123b72",
   "metadata": {},
   "outputs": [
    {
     "name": "stdout",
     "output_type": "stream",
     "text": [
      "10\n"
     ]
    }
   ],
   "source": [
    "# left shift(<<)\n",
    "y=5<< 1 # move from 1 # 0101 << 1=1010(10)\n",
    "print(y)"
   ]
  },
  {
   "cell_type": "code",
   "execution_count": 22,
   "id": "bca9fa4d-5e41-4d10-a65e-c17c0babd7ef",
   "metadata": {},
   "outputs": [
    {
     "name": "stdout",
     "output_type": "stream",
     "text": [
      "2\n"
     ]
    }
   ],
   "source": [
    "# right shift(>>)\n",
    "y=5 >> 1  # 0101 << 1=0010(2)\n",
    "print(y)"
   ]
  },
  {
   "cell_type": "code",
   "execution_count": 24,
   "id": "ca973132-de35-40e3-9f84-15b6a7a5aa8e",
   "metadata": {},
   "outputs": [
    {
     "name": "stdout",
     "output_type": "stream",
     "text": [
      "True\n"
     ]
    }
   ],
   "source": [
    "# Identity Operator\n",
    "# is\n",
    "n=5\n",
    "m=n\n",
    "y=(n is m )\n",
    "print(y)"
   ]
  },
  {
   "cell_type": "code",
   "execution_count": 28,
   "id": "588ff6dd-4856-419a-9d2c-6ae718c03a59",
   "metadata": {},
   "outputs": [
    {
     "name": "stdout",
     "output_type": "stream",
     "text": [
      "True\n"
     ]
    }
   ],
   "source": [
    "# is not\n",
    "a=10\n",
    "b=5\n",
    "c=(a is not b)\n",
    "print(c)"
   ]
  },
  {
   "cell_type": "code",
   "execution_count": 30,
   "id": "8443d8a2-8784-4b18-9a62-ea8228363fd7",
   "metadata": {},
   "outputs": [
    {
     "name": "stdout",
     "output_type": "stream",
     "text": [
      "True\n"
     ]
    }
   ],
   "source": [
    "# Membership Operator\n",
    "# in\n",
    "x=[1,2,3]\n",
    "y=1 in x\n",
    "print(y)"
   ]
  },
  {
   "cell_type": "code",
   "execution_count": 32,
   "id": "471b33f6-b40f-4e78-b4a8-44917795cf9d",
   "metadata": {},
   "outputs": [
    {
     "name": "stdout",
     "output_type": "stream",
     "text": [
      "True\n"
     ]
    }
   ],
   "source": [
    "# not in\n",
    "x=[1,2,3]\n",
    "y=4 not in x\n",
    "print(y)"
   ]
  },
  {
   "cell_type": "markdown",
   "id": "23412636-8fce-4754-92f4-342b5c8aac93",
   "metadata": {},
   "source": [
    "**Q.1.implement a program where a user enters their current saving and their monthly deposite.use assingnment oerators to update their saving account after  adding  their mothly deposite,including a monthly interest of 0.5%**"
   ]
  },
  {
   "cell_type": "code",
   "execution_count": 83,
   "id": "36a81d02-2c30-464e-8bb1-461b42917c63",
   "metadata": {},
   "outputs": [
    {
     "name": "stdin",
     "output_type": "stream",
     "text": [
      "Enter your current savings:  3500\n",
      "Enter your monthly deposit:  400\n"
     ]
    },
    {
     "name": "stdout",
     "output_type": "stream",
     "text": [
      "Your updated savings after deposit and interest is:3917.50\n"
     ]
    }
   ],
   "source": [
    "current_savings = float(input(\"Enter your current savings: \")) # take input from user \n",
    "monthly_deposit = float(input(\"Enter your monthly deposit: \"))\n",
    "\n",
    "# Calculate monthly interest (0.5%)\n",
    "monthly_rate= 0.005  # 0.5% = 0.5 / 100 = 0.005.\n",
    "\n",
    "# Update savings using assignment operators\n",
    "current_savings += current_savings * monthly_rate  # Add interest\n",
    "current_savings += monthly_deposit  # Add monthly deposit\n",
    "print(f\"Your updated savings after deposit and interest is:{current_savings:.2f}\")"
   ]
  },
  {
   "cell_type": "markdown",
   "id": "b2055caf-2404-4b90-8f14-b0fc17ca009e",
   "metadata": {},
   "source": [
    "**Q.3.develop a system that evaluates a students performance based on scores from multiple categories(e.g, tests,assignment,project and attendance).each category should have different weight,and the pgrogram should calculate the final score based on this weight.include conditions where if the attendance score falls bellow threshould,it automatically reduces the final score by a certain percentage.**"
   ]
  },
  {
   "cell_type": "code",
   "execution_count": 1,
   "id": "dd0284cf-58cb-415b-9c66-8dd921beeb95",
   "metadata": {},
   "outputs": [
    {
     "name": "stdin",
     "output_type": "stream",
     "text": [
      " Enter your Test score:  45\n",
      "Enter your Assignment score:  70\n",
      "Enter your project score :  66\n",
      "Enter your Attendance :  70\n"
     ]
    },
    {
     "name": "stdout",
     "output_type": "stream",
     "text": [
      "Your Final Score: 61.3\n"
     ]
    }
   ],
   "source": [
    "# assign the weight \n",
    "test_weight = 0.3\n",
    "assignment_weight = 0.2\n",
    "project_weight = 0.3\n",
    "attendance_weight = 0.2\n",
    "\n",
    "stud_attendance = 70  # If attendance is less than 70%\n",
    "penalty=0.1 # if you have  low attendance then your penalty is 0.1 (10%)\n",
    "\n",
    "# take input from user\n",
    "test = float(input(\" Enter your Test score: \"))\n",
    "assignment = float(input(\"Enter your Assignment score: \"))\n",
    "project = float(input(\"Enter your project score : \"))\n",
    "attendance = float(input(\"Enter your Attendance : \"))\n",
    "\n",
    "# Calculate  the total score with weights\n",
    "final_score = (test * test_weight) + (assignment * assignment_weight) + (project * project_weight) + (attendance * attendance_weight)\n",
    "\n",
    "# Check for low attendance\n",
    "if  stud_attendance < attendance:\n",
    "    print(\" student have Low attendance! Final score will be reduced.\")\n",
    "    final_score = final_score - (final_score * penalty)\n",
    "\n",
    "# Show final score\n",
    "print(\"Your Final Score:\", final_score)"
   ]
  },
  {
   "cell_type": "markdown",
   "id": "49a8373a-7356-4a73-8f0d-399633abe58e",
   "metadata": {},
   "source": [
    "**Q.2.write a program that calculate the compound interes on an initial invenstment over a given no of years.the user should input the initial amount the annual intrest rate the duration in year and a specific year when a withdrawal will be made.the program must adjust the calculation based on the withdraw**"
   ]
  },
  {
   "cell_type": "code",
   "execution_count": 3,
   "id": "97571559-8e7c-4529-8d7e-193b67aaae28",
   "metadata": {},
   "outputs": [
    {
     "name": "stdin",
     "output_type": "stream",
     "text": [
      "Enter your initial amount : 30000\n",
      "Enter your annual rate (%)  5.0\n",
      "Enter the year : 2\n",
      "enter withdraw year: 1\n",
      "Enter the amount you have withdrawal : 5000\n"
     ]
    },
    {
     "name": "stdout",
     "output_type": "stream",
     "text": [
      "Final amount is : 27825.0\n"
     ]
    }
   ],
   "source": [
    "initial_amount=float(input(\"Enter your initial amount :\")) # take initial amount from user\n",
    "annual_rate=float(input(\"Enter your annual rate (%) \"))  # take annual rate from user\n",
    "year=int(input(\"Enter the year :\")) # take year from user\n",
    "withdraw_year=int(input(\"enter withdraw year:\"))  # take withdraw year from user\n",
    "withdraw_amount=float(input(\"Enter the amount you have withdrawal :\")) # take withdraw amount from user\n",
    "\n",
    "for i in range(1,year + 1):  # range start from 1 to year + 1\n",
    "    initial_amount=initial_amount + (initial_amount *annual_rate / 100)  # add compound interest to current amount.\n",
    "    if i==withdraw_year:  # if current year is withdraw year it subtract the withdraw amount from  initial amount\n",
    "       initial_amount -=  withdraw_amount\n",
    "print(\"Final amount is :\", initial_amount)"
   ]
  },
  {
   "cell_type": "markdown",
   "id": "95cbe68e-daa3-447a-8a48-112d8249aa46",
   "metadata": {},
   "source": [
    "**Q.1.Implement a game where the computer randomly selects a number between 1 and 100,and the user has to guess it.after each guess the program tells the user whether their guess was too higher too low.**"
   ]
  },
  {
   "cell_type": "code",
   "execution_count": 3,
   "id": "fdf5489d-d7d6-4aa6-bd01-b4406984daa8",
   "metadata": {},
   "outputs": [
    {
     "name": "stdin",
     "output_type": "stream",
     "text": [
      "Guess a number between 1 and 100:  55\n"
     ]
    },
    {
     "name": "stdout",
     "output_type": "stream",
     "text": [
      "Number is Too high\n"
     ]
    },
    {
     "name": "stdin",
     "output_type": "stream",
     "text": [
      "Guess a number between 1 and 100:  50\n"
     ]
    },
    {
     "name": "stdout",
     "output_type": "stream",
     "text": [
      "correct\n"
     ]
    }
   ],
   "source": [
    "import random\n",
    "\n",
    "x = random.randint(1, 100) # to choose random number  between 1 to 100\n",
    "x=50\n",
    "while True:  # This creates an infinite loop, which keeps running until we manually break out of it\n",
    "    guess_no = int(input(\"Guess a number between 1 and 100: \"))\n",
    "    \n",
    "    if guess_no < x:\n",
    "        print(\"Number is Too low\")\n",
    "    elif guess_no > x:\n",
    "        print(\"Number is Too high\")\n",
    "    else:\n",
    "        print(\"correct\")  # if the guess is not less than and not greater than, it must be equal to x private number.\n",
    "        break"
   ]
  },
  {
   "cell_type": "markdown",
   "id": "45c0a617-5e66-4452-9372-1f0d7607d39a",
   "metadata": {},
   "source": [
    "**Q.2.write a program that takes a decimal number and convert it to binary using a loop and not using built-in-bin() function**"
   ]
  },
  {
   "cell_type": "code",
   "execution_count": 12,
   "id": "6338868a-a2f5-4798-b865-139c1332e70a",
   "metadata": {},
   "outputs": [
    {
     "name": "stdin",
     "output_type": "stream",
     "text": [
      "Enter a decimal number:  10\n"
     ]
    },
    {
     "name": "stdout",
     "output_type": "stream",
     "text": [
      "Binary number is: 1010 \n"
     ]
    }
   ],
   "source": [
    "num = int(input(\"Enter a decimal number: \"))\n",
    "binary = \" \" # create empty string (\"\")  which  is store in binary\n",
    "while num > 0:\n",
    "    binary = str(num % 2) + binary  # gets the remainder when num is divided by 2 — either 0 or 1. or  str use for to convert digit to a string \n",
    "    num//= 2\n",
    "print(\"Binary number is:\", binary)\n"
   ]
  },
  {
   "cell_type": "markdown",
   "id": "03a9283c-9fe9-4992-8eb1-e380d3e737af",
   "metadata": {},
   "source": [
    "**Q.3.write a python program to convert kilometers to miles**"
   ]
  },
  {
   "cell_type": "code",
   "execution_count": 19,
   "id": "cc698bf8-6609-4150-9dc8-c78e0b281de0",
   "metadata": {},
   "outputs": [
    {
     "name": "stdin",
     "output_type": "stream",
     "text": [
      "Enter distance in kilometers:  56\n"
     ]
    },
    {
     "name": "stdout",
     "output_type": "stream",
     "text": [
      "The conversion kilometer to miles is: 34.796776\n"
     ]
    }
   ],
   "source": [
    "kilometer_no= float(input(\"Enter distance in kilometers: \"))\n",
    "miles_convert = kilometer_no * 0.621371  # to convert kilometer to miles . 1 kilometer (km) = 0.621371 miles\n",
    "print(\"The conversion kilometer to miles is:\",miles_convert)\n"
   ]
  },
  {
   "cell_type": "markdown",
   "id": "4cd2ddc6-5544-478c-8fa5-d4c47126e797",
   "metadata": {},
   "source": [
    "**Q.4.write a python program to find number divisible by another number.**"
   ]
  },
  {
   "cell_type": "code",
   "execution_count": 32,
   "id": "e07a9cf1-36ce-4c3a-950b-4a6fcda91005",
   "metadata": {},
   "outputs": [
    {
     "name": "stdin",
     "output_type": "stream",
     "text": [
      "Enter a number:  20\n",
      "Enter the divisor:  2\n"
     ]
    },
    {
     "name": "stdout",
     "output_type": "stream",
     "text": [
      "20 is divisible by 2\n"
     ]
    }
   ],
   "source": [
    "n= int(input(\"Enter a number: \")) # take number from user\n",
    "divisor_no = int(input(\"Enter the divisor: \")) # take divisor from user\n",
    "\n",
    "if n % divisor_no== 0:  #Checks if the remainder is 0\n",
    "    print(f\"{n} is divisible by {divisor_no}\")  # If yes, prints it's divisible\n",
    "    \n",
    "else:\n",
    "    print(f\"{n} is  divisible  by another number\") # then  print divisible by another number\n"
   ]
  },
  {
   "cell_type": "markdown",
   "id": "bf778b5f-6dc8-4c0b-970c-25f8475f6dc2",
   "metadata": {},
   "source": [
    "# Function\n",
    "- Block of code that is organized the reusable to  perform a single action."
   ]
  },
  {
   "cell_type": "code",
   "execution_count": 2,
   "id": "707822dd-3a4d-408d-b245-28b23ccd7047",
   "metadata": {},
   "outputs": [
    {
     "name": "stdin",
     "output_type": "stream",
     "text": [
      "Enter the lenght: 5\n",
      "Enter the width: 4\n"
     ]
    },
    {
     "name": "stdout",
     "output_type": "stream",
     "text": [
      "Area of rectangle is : 20\n"
     ]
    }
   ],
   "source": [
    "# Area of rectangle\n",
    "def area_rectangle():  # define a fuction \n",
    "    l=int(input(\"Enter the lenght:\"))\n",
    "    w=int(input(\"Enter the width:\"))\n",
    "    return l * w # formula for area of rectangle\n",
    "area=area_rectangle()  # call function\n",
    "print(\"Area of rectangle is :\",area) "
   ]
  },
  {
   "cell_type": "markdown",
   "id": "721be583-4aaa-4bcd-9a29-f55d295ebfed",
   "metadata": {},
   "source": [
    "**Parameter**\n",
    "- it is variable used as a placeholder to store the value that we pass into the fuction.\n",
    "\n",
    "**Argument**\n",
    "- it is actual value\n",
    "- Types of argument:\n",
    "    - positional argument\n",
    "    - keyword argument\n",
    "    - variable lenght\n",
    "    - default"
   ]
  },
  {
   "cell_type": "code",
   "execution_count": 4,
   "id": "0a54e724-2ddc-496d-9add-48f7ae00d7c1",
   "metadata": {},
   "outputs": [
    {
     "name": "stdout",
     "output_type": "stream",
     "text": [
      "Name:neha,Age:22\n"
     ]
    }
   ],
   "source": [
    "# keyword argument\n",
    "def info(name,age):\n",
    "    print(f\"Name:{name},Age:{age}\")\n",
    "info(name=\"neha\",age=22) # keyword argument\n"
   ]
  },
  {
   "cell_type": "code",
   "execution_count": 10,
   "id": "f2831a5b-4507-4f2d-856a-c9eac4eb7f02",
   "metadata": {},
   "outputs": [
    {
     "name": "stdout",
     "output_type": "stream",
     "text": [
      "neha\n",
      "moni\n",
      "khushi\n"
     ]
    }
   ],
   "source": [
    "# variable length argument\n",
    "def info(*names) :# * for args\n",
    "    for name in names:\n",
    "        print(name)\n",
    "info(\"neha\",\"moni\",\"khushi\")\n"
   ]
  },
  {
   "cell_type": "code",
   "execution_count": 30,
   "id": "ac9417af-3508-475b-a7f0-6b42ded4d87c",
   "metadata": {},
   "outputs": [
    {
     "name": "stdout",
     "output_type": "stream",
     "text": [
      "Fisrt name is Neha and last name is Rikame\n",
      "Fisrt name is Neha and last name is Rikame\n"
     ]
    }
   ],
   "source": [
    "def info(**kwargs):  # ** for kwargs to take keyword argument\n",
    "    for first,last in kwargs.items():\n",
    "        print(f\"Fisrt name is {kwargs['first']} and last name is {kwargs['last']}\")\n",
    "info(first=\"Neha\",last=\"Rikame\")"
   ]
  },
  {
   "cell_type": "code",
   "execution_count": 34,
   "id": "17e3833d-d75e-4879-a212-046536f2eb2c",
   "metadata": {},
   "outputs": [
    {
     "name": "stdout",
     "output_type": "stream",
     "text": [
      "First is Neha\n",
      "Last is Rikame\n",
      "Age is 22\n"
     ]
    }
   ],
   "source": [
    "def info(**kwargs):\n",
    "    for key,value in kwargs.items():\n",
    "        print(f\"{key.capitalize()} is {value}\")  # capitalize  use for to make first letter is capital and other are small\n",
    "info(first='Neha',last='Rikame',age=22)"
   ]
  },
  {
   "cell_type": "markdown",
   "id": "e0b0ef1f-2e5d-42b2-a529-aacb7ee989b9",
   "metadata": {},
   "source": [
    "**Q.1 write a function to greet the user**"
   ]
  },
  {
   "cell_type": "code",
   "execution_count": 4,
   "id": "27889c9f-aa00-4787-b75f-d67d84892d9e",
   "metadata": {},
   "outputs": [
    {
     "name": "stdin",
     "output_type": "stream",
     "text": [
      "Enter your name Neha\n"
     ]
    },
    {
     "name": "stdout",
     "output_type": "stream",
     "text": [
      "Hello Good Morning!,Neha\n"
     ]
    }
   ],
   "source": [
    "def greet(user):  # define greet function that take user name as input\n",
    "    print(f\"Hello Good Morning!,{user}\")\n",
    "user=input(\"Enter your name\")\n",
    "greet(user) # call function"
   ]
  },
  {
   "cell_type": "markdown",
   "id": "ead2ce14-582e-4bcc-b1ff-b42c0566ebad",
   "metadata": {},
   "source": [
    "**Q.2 write a function to add two numbers.** "
   ]
  },
  {
   "cell_type": "code",
   "execution_count": 15,
   "id": "ec8dcffe-7f4d-4a1b-93a8-c5070baf4a3f",
   "metadata": {},
   "outputs": [
    {
     "name": "stdin",
     "output_type": "stream",
     "text": [
      "Enter first number: 11\n",
      "Enter second number: 22\n"
     ]
    },
    {
     "name": "stdout",
     "output_type": "stream",
     "text": [
      "Addition of two number is: 33\n"
     ]
    }
   ],
   "source": [
    "x=int(input(\"Enter first number:\"))  # take input from user\n",
    "y=int(input(\"Enter second number:\"))\n",
    "def add(x,y):  # create  add function \n",
    "        return x + y\n",
    "Addition=add(x,y)  # call function\n",
    "print(\"Addition of two number is:\",Addition)"
   ]
  },
  {
   "cell_type": "markdown",
   "id": "a027adce-fe6b-4364-91a9-58b4ebffff70",
   "metadata": {},
   "source": [
    "**Q.3.write a function to find factorial of a number.**"
   ]
  },
  {
   "cell_type": "code",
   "execution_count": 7,
   "id": "2739e304-f807-4749-ab64-d6b6494a917e",
   "metadata": {},
   "outputs": [
    {
     "name": "stdin",
     "output_type": "stream",
     "text": [
      "enter the number 5\n"
     ]
    },
    {
     "name": "stdout",
     "output_type": "stream",
     "text": [
      "factorial of 5 is 120\n"
     ]
    }
   ],
   "source": [
    "def factorial(n):\n",
    "    if n==1:  #if n is 0 it return 1\n",
    "        return 1\n",
    "    else:\n",
    "        return n * factorial(n-1) \n",
    "num=int(input(\"enter the number\"))\n",
    "print(\"factorial of\",num,\"is\",factorial(num))"
   ]
  },
  {
   "cell_type": "markdown",
   "id": "5a8b510d-bb29-4b0f-a92c-e94d69e4b8cb",
   "metadata": {},
   "source": [
    "**Q.4.define a function that return the result of raising the base to the exponent without using ** operator.**"
   ]
  },
  {
   "cell_type": "code",
   "execution_count": 5,
   "id": "72ca541a-f012-41a1-bb93-7c86028ffd82",
   "metadata": {},
   "outputs": [
    {
     "name": "stdout",
     "output_type": "stream",
     "text": [
      "25\n"
     ]
    }
   ],
   "source": [
    "def powerof(base, exponent):  # 2*2*2 (base=2,exponent=3)\n",
    "    count = 1  # initially count is 1\n",
    "    for n in range(exponent):\n",
    "        count *= base\n",
    "    return count\n",
    "\n",
    "\n",
    "print(powerof(5,2))"
   ]
  },
  {
   "cell_type": "markdown",
   "id": "68816897-d8ec-4617-834a-8ae486c3b93a",
   "metadata": {},
   "source": [
    "# Built in Fuction"
   ]
  },
  {
   "cell_type": "code",
   "execution_count": 10,
   "id": "e09abaf5-7ee0-4bf2-a0f4-dc7f8875fdee",
   "metadata": {},
   "outputs": [
    {
     "name": "stdout",
     "output_type": "stream",
     "text": [
      "[4, 8, 12, 16]\n"
     ]
    }
   ],
   "source": [
    "# map () : to modify all items in a list\n",
    "def add(x):\n",
    "    return x + x\n",
    "num=[2,4,6,8]\n",
    "res=map(add,num)\n",
    "print(list(res))\n",
    "# to add 2+2,4+4,6+6,8+8"
   ]
  },
  {
   "cell_type": "code",
   "execution_count": 12,
   "id": "12cb9f3c-e7dc-4d60-b124-71c70cd95fa6",
   "metadata": {},
   "outputs": [
    {
     "name": "stdout",
     "output_type": "stream",
     "text": [
      "[2, 10, 4, 8]\n"
     ]
    }
   ],
   "source": [
    "# filter () : to filter out items based on given condition\n",
    "def even(n):\n",
    "    return n % 2==0\n",
    "num=[2,5,10,4,7,8]\n",
    "res=filter(even,num)\n",
    "print(list(res))"
   ]
  },
  {
   "cell_type": "code",
   "execution_count": 18,
   "id": "e97bc566-fe01-44ed-9344-b335f646475b",
   "metadata": {},
   "outputs": [
    {
     "name": "stdout",
     "output_type": "stream",
     "text": [
      "168\n"
     ]
    }
   ],
   "source": [
    "# reduce (): combine all items into a single value\n",
    "# it import from functools.\n",
    "from functools import reduce\n",
    "def multi(x,y):\n",
    "    return x*y\n",
    "num=[2,4,3,7]\n",
    "res=reduce(multi,num)\n",
    "print(res)"
   ]
  },
  {
   "cell_type": "code",
   "execution_count": 22,
   "id": "a95f54b4-86b7-4a32-8c00-6a291d28b0f7",
   "metadata": {},
   "outputs": [
    {
     "name": "stdout",
     "output_type": "stream",
     "text": [
      "9\n"
     ]
    }
   ],
   "source": [
    "# lambda (): it is Anonymous function.with argument and expression\n",
    "multi=lambda x:x*x\n",
    "print(multi(3)) # 3*3\n"
   ]
  },
  {
   "cell_type": "code",
   "execution_count": 24,
   "id": "11c7212a-27d8-4b3c-8cd5-f16160f8faff",
   "metadata": {},
   "outputs": [
    {
     "name": "stdout",
     "output_type": "stream",
     "text": [
      "0 Apple\n",
      "1 banana\n",
      "2 cherry\n"
     ]
    }
   ],
   "source": [
    "# enumerate () : when we get index and value\n",
    "fruit=['Apple','banana','cherry']\n",
    "for index,fruit in enumerate(fruit):\n",
    "    print(index,fruit)"
   ]
  },
  {
   "cell_type": "code",
   "execution_count": 30,
   "id": "7de9c091-6dbd-4086-a3df-25c52656807c",
   "metadata": {},
   "outputs": [
    {
     "name": "stdout",
     "output_type": "stream",
     "text": [
      "21\n"
     ]
    }
   ],
   "source": [
    "# recursive () : function call itself\n",
    "\n",
    "def fibo(n):\n",
    "    if n<=1:  # base condition\n",
    "        return n\n",
    "    else:\n",
    "        return fibo(n-1) + fibo(n-2) # recursive call\n",
    "print(fibo(8))\n",
    "# 1,1,2,3,5,8,13,21 fibonacci series(8) -addition of previous two number"
   ]
  },
  {
   "cell_type": "markdown",
   "id": "9a3f32d6-23d3-4565-8513-efbf9dd171a1",
   "metadata": {},
   "source": [
    "**Q.1 print number from 1 to n using recursion.**"
   ]
  },
  {
   "cell_type": "code",
   "execution_count": 2,
   "id": "c5372296-2403-41a4-aafb-65b87562d428",
   "metadata": {},
   "outputs": [
    {
     "name": "stdout",
     "output_type": "stream",
     "text": [
      "1\n",
      "2\n",
      "3\n",
      "4\n",
      "5\n",
      "6\n",
      "7\n",
      "8\n",
      "9\n",
      "10\n"
     ]
    }
   ],
   "source": [
    "def number(x):\n",
    "    if x > 0:   # base condition \n",
    "        number(x-1)  # recursive call\n",
    "        print(x)\n",
    "number(10)  "
   ]
  },
  {
   "cell_type": "markdown",
   "id": "47e4081d-36eb-42f2-98ac-c83805386d57",
   "metadata": {},
   "source": [
    "**Q.2 write a recursive function to count how many digits are in a number.**"
   ]
  },
  {
   "cell_type": "code",
   "execution_count": 9,
   "id": "e706d2c2-02a0-4ab4-a046-2145f091892c",
   "metadata": {},
   "outputs": [
    {
     "name": "stdout",
     "output_type": "stream",
     "text": [
      "4\n"
     ]
    }
   ],
   "source": [
    "def digit_count(num):\n",
    "    if num < 10:  # base condition  if number is greater than 10 it return 1\n",
    "        return 1\n",
    "    return 1 + digit_count(num // 10)  # recursive call  it floor mode by 10 to remove last digit \n",
    "print(digit_count(4535))"
   ]
  },
  {
   "cell_type": "markdown",
   "id": "56c1c466-c832-4dbe-a359-433cd00763f1",
   "metadata": {},
   "source": [
    "**Q.3 write a lambda  to return the last charecter of a string**"
   ]
  },
  {
   "cell_type": "code",
   "execution_count": 16,
   "id": "0d983b18-852f-48d3-bb17-26c5f4eea05c",
   "metadata": {},
   "outputs": [
    {
     "name": "stdout",
     "output_type": "stream",
     "text": [
      "a\n"
     ]
    }
   ],
   "source": [
    "last_charecter=lambda  s: s[-1]  # -1 for getting last charecter in string\n",
    "print(last_charecter(\"Neha\"))"
   ]
  },
  {
   "cell_type": "markdown",
   "id": "17ff97f8-70fc-4199-8cff-69300dc4cb3e",
   "metadata": {},
   "source": [
    "**Q.4.use map () to find the length of each word in a sentence.**"
   ]
  },
  {
   "cell_type": "code",
   "execution_count": 19,
   "id": "1d6d0df3-e1b9-4ac9-b31f-d9eb91385b6e",
   "metadata": {},
   "outputs": [
    {
     "name": "stdin",
     "output_type": "stream",
     "text": [
      "Enter your sentence : I am good girl\n"
     ]
    },
    {
     "name": "stdout",
     "output_type": "stream",
     "text": [
      "[1, 2, 4, 4]\n"
     ]
    }
   ],
   "source": [
    "sentence=input(\"Enter your sentence :\")\n",
    "length=list(map(len,sentence.split())) # split  use for it convert the sentence into the word  and len for it count the length of each word.\n",
    "print(length)  \n",
    "# sentence is : I am good girl\n",
    "        # split : ['I','am','good','girl']\n",
    "        "
   ]
  },
  {
   "cell_type": "markdown",
   "id": "453efd78-e113-4776-8d69-20ea998a152d",
   "metadata": {},
   "source": [
    "**Q.5 use map() with a lambda to add 10 to each number in a list.**"
   ]
  },
  {
   "cell_type": "code",
   "execution_count": 24,
   "id": "1a9da1e9-b31c-45e3-b950-aec7f1c652d1",
   "metadata": {},
   "outputs": [
    {
     "name": "stdout",
     "output_type": "stream",
     "text": [
      "[21, 40, 50, 70]\n"
     ]
    }
   ],
   "source": [
    "li=[11,30,40,60]  # define a list\n",
    "result=list(map(lambda n: n+10,li)) # add 10 in each item in a list\n",
    "print(result)"
   ]
  },
  {
   "cell_type": "markdown",
   "id": "9950b45c-8cf5-4d1a-8129-9dc110280b07",
   "metadata": {},
   "source": [
    "**Q.6.use filter() to get number greater than 50 from a list.**"
   ]
  },
  {
   "cell_type": "code",
   "execution_count": 27,
   "id": "4942029d-8775-4128-a26d-2ec22572c054",
   "metadata": {},
   "outputs": [
    {
     "name": "stdout",
     "output_type": "stream",
     "text": [
      "[55, 67]\n"
     ]
    }
   ],
   "source": [
    "def greater(num):\n",
    "    return num > 50\n",
    "num=[20,55,67,50,10,40]\n",
    "result=filter(greater,num)\n",
    "print(list(result))\n"
   ]
  },
  {
   "cell_type": "markdown",
   "id": "169a79e5-d3c5-4f96-8e08-05d5001c2ecd",
   "metadata": {},
   "source": [
    "**Q.7 use reduce() to find the maximum value in a list.**"
   ]
  },
  {
   "cell_type": "code",
   "execution_count": 36,
   "id": "9d2ae7d8-bedc-44fb-bd53-3e74c8b2e1fc",
   "metadata": {},
   "outputs": [
    {
     "name": "stdout",
     "output_type": "stream",
     "text": [
      "99\n"
     ]
    }
   ],
   "source": [
    "from functools import reduce # to import reduce  use functools\n",
    "num=[10,55,70,78,99]\n",
    "result=reduce(max,num) # maximum number in the list\n",
    "print(result)"
   ]
  },
  {
   "cell_type": "markdown",
   "id": "80795a09-982f-4072-a714-63e620c0fdf4",
   "metadata": {},
   "source": [
    "# String manipulation\n",
    "- String : It is sequence of charecter  used to represent text.\n",
    "- defining a string use (\" \") or (' ')."
   ]
  },
  {
   "cell_type": "code",
   "execution_count": 2,
   "id": "2e128396-da84-44ed-ae7d-5612d75aa394",
   "metadata": {},
   "outputs": [
    {
     "name": "stdout",
     "output_type": "stream",
     "text": [
      "Hello World\n",
      "Hello\n",
      "          world\n"
     ]
    }
   ],
   "source": [
    "# Accessing charecter from string\n",
    "a=\"Hello World\"\n",
    "b=\"\"\"Hello\n",
    "          world\"\"\"\n",
    "print(a)\n",
    "print(b)"
   ]
  },
  {
   "cell_type": "code",
   "execution_count": 4,
   "id": "7c30cb27-512e-43c6-bb98-98e5fe3ad370",
   "metadata": {},
   "outputs": [
    {
     "name": "stdout",
     "output_type": "stream",
     "text": [
      "H\n",
      "d\n"
     ]
    }
   ],
   "source": [
    "print(a[0])      # syntax : string[start:end]\n",
    "print(a[-1]) # to get last charecter use (-)"
   ]
  },
  {
   "cell_type": "code",
   "execution_count": 6,
   "id": "5d6ed12f-01df-4898-92a5-433a1dd2e6e8",
   "metadata": {},
   "outputs": [
    {
     "name": "stdout",
     "output_type": "stream",
     "text": [
      "Hello\n"
     ]
    }
   ],
   "source": [
    " # syntax : string[start:end]\n",
    "print(a[0:5])"
   ]
  },
  {
   "cell_type": "code",
   "execution_count": 8,
   "id": "28e2e2be-5186-4a40-9a1d-a5cf9ed4ecf7",
   "metadata": {},
   "outputs": [
    {
     "name": "stdout",
     "output_type": "stream",
     "text": [
      "Hello\n"
     ]
    }
   ],
   "source": [
    "print(a[:5])"
   ]
  },
  {
   "cell_type": "code",
   "execution_count": 10,
   "id": "034bf199-d075-47b2-8ef9-29befbb55465",
   "metadata": {},
   "outputs": [
    {
     "name": "stdout",
     "output_type": "stream",
     "text": [
      " World\n"
     ]
    }
   ],
   "source": [
    "print(a[5:])"
   ]
  },
  {
   "cell_type": "code",
   "execution_count": 14,
   "id": "5085fd88-0286-46d6-8d2d-4c366511be50",
   "metadata": {},
   "outputs": [
    {
     "name": "stdout",
     "output_type": "stream",
     "text": [
      "llo \n"
     ]
    }
   ],
   "source": [
    "print(a[2:6])"
   ]
  },
  {
   "cell_type": "code",
   "execution_count": 16,
   "id": "9788e3d5-82ff-4c24-92e5-a0a063dde66f",
   "metadata": {},
   "outputs": [
    {
     "name": "stdout",
     "output_type": "stream",
     "text": [
      "HELLO WORLD\n",
      "hello world\n",
      "Hello world\n",
      "Hello World\n",
      "hELLO wORLD\n"
     ]
    }
   ],
   "source": [
    "# Case manipulation\n",
    "print(a.upper())  # to convert upper case\n",
    "print(a.lower())   # to convert lower case\n",
    "print(a.capitalize()) # to change first charecter of word to capital letter.\n",
    "print(a.title())  # capitlize first charecter of each word to capital letter.\n",
    "print(a.swapcase()) # to reverse upper case to lower case & lower case to upper case."
   ]
  },
  {
   "cell_type": "code",
   "execution_count": 18,
   "id": "03700a2d-7aad-4720-bb65-e06b0464b57b",
   "metadata": {},
   "outputs": [
    {
     "name": "stdout",
     "output_type": "stream",
     "text": [
      "    I like Mango    \n",
      "I like Mango    \n",
      "    I like Mango\n",
      "I like Mango\n"
     ]
    }
   ],
   "source": [
    "# removing white space\n",
    "c=\"    I like Mango    \"\n",
    "print(c)\n",
    "print(c.lstrip())  # remove space from left side\n",
    "print(c.rstrip()) # remove space from right side\n",
    "print(c.strip()) # remove space from both the ends of string.\n"
   ]
  },
  {
   "cell_type": "code",
   "execution_count": 30,
   "id": "f0c67abe-81fa-496f-a11a-24751c7e5917",
   "metadata": {},
   "outputs": [
    {
     "name": "stdout",
     "output_type": "stream",
     "text": [
      "Apple,Cherry,Mango\n",
      "['Apple', 'Cherry', 'Mango']\n",
      "Apple-Cherry-Mango\n"
     ]
    }
   ],
   "source": [
    "# Split and join\n",
    "x=\"Apple,Cherry,Mango\"\n",
    "x_split=x.split(\",\")  # split for break into the parts\n",
    "x_join=\"-\".join(x_split)  # join for connect the part\n",
    "print(x)\n",
    "print(x_split)\n",
    "print(x_join)"
   ]
  },
  {
   "cell_type": "code",
   "execution_count": 32,
   "id": "e2c1cd6b-852d-423b-a76c-e43d4c336d72",
   "metadata": {},
   "outputs": [
    {
     "name": "stdout",
     "output_type": "stream",
     "text": [
      "False\n",
      "True\n",
      "False\n"
     ]
    }
   ],
   "source": [
    "# String checking (it return true or false based on the condition)\n",
    "e=\"Hello123\"\n",
    "print(e.isalpha()) # check the string has only alphabets.\n",
    "print(e.isalnum())  # check the string is  alphanumeric (albhabet or numbers)\n",
    "print(e.isdigit()) # check the string  has only digits."
   ]
  },
  {
   "cell_type": "code",
   "execution_count": 34,
   "id": "ecc26491-530b-4af1-90bd-89ad80a24cb0",
   "metadata": {},
   "outputs": [
    {
     "name": "stdout",
     "output_type": "stream",
     "text": [
      "5\n",
      "-1\n",
      "Data Science is Cool\n"
     ]
    }
   ],
   "source": [
    "# Find and replace\n",
    "# Find :  It find the word in the string\n",
    "# replace : It repalce the string to the old string to new string.\n",
    "f=\"Data Science is Fun\"\n",
    "print(f.find(\"Science\"))\n",
    "print(f.find(\"Cool\"))\n",
    "\n",
    "print(f.replace(\"Fun\",\"Cool\"))"
   ]
  },
  {
   "cell_type": "code",
   "execution_count": 38,
   "id": "a5aea9ea-1c82-42df-bfa4-050d93688e11",
   "metadata": {},
   "outputs": [
    {
     "name": "stdout",
     "output_type": "stream",
     "text": [
      "aaheN\n",
      "5\n",
      "2\n"
     ]
    }
   ],
   "source": [
    "# Reverse string (Reversing the sequence of the string)\n",
    "g=\"Nehaa\"\n",
    "print(g[::-1])\n",
    "print(len(g)) # to finding  length\n",
    "print(g.count(\"a\")) #  count for it return te number of times the charecter string has been repated\n"
   ]
  },
  {
   "cell_type": "code",
   "execution_count": 42,
   "id": "e6314424-b3cd-4935-a69a-855f0cc47514",
   "metadata": {},
   "outputs": [
    {
     "name": "stdout",
     "output_type": "stream",
     "text": [
      " My name is Neha and I am from Pune\n"
     ]
    }
   ],
   "source": [
    "# for embedding the string\n",
    "n=\"Neha\"\n",
    "m=\"Pune\"\n",
    "print(f\" My name is {n} and I am from {m}\")"
   ]
  },
  {
   "cell_type": "markdown",
   "id": "dd0ff7d7-417e-47d2-a8a5-cf575b378cdf",
   "metadata": {},
   "source": [
    "**Q.1 Write a Python program that takes a string from the user and prints the number of characters in it.**"
   ]
  },
  {
   "cell_type": "code",
   "execution_count": 51,
   "id": "e989f21f-ea95-4dc5-87e9-fa1f7c63cdc2",
   "metadata": {},
   "outputs": [
    {
     "name": "stdin",
     "output_type": "stream",
     "text": [
      "Enter the string: colorfull\n"
     ]
    },
    {
     "name": "stdout",
     "output_type": "stream",
     "text": [
      "9\n"
     ]
    }
   ],
   "source": [
    "s = input(\"Enter the string:\")\n",
    "\n",
    "# Count the characters using len() function\n",
    "count_char = len(s)\n",
    "\n",
    "print(count_char)  "
   ]
  },
  {
   "cell_type": "markdown",
   "id": "46f87e38-7504-49e4-b0f1-b4fe49861710",
   "metadata": {},
   "source": [
    "**Q.2 Take a string from the user and print its first and last characters.**"
   ]
  },
  {
   "cell_type": "code",
   "execution_count": 58,
   "id": "711aeba8-0225-4921-84c3-a521af88c136",
   "metadata": {},
   "outputs": [
    {
     "name": "stdin",
     "output_type": "stream",
     "text": [
      "Enter your string: Neha\n"
     ]
    },
    {
     "name": "stdout",
     "output_type": "stream",
     "text": [
      "First charecter is : N\n",
      "Last charecter is : a\n"
     ]
    }
   ],
   "source": [
    "char=input(\"Enter your string:\") #take  input from user\n",
    "print(\"First charecter is :\",char[0]) # for fisrt charecter\n",
    "print(\"Last charecter is :\",char[-1]) # for last charecter use (-) sign"
   ]
  },
  {
   "cell_type": "markdown",
   "id": "84e89de4-3687-4783-b68b-59fff2559d12",
   "metadata": {},
   "source": [
    "**Q.3 Take a string and check if it contains only digits.**"
   ]
  },
  {
   "cell_type": "code",
   "execution_count": 67,
   "id": "1fd16eff-872a-461b-8837-a7bd4dfd65c4",
   "metadata": {},
   "outputs": [
    {
     "name": "stdin",
     "output_type": "stream",
     "text": [
      "Enter your string to check contain it digit or not : 123\n"
     ]
    },
    {
     "name": "stdout",
     "output_type": "stream",
     "text": [
      "True\n"
     ]
    }
   ],
   "source": [
    "a=input(\"Enter your string to check contain it digit or not :\")\n",
    "print(a.isdigit())"
   ]
  },
  {
   "cell_type": "markdown",
   "id": "a2e76a6f-8be8-4508-9860-4c30cca3f828",
   "metadata": {},
   "source": [
    "**Q.4 Take a string and a character from the user. Count how many times the character appears in the string.**"
   ]
  },
  {
   "cell_type": "code",
   "execution_count": 74,
   "id": "a5cfb930-ff20-43e7-b751-be71d675ebee",
   "metadata": {},
   "outputs": [
    {
     "name": "stdin",
     "output_type": "stream",
     "text": [
      "Enter the string : mohini\n",
      "Enter the charecter which you want : i\n"
     ]
    },
    {
     "name": "stdout",
     "output_type": "stream",
     "text": [
      "2\n"
     ]
    }
   ],
   "source": [
    "s=input(\"Enter the string :\") #  to take string from user \n",
    "c=input(\"Enter the charecter which you want :\") # to take charecter from user which you count\n",
    "print(s.count(c)) # count for to count the charecter which is repeted."
   ]
  },
  {
   "cell_type": "markdown",
   "id": "8494cf15-7c98-4fcb-8d02-0b15a4cc78ea",
   "metadata": {},
   "source": [
    "**Q.5 Take a sentence, a word to replace, and the new word from the user. Replace it in the sentence.**"
   ]
  },
  {
   "cell_type": "code",
   "execution_count": 89,
   "id": "1948fd56-139d-4a8e-a913-9e634ad3b7b9",
   "metadata": {},
   "outputs": [
    {
     "name": "stdin",
     "output_type": "stream",
     "text": [
      "Enter your sentence : I like mango\n",
      "Enter old word which you want to replace mango\n",
      "Enter New word which you want  to add it! chocolate\n"
     ]
    },
    {
     "name": "stdout",
     "output_type": "stream",
     "text": [
      "I like chocolate\n"
     ]
    }
   ],
   "source": [
    "sentence=input(\"Enter your sentence :\")  # to take sentence\n",
    "old_word=input(\"Enter old word which you want to replace\") # to take old word to replace\n",
    "new_word=input(\"Enter New word which you want  to add it!\") # to take new word to add in sentence \n",
    "New_sentence=sentence.replace(old_word,new_word)  # to relace old word to new word use (replace) method\n",
    "print(New_sentence)"
   ]
  },
  {
   "cell_type": "markdown",
   "id": "ba7e87d6-f14a-420d-95a7-fc31f132e438",
   "metadata": {},
   "source": [
    "**Q.6 Take a string and print it in reverse order.**"
   ]
  },
  {
   "cell_type": "code",
   "execution_count": 98,
   "id": "c02f3659-d673-4b10-abf9-772bfd0f23ae",
   "metadata": {},
   "outputs": [
    {
     "name": "stdout",
     "output_type": "stream",
     "text": [
      "noonretfA dooG\n"
     ]
    }
   ],
   "source": [
    "s=\"Good Afternoon\"\n",
    "print(s[::-1]) # to reverse the string"
   ]
  },
  {
   "cell_type": "markdown",
   "id": "b0f51325-60fd-4983-998b-3e2a9c08dc60",
   "metadata": {},
   "source": [
    "**Q.7 Take a comma-separated string from the user and split it into a list.**"
   ]
  },
  {
   "cell_type": "code",
   "execution_count": 107,
   "id": "e9c9ced3-062c-4922-a143-9cfa4f8400fa",
   "metadata": {},
   "outputs": [
    {
     "name": "stdin",
     "output_type": "stream",
     "text": [
      "Enter the comma seprated string :  neha,mohini,khushi\n"
     ]
    },
    {
     "name": "stdout",
     "output_type": "stream",
     "text": [
      "['neha', 'mohini', 'khushi']\n"
     ]
    }
   ],
   "source": [
    "s= input(\"Enter the comma seprated string : \") # take string from user\n",
    "separated = s.split(\",\") # split the values by \",\"\n",
    "print(separated)"
   ]
  },
  {
   "cell_type": "markdown",
   "id": "5a15b2e5-d4d9-4f47-9587-69f542b200d6",
   "metadata": {},
   "source": [
    "**Q.8 Take a string input and check whether it is a palindrome (same forward and backward).**"
   ]
  },
  {
   "cell_type": "code",
   "execution_count": 116,
   "id": "08309bc5-e7e3-420c-8331-9313d074a3c8",
   "metadata": {},
   "outputs": [
    {
     "name": "stdin",
     "output_type": "stream",
     "text": [
      "Enter a string : madam\n"
     ]
    },
    {
     "name": "stdout",
     "output_type": "stream",
     "text": [
      "It is palindrom\n"
     ]
    }
   ],
   "source": [
    "x=input(\"Enter a string :\")\n",
    "if x==x[::-1]:\n",
    "    print(\"It is palindrom\")\n",
    "else:\n",
    "    print(\"Not a palindrom\")"
   ]
  },
  {
   "cell_type": "markdown",
   "id": "f96b9028-9f3a-49fd-b40f-24620e8f8c0b",
   "metadata": {},
   "source": [
    "**Q.9 Take first name and last name from the user, and print a username in the format firstname.lastname (all lowercase).**"
   ]
  },
  {
   "cell_type": "code",
   "execution_count": 123,
   "id": "665d29ba-cdfb-41fe-bfd9-ca1ff6a342f0",
   "metadata": {},
   "outputs": [
    {
     "name": "stdin",
     "output_type": "stream",
     "text": [
      "Enter first name : Neha\n",
      "Enter last name : Rikame\n"
     ]
    },
    {
     "name": "stdout",
     "output_type": "stream",
     "text": [
      "neha.rikame\n"
     ]
    }
   ],
   "source": [
    "f=input(\"Enter first name :\") # to get first name\n",
    "l=input(\"Enter last name :\") # to get last name\n",
    "\n",
    "print(f.lower() + \".\" + l.lower())  # + to join or concatinate the  two string and lower for to get all  string in lower case."
   ]
  },
  {
   "cell_type": "markdown",
   "id": "9d81ed6a-a2ab-4f31-8473-6f93fb8207f6",
   "metadata": {},
   "source": [
    "**Q.10 Take an email address from the user and extract the domain name (text after the @).**"
   ]
  },
  {
   "cell_type": "code",
   "execution_count": 134,
   "id": "b7aee6e3-0be2-4122-84bd-6a314c19e1c9",
   "metadata": {},
   "outputs": [
    {
     "name": "stdin",
     "output_type": "stream",
     "text": [
      "Enter your email:  maharashtra@1234\n"
     ]
    },
    {
     "name": "stdout",
     "output_type": "stream",
     "text": [
      "Domain is: 1234\n"
     ]
    }
   ],
   "source": [
    "email_add = input(\"Enter your email: \")\n",
    "domain_name = email_add.split(\"@\")[1]  #(1 for to get text after @ sign)\n",
    "print(\"Domain is:\",domain_name)"
   ]
  },
  {
   "cell_type": "markdown",
   "id": "8efe4272-78e2-42d4-ae6b-1097f674d595",
   "metadata": {},
   "source": [
    "# List\n",
    "- list is collection of items.sorted in specific order.\n",
    "- list is mutable.(it can be changed)\n",
    "- list is denoted by [ ].\n",
    "  "
   ]
  },
  {
   "cell_type": "code",
   "execution_count": 2,
   "id": "c098b939-cd5d-41f9-b0e6-0839d7d5d65c",
   "metadata": {},
   "outputs": [
    {
     "name": "stdout",
     "output_type": "stream",
     "text": [
      "6\n",
      "10\n",
      "1\n",
      "29\n",
      "[1, 3, 4, 5, 6, 10]\n",
      "['a', '2', '3.5', '4']\n",
      "['N', 'e', 'h', 'a']\n"
     ]
    }
   ],
   "source": [
    "# list function\n",
    "a=[1,4,3,6,5,10]\n",
    "print(len(a)) # finding the count of items.\n",
    "print(max(a)) # finding the maximum value \n",
    "print(min(a)) # finding the minimum value\n",
    "print(sum(a)) # to get total of all the items\n",
    "print(sorted(a)) # sort the list\n",
    "\n",
    "c=('a','2','3.5','4') # tuple to list conversion\n",
    "print(list(c))\n",
    "\n",
    "b=\"Neha\" # string to list conversion\n",
    "print(list(b))\n"
   ]
  },
  {
   "cell_type": "markdown",
   "id": "9ed52300-5dad-43c1-9dc5-952e6a43333c",
   "metadata": {},
   "source": [
    "**Q.1 Take a list of integers from the user and a new number to add. Append it to the list and print the result.**"
   ]
  },
  {
   "cell_type": "code",
   "execution_count": 6,
   "id": "9aa5ae7c-7b81-4d8c-8b7b-959328e4639f",
   "metadata": {},
   "outputs": [
    {
     "name": "stdout",
     "output_type": "stream",
     "text": [
      "[1, 4, 3, 6, 5, 10, 2]\n",
      "[1, 4, 3, 6, 5, 10, 2, 8, 11, 14, 15]\n",
      "[35, 24, 25, 63]\n",
      "[35, 24, 25]\n",
      "[]\n",
      "2\n",
      "1\n",
      "[1, 2, 3, 4, 5, 6, 8, 10, 11, 14, 15]\n",
      "[15, 14, 11, 10, 8, 6, 5, 4, 3, 2, 1]\n",
      "[2, 4, 8, 10]\n",
      "[10, 8, 4, 2]\n",
      "[10, 8, 4, 2]\n",
      "8\n",
      "[10, 4, 2]\n"
     ]
    }
   ],
   "source": [
    "# List metod\n",
    "a=[1,4,3,6,5,10]\n",
    "a.append(2) # adding the item to the list\n",
    "print(a)\n",
    "\n",
    "b=[8,11,14,15]\n",
    "a.extend(b) # adding multiple item\n",
    "print(a)\n",
    "\n",
    "c=[35,25,63]\n",
    "c.insert(1,24) # adding item to specific index (1-index,24-value)\n",
    "print(c)\n",
    "\n",
    "c.remove(63) # removing an item\n",
    "print(c)\n",
    "\n",
    "c.clear() # remove all the items\n",
    "print(c)\n",
    "\n",
    "print(a.index(3)) # return the index value\n",
    "\n",
    "print(a.count(2)) # return the count of occurance in the list\n",
    "\n",
    "a.sort() # to sort the item\n",
    "print(a)\n",
    "a.sort(reverse=True) # sorting for the list in descending order\n",
    "print(a)\n",
    "\n",
    "d=[2,4,8,10]\n",
    "print(d)\n",
    "d.reverse() # reverse the list\n",
    "print(d)\n",
    "\n",
    "e=d.copy() # copying/duplicating the list\n",
    "print(e)\n",
    "\n",
    "print(e.pop(1)) # removing an item from the specified index\n",
    "print(e)"
   ]
  },
  {
   "cell_type": "markdown",
   "id": "22cb7c95-f9c9-44f9-9a5f-f6a8966bb262",
   "metadata": {},
   "source": [
    "**Q.1 Take a list of integer from the user and a new number to add.append it to the list and print the result.**"
   ]
  },
  {
   "cell_type": "code",
   "execution_count": 13,
   "id": "b21d72df-69e3-413f-a78c-43a2f347ebbb",
   "metadata": {},
   "outputs": [
    {
     "name": "stdin",
     "output_type": "stream",
     "text": [
      "Enter a list of integer:  10 20 30 40\n",
      "Enter a new number which you append into the list:  90\n"
     ]
    },
    {
     "name": "stdout",
     "output_type": "stream",
     "text": [
      "New list is: [10, 20, 30, 40, 90]\n"
     ]
    }
   ],
   "source": [
    "num = list(map(int, input(\"Enter a list of integer: \").split())) # split the input string into the list .\n",
    "new_num = int(input(\"Enter a new number which you append into the list: \"))\n",
    "num.append(new_num)  # append for to add number in last position\n",
    "print(\"New list is:\", num)\n"
   ]
  },
  {
   "cell_type": "markdown",
   "id": "c7df714a-19c1-4c9f-aea1-f8e90457090b",
   "metadata": {},
   "source": [
    "**Q.2 Take comma-separated input from the user and store it as a tuple. Print the tuple.**"
   ]
  },
  {
   "cell_type": "code",
   "execution_count": 16,
   "id": "1b61d6ca-2227-44f7-a3f6-043d2ccc879f",
   "metadata": {},
   "outputs": [
    {
     "name": "stdin",
     "output_type": "stream",
     "text": [
      "Enter comma-separated values:  10,20,45\n"
     ]
    },
    {
     "name": "stdout",
     "output_type": "stream",
     "text": [
      "Tuple: ('10', '20', '45')\n"
     ]
    }
   ],
   "source": [
    "x= input(\"Enter comma-separated values: \")\n",
    "comma_seprated = tuple(map(str.strip, x.split(',')))  # strip for remove space from both the end. and tuple for to convert list into the tuple\n",
    "print(\"Tuple:\", comma_seprated)"
   ]
  },
  {
   "cell_type": "markdown",
   "id": "e034fef7-ec64-47da-b42a-17fccc2107d0",
   "metadata": {},
   "source": [
    "**Q.3 Take a list from te user and convert it into the tuple.**"
   ]
  },
  {
   "cell_type": "code",
   "execution_count": 12,
   "id": "ebb59192-9650-4a0a-9f16-3068c6930599",
   "metadata": {},
   "outputs": [
    {
     "name": "stdin",
     "output_type": "stream",
     "text": [
      "Enter list : 10 30 3.4\n"
     ]
    },
    {
     "name": "stdout",
     "output_type": "stream",
     "text": [
      "New tuple conversion is : ('10', '30', '3.4')\n"
     ]
    }
   ],
   "source": [
    "li=input(\"Enter list :\").split() # take list from user\n",
    "tuple_conversion=tuple(li)  # to convert list to tuple \n",
    "print(\"New tuple conversion is :\",tuple_conversion)"
   ]
  },
  {
   "cell_type": "markdown",
   "id": "f24fae2c-8e05-44e1-b6fc-6c4985f4ba7d",
   "metadata": {},
   "source": [
    "**Q.4 Take a list of number from the user and print the total sum.**"
   ]
  },
  {
   "cell_type": "code",
   "execution_count": 19,
   "id": "490ef402-8ce1-4789-b3ec-133507badf5f",
   "metadata": {},
   "outputs": [
    {
     "name": "stdin",
     "output_type": "stream",
     "text": [
      "Enter a list of integer:  10 20 40\n"
     ]
    },
    {
     "name": "stdout",
     "output_type": "stream",
     "text": [
      "70\n"
     ]
    }
   ],
   "source": [
    "user_list = list(map(int, input(\"Enter a list of integer: \").split())) # to take integer list\n",
    "print(sum(user_list)) # sum  to total the item in the list"
   ]
  },
  {
   "cell_type": "markdown",
   "id": "6a35a5e9-8958-40eb-a295-9d2f5d33fcbc",
   "metadata": {},
   "source": [
    "**Q.5 remove all duplicate values from a list and print the unique element.**"
   ]
  },
  {
   "cell_type": "code",
   "execution_count": 28,
   "id": "8671bd09-4d49-41de-b877-135ba6cc2967",
   "metadata": {},
   "outputs": [
    {
     "name": "stdin",
     "output_type": "stream",
     "text": [
      "Enter a list of integer:  10 20 40 20\n"
     ]
    },
    {
     "name": "stdout",
     "output_type": "stream",
     "text": [
      "unique element is : [40, 10, 20]\n"
     ]
    }
   ],
   "source": [
    "num = list(map(int, input(\"Enter a list of integer: \").split()))  # to take integer list\n",
    "unique=list(set(num)) # convert list into set it automatically remove duplicate \n",
    "print(\"unique element is :\",unique)"
   ]
  },
  {
   "cell_type": "markdown",
   "id": "1a1c77ec-22d4-4c1b-bc0f-c6c9ef43d427",
   "metadata": {},
   "source": [
    "**Q.6 Take a tuple from the user convert it into the list add a new item and convert it back to a tuple.**"
   ]
  },
  {
   "cell_type": "code",
   "execution_count": 33,
   "id": "6c394ee6-acb5-4c16-8b10-b2fd80f9906a",
   "metadata": {},
   "outputs": [
    {
     "name": "stdin",
     "output_type": "stream",
     "text": [
      "Enter a tuple items: 20 16 33 49 60\n",
      "Enter a new item : 10\n"
     ]
    },
    {
     "name": "stdout",
     "output_type": "stream",
     "text": [
      "(20, 16, 33, 49, 60, 10)\n"
     ]
    }
   ],
   "source": [
    "t=tuple(map(int,input(\"Enter a tuple items:\").split()))\n",
    "l=list(t)\n",
    "new_item=int(input(\"Enter a new item :\"))\n",
    "l.append(new_item)\n",
    "new_tuple=tuple(l)\n",
    "print(new_tuple)"
   ]
  },
  {
   "cell_type": "markdown",
   "id": "884fef4c-c367-4967-8c30-7e650411166f",
   "metadata": {},
   "source": [
    "# set"
   ]
  },
  {
   "cell_type": "code",
   "execution_count": 25,
   "id": "293c0849-4872-4d15-ae96-6d46fdca527a",
   "metadata": {},
   "outputs": [
    {
     "name": "stdout",
     "output_type": "stream",
     "text": [
      "{2, 4, 6, 8, 10}\n",
      "{18, 12, 20, 14}\n",
      "{12, 14, 18, 20, 22}\n",
      "{12, 14, 18, 20, 22, 24, 26, 28}\n",
      "{12, 14, 18, 20, 22, 24, 26}\n",
      "{12, 14, 18, 20, 22, 24}\n",
      "12\n",
      "{14, 18, 20, 22, 24}\n",
      "12\n",
      "{2, 4, 6, 8, 10}\n",
      "{2, 4, 6, 8, 10, 12, 14, 16}\n",
      "{10}\n",
      "{8, 2, 4, 6}\n",
      "False\n",
      "False\n"
     ]
    }
   ],
   "source": [
    "a={2,2,4,6,8,10} # unique,unordered,mutable\n",
    "print(a)\n",
    "\n",
    "b=set([12,14,18,20]) # convert list to set\n",
    "print(b)\n",
    "\n",
    "b.add(22) # to  add a value/item we add only one element\n",
    "print(b)\n",
    " \n",
    "b.update([24,26,28]) # we add multiple element\n",
    "print(b)\n",
    "\n",
    "b.remove(28)  # remove the item but show error when the item isn't found\n",
    "print(b)\n",
    "\n",
    "b.discard(26)  # remove the item but dosen't show the error if the item isn't found\n",
    "print(b)\n",
    "\n",
    "c=b.pop() # removes and return a random item in the set\n",
    "print(c)\n",
    "print(b)\n",
    "\n",
    "b.clear() # clear the complete set\n",
    "print(c)\n",
    "\n",
    "print(a)\n",
    "\n",
    "b={10,12,14,16}\n",
    "print(a.union(b)) # return the combined element of two sets\n",
    "print(a.intersection(b)) # return the common item/values\n",
    "print(a.difference(b)) # remove the common item/values\n",
    "print(a.issubset(b)) # check if the set is subset\n",
    "print(b.issuperset(a)) # check is the set is superset"
   ]
  },
  {
   "cell_type": "markdown",
   "id": "eea9c9ac-1358-4867-8dcb-7e81a5a7971d",
   "metadata": {},
   "source": [
    "# Dictionary\n",
    "- collection of key and value pair.\n",
    "- where each key is unique."
   ]
  },
  {
   "cell_type": "code",
   "execution_count": 4,
   "id": "924fd171-ed97-45f4-a591-deb021262bc8",
   "metadata": {},
   "outputs": [
    {
     "name": "stdout",
     "output_type": "stream",
     "text": [
      "abc\n",
      "dict_keys(['name', 'age', 'dept', 'city'])\n",
      "dict_values(['abc', 26, 'IT', 'pune'])\n",
      "name - abc\n",
      "age - 26\n",
      "dept - IT\n",
      "city - pune\n",
      "{'name': 'abc', 'age': 22, 'dept': 'IT', 'city': 'pune', 'desg': 'Associate'}\n"
     ]
    }
   ],
   "source": [
    "emp={\"name\":\"abc\",\"age\":26,\"dept\":\"IT\",\"city\":\"pune\"}\n",
    "\n",
    "print(emp.get(\"name\")) # return the values of the key\n",
    "print(emp.keys()) # return all keys\n",
    "print(emp.values()) # return all values\n",
    "\n",
    "for k,v in emp.items(): # return key value pair as tuple\n",
    "    print(k,\"-\",v)\n",
    "\n",
    "emp.update({\"age\":22,\"desg\":\"Associate\"}) # adds or update the key value pair\n",
    "print(emp)"
   ]
  },
  {
   "cell_type": "code",
   "execution_count": 6,
   "id": "3e926332-ed5f-4a62-ac23-293e2fef8c92",
   "metadata": {},
   "outputs": [
    {
     "data": {
      "text/plain": [
       "('desg', 'Associate')"
      ]
     },
     "execution_count": 6,
     "metadata": {},
     "output_type": "execute_result"
    }
   ],
   "source": [
    "emp.popitem() # return and remove the last addeditem"
   ]
  },
  {
   "cell_type": "code",
   "execution_count": 10,
   "id": "f0a9712c-216a-4dde-8f7b-d44de2a02288",
   "metadata": {},
   "outputs": [
    {
     "name": "stdout",
     "output_type": "stream",
     "text": [
      "{'name': 'abc', 'age': 22, 'dept': 'IT', 'city': 'pune', 'comp': 'xyz'}\n"
     ]
    }
   ],
   "source": [
    "emp.setdefault(\"comp\",\"xyz\") # return value if key exists,if it dosn't than adds the key with default value\n",
    "print(emp)"
   ]
  },
  {
   "cell_type": "code",
   "execution_count": 12,
   "id": "1a35b195-74aa-45b9-ae20-78a02baba236",
   "metadata": {},
   "outputs": [],
   "source": [
    "a=emp.copy() # copies the dictionary\n",
    "emp.clear() # clear the dictionary and return the empty dict"
   ]
  },
  {
   "cell_type": "markdown",
   "id": "45510682-9938-48b8-b439-7ea20cc135b2",
   "metadata": {},
   "source": [
    "**Q.1 Take two sets from the user and print union and intersection.**"
   ]
  },
  {
   "cell_type": "code",
   "execution_count": 15,
   "id": "57f2499d-4177-4bda-93ad-6e08afd6a47c",
   "metadata": {},
   "outputs": [
    {
     "name": "stdin",
     "output_type": "stream",
     "text": [
      "Enter the elements: 1 2 3 4 5\n",
      "Enter the elements: 4 5 6 7 8\n"
     ]
    },
    {
     "name": "stdout",
     "output_type": "stream",
     "text": [
      "The union set is: {1, 2, 3, 4, 5, 6, 7, 8}\n",
      "The intersection set is : {4, 5}\n"
     ]
    }
   ],
   "source": [
    "set_1=set(map(int,input(\"Enter the elements:\").split())) # take first set from user\n",
    "set_2=set(map(int,input(\"Enter the elements:\").split())) # take second set from user\n",
    "\n",
    "union=set_1.union(set_2)  # to find union\n",
    "print(\"The union set is:\",union)\n",
    "\n",
    "intersection=set_1.intersection(set_2) # to find intersection\n",
    "print(\"The intersection set is :\",intersection)"
   ]
  },
  {
   "cell_type": "markdown",
   "id": "2743926a-5b5a-4594-b2cd-09a73b1f353f",
   "metadata": {},
   "source": [
    "**Q.2 Take a list with repeated element and remove duplicate using a set.**"
   ]
  },
  {
   "cell_type": "code",
   "execution_count": 20,
   "id": "6cb6adeb-aeaa-4ab3-b736-84ba8a1ba56c",
   "metadata": {},
   "outputs": [
    {
     "name": "stdin",
     "output_type": "stream",
     "text": [
      "Enter the list elements: 1 3 1 4 5 3 8\n"
     ]
    },
    {
     "name": "stdout",
     "output_type": "stream",
     "text": [
      "After the removing duplicate element new list is: [1, 3, 4, 5, 8]\n"
     ]
    }
   ],
   "source": [
    "l=list(map(int,input(\"Enter the list elements:\").split())) # take list from user\n",
    "\n",
    "remove_duplicate=list(set(l)) # removing duplicate using set\n",
    "print(\"After the removing duplicate element new list is:\",remove_duplicate)"
   ]
  },
  {
   "cell_type": "markdown",
   "id": "ec164a50-7402-49d3-b05d-faa55466db71",
   "metadata": {},
   "source": [
    "**Q.3 Take two dictionaries and merge them.**"
   ]
  },
  {
   "cell_type": "code",
   "execution_count": 29,
   "id": "500903c4-4adf-427f-b5fc-49de879faaed",
   "metadata": {},
   "outputs": [
    {
     "name": "stdout",
     "output_type": "stream",
     "text": [
      "The merged dictionary is: {'name': 'neha', 'age': 22, 'city': 'pune', 'degree': 'BSC', 'phone': 86743256657}\n"
     ]
    }
   ],
   "source": [
    "dict_1={\"name\":\"neha\",\"age\":22,\"city\":\"pune\"} # take fist dictionary\n",
    "dict_2={\"degree\":\"BSC\",\"phone\":86743256657} # take second dictionary\n",
    "merged_dict= dict_1|dict_2  # to merge two dictionary\n",
    "print(\"The merged dictionary is:\",merged_dict)"
   ]
  },
  {
   "cell_type": "markdown",
   "id": "bcabce5c-d8e4-4cac-9cda-822930a01c04",
   "metadata": {},
   "source": [
    "**Q.4 Write a program to read 3 sentences from the user and return a set of all unique word(case-insensitive).**"
   ]
  },
  {
   "cell_type": "code",
   "execution_count": 34,
   "id": "f1f1a97d-69f5-4077-b5a3-3797d2489a89",
   "metadata": {},
   "outputs": [
    {
     "name": "stdin",
     "output_type": "stream",
     "text": [
      "Enter first sentence: the quick brown fox\n",
      "Enter Second sentence: a quick fox jump\n",
      "Enter third sentence: the lazy fox\n"
     ]
    },
    {
     "name": "stdout",
     "output_type": "stream",
     "text": [
      "Set of all unique word is: {'brown', 'jumpthe', 'lazy', 'foxa', 'the', 'fox', 'quick'}\n"
     ]
    }
   ],
   "source": [
    "# take 3 sentence from user in lower case\n",
    "sentence_1=input(\"Enter first sentence:\").lower() \n",
    "sentence_2=input(\"Enter Second sentence:\").lower()\n",
    "sentence_3=input(\"Enter third sentence:\").lower()\n",
    "\n",
    "New_sentence=sentence_1 + \"\" +sentence_2 + \"\" +sentence_3 # merge this three sentences\n",
    "unique_word=set(New_sentence.split()) \n",
    "print(\"Set of all unique word is:\",unique_word)"
   ]
  },
  {
   "cell_type": "markdown",
   "id": "91f3b436-49f4-47bb-81b0-7b1152403277",
   "metadata": {},
   "source": [
    "**Q.5 created a nested dictionary where keys are student names and values are another ditionary with subjectmarks pairs.then print the average marks of each student.**"
   ]
  },
  {
   "cell_type": "code",
   "execution_count": 39,
   "id": "d1832d3e-bc8f-4702-bb3b-36081136d769",
   "metadata": {},
   "outputs": [
    {
     "name": "stdout",
     "output_type": "stream",
     "text": [
      "Average marks for neha: 89.0\n",
      "Average marks for mohini: 86.66666666666667\n",
      "Average marks for khushi: 80.0\n"
     ]
    }
   ],
   "source": [
    "def average_marks(student): # define the function\n",
    "    for stud_name, stud_marks in student.items(): # student.items display key value tuple pair\n",
    "        total_marks = sum(stud_marks.values()) # sum of all the marks \n",
    "        num_subjects = len(stud_marks) # it return the number of items in dictionary\n",
    "        average_marks = total_marks / num_subjects  # to calculate average marks \n",
    "        print(f\"Average marks for {stud_name}: {average_marks}\")\n",
    "student = {\n",
    "    \"neha\": {\"Math\": 80, \"Science\": 99, \"English\": 88},\n",
    "    \"mohini\": {\"Math\": 90, \"Science\": 88, \"English\": 82},  # to create nested dictionary\n",
    "    \"khushi\": {\"Math\": 75, \"Science\": 80, \"English\": 85}\n",
    "}\n",
    "\n",
    "average_marks(student) # call the function"
   ]
  },
  {
   "cell_type": "markdown",
   "id": "e515189d-bf3f-4407-b51c-a0ec7cfe481e",
   "metadata": {},
   "source": [
    "**Q.6 Given a list of dictionaries,merge them into one and sum values for keys that appear multiple times.**"
   ]
  },
  {
   "cell_type": "code",
   "execution_count": 3,
   "id": "73d38713-a7ea-4dd1-940d-cf075fc75f1a",
   "metadata": {},
   "outputs": [
    {
     "name": "stdout",
     "output_type": "stream",
     "text": [
      "Merged dictionary is by adding their  values are:\n",
      "{'a': 13, 'b': 10, 'c': 11, 'd': 5}\n"
     ]
    }
   ],
   "source": [
    "li = [\n",
    "    {'a': 1, 'b': 6},   # take dictionary  in list\n",
    "    {'a': 7, 'c': 8},\n",
    "    {'b': 4, 'd': 5},\n",
    "    {'c': 3, 'a': 5}\n",
    "]\n",
    "merged_dictionary = {}  # create empty dictionary\n",
    "\n",
    "for dicts in li:  # to  take dictionary one by one from list\n",
    "    for key, value in dicts.items():  # to seprate key and value from dictionary\n",
    "        if key in merged_dictionary:   # to check we take dictionary from list those key are present in other dictionary or not\n",
    "            merged_dictionary[key] += value   # if key are present then add the values\n",
    "        else:\n",
    "            merged_dictionary[key] = value      \n",
    "\n",
    "print(\"Merged dictionary is by adding their  values are:\")\n",
    "print(merged_dictionary)"
   ]
  },
  {
   "cell_type": "markdown",
   "id": "b25aebfb-dd40-4497-9405-a7b7b495448f",
   "metadata": {},
   "source": [
    "**Q.1  Write a Python program that takes a password as input and checks if it meets the following requirements:**\n",
    "\n",
    "- The password should be at least 8 characters long.\n",
    "- The password should contain at least one uppercase letter.\n",
    "- The password should contain at least one lowercase letter.\n",
    "- The password should contain at least one digit.\n"
   ]
  },
  {
   "cell_type": "code",
   "execution_count": 25,
   "id": "24f9d03e-ec1c-47ce-9877-a533a70abd93",
   "metadata": {},
   "outputs": [
    {
     "name": "stdin",
     "output_type": "stream",
     "text": [
      "Enter your password : Neha1234\n"
     ]
    },
    {
     "name": "stdout",
     "output_type": "stream",
     "text": [
      "correct password!\n"
     ]
    }
   ],
   "source": [
    "user_password=input(\"Enter your password :\") # take input from user\n",
    "if(len(user_password)>=8 and  any (char.isupper() for char in user_password) and  # len(user_password)>=8 for password length  atleat 8 charecter.\n",
    "   any(char.islower() for char in user_password) and  # any (char.isupper()  this shows The password should contain at least one uppercase letter. any use for if we find any uppercase letter in password they return true. \n",
    "   any (char.isdigit() for char in user_password)):   # char.islower() for password contain lower letter also.  char.isdigit() for it contain  atleast one digit\n",
    "    print(\"correct password!\")\n",
    "else:\n",
    "    print(\"Enter correct password\")"
   ]
  },
  {
   "cell_type": "markdown",
   "id": "42ea6b12-43fa-4351-9553-d7851133e45e",
   "metadata": {},
   "source": [
    "**Q.2 Write a Python program that takes two strings as input and checks if they're anagrams (i.e., the strings contain the same characters, but in a different order). If the strings are anagrams, the program should print \"The strings are anagrams.\" Otherwise, it should print \"The strings are not anagrams.\"**"
   ]
  },
  {
   "cell_type": "code",
   "execution_count": 1,
   "id": "8ecb3abb-de8e-4f34-a7f8-64367acc868c",
   "metadata": {},
   "outputs": [
    {
     "name": "stdin",
     "output_type": "stream",
     "text": [
      "Enter first string : care\n",
      "Enter second string : race\n"
     ]
    },
    {
     "name": "stdout",
     "output_type": "stream",
     "text": [
      "The string are anagrams\n"
     ]
    }
   ],
   "source": [
    "string_1=input(\"Enter first string :\").lower() # take first string from user in lower case \n",
    "string_2=input(\"Enter second string :\").lower() # take second string from  user in lower case\n",
    "if sorted(string_1) == sorted(string_2): # sorted for to arrange the string in sorted order  if the sorted charecter of the both string are match they are anagram\n",
    "    print(\"The string are anagrams\")\n",
    "else:\n",
    "    print(\"The string are not anagrams\")"
   ]
  },
  {
   "cell_type": "markdown",
   "id": "48aa8164-f234-4bf4-80ff-6c16c7108a63",
   "metadata": {},
   "source": [
    "# Exception Handling\n",
    "- It handling the error that occur during the program execution.\n",
    "\n",
    "**Type of Exception handling:**\n",
    "- try: If the error occur they immediately move to the except block.\n",
    "- except : It catch the error throws by the  try block.\n",
    "- else : It is optional in else block has no exception raised then this block execute.\n",
    "- finally : It is optional.use for cleanup."
   ]
  },
  {
   "cell_type": "code",
   "execution_count": 4,
   "id": "081d2e2f-3c10-4e55-8582-280aabc669a9",
   "metadata": {},
   "outputs": [
    {
     "name": "stdin",
     "output_type": "stream",
     "text": [
      "Enter he number 10\n"
     ]
    },
    {
     "name": "stdout",
     "output_type": "stream",
     "text": [
      "no error\n",
      "10\n"
     ]
    }
   ],
   "source": [
    "try:\n",
    "    a=int(input(\"Enter he number\")) # code that raises an exception\n",
    "except ValueError:\n",
    "    print(\"please enter a number\") # code that runs if an exception occurs\n",
    "else:\n",
    "    print(\"no error\")  # runs if no exception is raises\n",
    "finally:     # runs no matter what\n",
    "    print(a)"
   ]
  },
  {
   "cell_type": "code",
   "execution_count": 8,
   "id": "2ba0d8ae-3a4a-4012-988f-39191ef03fb2",
   "metadata": {},
   "outputs": [
    {
     "name": "stdin",
     "output_type": "stream",
     "text": [
      "enter a number 7\n"
     ]
    },
    {
     "name": "stdout",
     "output_type": "stream",
     "text": [
      "0.2857142857142857\n"
     ]
    }
   ],
   "source": [
    "try:\n",
    "    num=int(input(\"enter a number\"))\n",
    "    x=2/num\n",
    "except ValueError: # when user give string/charecter\n",
    "    print(\"Invalid! please enter a number\")\n",
    "except ZeroDivisionError:  # when user give 0 number then they showsZeroDivisionError\n",
    "    print(\"please enter a number a lager than zero\")\n",
    "else:\n",
    "  print(x)"
   ]
  },
  {
   "cell_type": "code",
   "execution_count": 10,
   "id": "8dea1a63-0023-4d9c-9b0d-025ea4e0c884",
   "metadata": {},
   "outputs": [
    {
     "name": "stdin",
     "output_type": "stream",
     "text": [
      "Enter first number 3\n",
      "Enter second number 5\n"
     ]
    },
    {
     "name": "stdout",
     "output_type": "stream",
     "text": [
      "Division is: 0.6\n"
     ]
    }
   ],
   "source": [
    "try:\n",
    "    n1=int(input(\"Enter first number\"))  \n",
    "    n2=int(input(\"Enter second number\"))\n",
    "    print(\"Division is:\",n1/n2)\n",
    "except(Valueerror,ZeroDivisionError) as e:\n",
    "    print(\"Error:\",e)"
   ]
  },
  {
   "cell_type": "markdown",
   "id": "3589da99-4c42-4db7-a53a-4afd72b8879b",
   "metadata": {},
   "source": [
    "**Q.1 user has 5,000Rs in balance.ask how much to to withdraw.handle non-numeric input and insufficient balance.**"
   ]
  },
  {
   "cell_type": "code",
   "execution_count": 10,
   "id": "e5b270df-d636-458a-a7a1-975431af97bc",
   "metadata": {},
   "outputs": [
    {
     "name": "stdin",
     "output_type": "stream",
     "text": [
      "Enter amount to withdraw:  neha\n"
     ]
    },
    {
     "name": "stdout",
     "output_type": "stream",
     "text": [
      "please enter a number:\n"
     ]
    }
   ],
   "source": [
    "initial_balance = 5000 # initial balance\n",
    "\n",
    "try:\n",
    "    withdraw_amount= float(input(\"Enter amount to withdraw: \"))  # Get the withdraw amount  from the user\n",
    "    if withdraw_amount > initial_balance:\n",
    "        print(\"User have Insufficient balance.\")  # check if withdraw amount is greater than initial amount then print insufficient balance\n",
    "    else:\n",
    "        initial_balance -= withdraw_amount  # other wise withdraw amount is less than or equal to initial amount is they subtract withdraw amount from initial amount\n",
    "        print(\"Withdraw successfully.your  New balance is :\", initial_balance)  # show your new balance\n",
    "except ValueError:\n",
    "    print(\"please enter a number:\")  # if user give string/char"
   ]
  },
  {
   "cell_type": "markdown",
   "id": "b0a7eb59-5dae-4451-a292-d9a60b1e104b",
   "metadata": {},
   "source": [
    "**Q.2 Ask the user to enter a number.convert it to an integer,but handle invalid values like alphabets or float.**"
   ]
  },
  {
   "cell_type": "code",
   "execution_count": 23,
   "id": "b6b9decf-ccf4-4810-a070-ddbbb5a0beaa",
   "metadata": {},
   "outputs": [
    {
     "name": "stdin",
     "output_type": "stream",
     "text": [
      "Enter a number:  4\n"
     ]
    },
    {
     "name": "stdout",
     "output_type": "stream",
     "text": [
      "Your entered number is: 4\n"
     ]
    }
   ],
   "source": [
    "try:\n",
    "    number = int(input(\"Enter a number: \")) # take number from user\n",
    "    print(\"Your entered number is:\", number)  \n",
    "except ValueError:  # user give string/char\n",
    "    print(\"Invalid input. Please enter a whole number.\")\n"
   ]
  },
  {
   "cell_type": "markdown",
   "id": "26ba51be-558a-48ca-bffe-80572e169fe3",
   "metadata": {},
   "source": [
    "**Q.3 Ask the user to enter an email.raise an exception if it dosen't contain \"@\" or \".\"**"
   ]
  },
  {
   "cell_type": "code",
   "execution_count": 30,
   "id": "781bc895-8734-4cf7-8776-674ad195997d",
   "metadata": {},
   "outputs": [
    {
     "name": "stdin",
     "output_type": "stream",
     "text": [
      "Enter your email:  xyz@.com\n"
     ]
    },
    {
     "name": "stdout",
     "output_type": "stream",
     "text": [
      "Your Email is valid\n"
     ]
    }
   ],
   "source": [
    "try:\n",
    "    user_email = input(\"Enter your email: \")  # Get the email from the user\n",
    "    if \"@\" not in user_email or \".\" not in user_email: # Check if the email contains \"@\" and \".\"\n",
    "        raise ValueError   # Raise an exception if the email is invalid.\n",
    "    print(\"Your Email is valid\")\n",
    "except ValueError: # if user give only string/char \n",
    "    print(\"Invalid email\")"
   ]
  },
  {
   "cell_type": "markdown",
   "id": "15a79f99-fb62-4acd-b278-e3549bd068cc",
   "metadata": {},
   "source": [
    "**Q.4 Ask user for hours worked and hourly wage.if hour are more than 24 or negative,raise an error.**"
   ]
  },
  {
   "cell_type": "code",
   "execution_count": 5,
   "id": "87b1a27c-ba56-41c2-96a0-b5ebb402418b",
   "metadata": {},
   "outputs": [
    {
     "name": "stdin",
     "output_type": "stream",
     "text": [
      "Enter your hours worked:  20\n",
      "Enter your  hourly wage:  4800\n"
     ]
    },
    {
     "name": "stdout",
     "output_type": "stream",
     "text": [
      "96000.0\n"
     ]
    }
   ],
   "source": [
    "try:\n",
    "    work_hours = float(input(\"Enter your hours worked: \")) # take work hour from user\n",
    "    wage_hour = float(input(\"Enter your  hourly wage: \")) # take wage hour from user\n",
    "\n",
    "    if work_hours < 0 or work_hours > 24: # check if work hour is greater than 0 (not negative number) and less than 24\n",
    "        print(\"Invalid hours. Must be between 0 and 24.\") \n",
    "    else:\n",
    "        Total_pay = work_hours * wage_hour\n",
    "        print(Total_pay)\n",
    "except ValueError:\n",
    "    print(\"Invalid input. Please enter a number.\")"
   ]
  },
  {
   "cell_type": "markdown",
   "id": "02ff3ee8-51d9-495f-a272-761b72809b42",
   "metadata": {},
   "source": [
    "**Q Take input of multiple(name,marks in 3 subject) and calculate the average,assign grade,and display report card.**"
   ]
  },
  {
   "cell_type": "code",
   "execution_count": 14,
   "id": "9b9122b0-b431-49ef-8bbd-faa9a6aec2e0",
   "metadata": {},
   "outputs": [
    {
     "name": "stdin",
     "output_type": "stream",
     "text": [
      "Enter number of student: 1\n",
      "Enter the student name: 89\n",
      "Enter math marks: 90\n",
      "Enter science marks: 60\n",
      "Enter english marks: 70\n"
     ]
    },
    {
     "name": "stdout",
     "output_type": "stream",
     "text": [
      "REPORT CARD\n",
      "Student name:89\n",
      "Marks:90.0,60.0,70.0\n",
      "Average marks 73.33333333333333\n",
      "student grade B+\n"
     ]
    }
   ],
   "source": [
    "student={} # create empty dictionary\n",
    "\n",
    "num=int(input(\"Enter number of student:\")) # take number of student form user\n",
    "for _ in range(num):\n",
    "    stud_name=input(\"Enter the student name:\")\n",
    "    math_mark=float(input(\"Enter math marks:\"))\n",
    "    sci_mark=float(input(\"Enter science marks:\"))\n",
    "    eng_mark=float(input(\"Enter english marks:\"))\n",
    "\n",
    "    avg=(math_mark + sci_mark + eng_mark)/3 # to find average\n",
    "    if avg >= 90:\n",
    "        grade=\"A\"\n",
    "    elif avg >=80:\n",
    "        grade=\"B\"\n",
    "    elif avg >=70:\n",
    "        grade=\"B+\"\n",
    "    elif avg >=60:\n",
    "        grade=\"C\"\n",
    "    else:\n",
    "        grade=\"F\"\n",
    "\n",
    "    student[stud_name]=(math_mark,sci_mark,eng_mark,avg,grade)\n",
    "    print(\"REPORT CARD\")\n",
    "    for name,report in student.items():\n",
    "        print(f\"Student name:{stud_name}\")\n",
    "        print(f\"Marks:{report[0]},{report[1]},{report[2]}\")\n",
    "        print(f\"Average marks {report[3]}\")\n",
    "        print(f\"student grade {report[4]}\")\n",
    "        "
   ]
  },
  {
   "cell_type": "markdown",
   "id": "29cc63c9-4546-4f76-a9be-c36d028f2af9",
   "metadata": {},
   "source": [
    "**Q. Temprature converter with menu convert: celcius to fahrenheit and fahrenheit to celcius and celcius to kelvin and kelvin to celcius.**"
   ]
  },
  {
   "cell_type": "code",
   "execution_count": 22,
   "id": "ed0a5156-0677-4ece-a6f4-1215ee5c4abc",
   "metadata": {},
   "outputs": [
    {
     "name": "stdout",
     "output_type": "stream",
     "text": [
      "\n",
      "1. Celsius to Fahrenheit\n",
      "2. Fahrenheit to Celsius\n",
      "3. Celsius to Kelvin\n",
      "4. Kelvin to Celsius\n",
      "5. Exit\n"
     ]
    },
    {
     "name": "stdin",
     "output_type": "stream",
     "text": [
      "Enter your choice:  1\n",
      "Enter temperature in Celsius:  45\n"
     ]
    },
    {
     "name": "stdout",
     "output_type": "stream",
     "text": [
      "The conversion of Celsius to Fahrenheit is: 113.0\n",
      "\n",
      "1. Celsius to Fahrenheit\n",
      "2. Fahrenheit to Celsius\n",
      "3. Celsius to Kelvin\n",
      "4. Kelvin to Celsius\n",
      "5. Exit\n"
     ]
    },
    {
     "name": "stdin",
     "output_type": "stream",
     "text": [
      "Enter your choice:  3\n",
      "Enter temperature in Celsius:  79.7\n"
     ]
    },
    {
     "name": "stdout",
     "output_type": "stream",
     "text": [
      "The conversion of Celsius to Kelvin is: 352.84999999999997\n",
      "\n",
      "1. Celsius to Fahrenheit\n",
      "2. Fahrenheit to Celsius\n",
      "3. Celsius to Kelvin\n",
      "4. Kelvin to Celsius\n",
      "5. Exit\n"
     ]
    },
    {
     "name": "stdin",
     "output_type": "stream",
     "text": [
      "Enter your choice:  5\n"
     ]
    },
    {
     "name": "stdout",
     "output_type": "stream",
     "text": [
      "Goodbye!\n"
     ]
    }
   ],
   "source": [
    "def celsius_to_fahrenheit(celsius): # define function for celsius_to_fahrenheit\n",
    "    return (celsius * 9/5) + 32  # to convert celsius_to_fahrenheit\n",
    "\n",
    "def fahrenheit_to_celsius(fahrenheit): # define function for fahrenheit_to_celsius\n",
    "    return (fahrenheit - 32) * 5/9 # to convert fahrenheit_to_celsius\n",
    "\n",
    "def celsius_to_kelvin(celsius): # define function for celsius_to_kelvin\n",
    "    return celsius + 273.15  # to convert celsius_to_kelvin\n",
    "\n",
    "def kelvin_to_celsius(kelvin): # define function for kelvin_to_celsius\n",
    "    return kelvin - 273.15 # to convert kelvin_to_celsius\n",
    "\n",
    "def temperature_converter():  # define  the last function for temperature_converter\n",
    "    while True:  # While=True for it excecute until condition is  exit\n",
    "        print(\"\\n1. Celsius to Fahrenheit\")\n",
    "        print(\"2. Fahrenheit to Celsius\")\n",
    "        print(\"3. Celsius to Kelvin\")\n",
    "        print(\"4. Kelvin to Celsius\")\n",
    "        print(\"5. Exit\")\n",
    "\n",
    "        user_choice = input(\"Enter your choice: \") # take user choice\n",
    "\n",
    "        if user_choice == '1':\n",
    "            celsius = float(input(\"Enter temperature in Celsius: \"))\n",
    "            fahrenheit = celsius_to_fahrenheit(celsius)\n",
    "            print(\"The conversion of Celsius to Fahrenheit is:\", fahrenheit)\n",
    "        elif user_choice == '2':\n",
    "            fahrenheit = float(input(\"Enter temperature in Fahrenheit: \"))\n",
    "            celsius = fahrenheit_to_celsius(fahrenheit)\n",
    "            print(\"The conversion of Fahrenheit to Celsius is:\", celsius)\n",
    "        elif user_choice == '3':\n",
    "            celsius = float(input(\"Enter temperature in Celsius: \"))\n",
    "            kelvin = celsius_to_kelvin(celsius)\n",
    "            print(\"The conversion of Celsius to Kelvin is:\", kelvin)\n",
    "        elif user_choice == '4':\n",
    "            kelvin = float(input(\"Enter temperature in Kelvin: \"))\n",
    "            celsius = kelvin_to_celsius(kelvin)\n",
    "            print(\"The conversion of Kelvin to Celsius is:\", celsius)\n",
    "        elif user_choice == '5':\n",
    "            print(\"Goodbye!\")  # stop the loop\n",
    "            break\n",
    "        else:\n",
    "            print(\"Invalid choice! Try again.\") # if user not  give input between 1-5 then it will be print. \n",
    "\n",
    "temperature_converter() # call the function\n",
    "              "
   ]
  },
  {
   "cell_type": "markdown",
   "id": "fe024ad7-fa70-4c20-8039-7a4135e9715e",
   "metadata": {},
   "source": [
    "**Q. Simulation a login system with a predefined username and password.**"
   ]
  },
  {
   "cell_type": "code",
   "execution_count": 29,
   "id": "63ac38d4-c7b8-407b-bb30-662256cf66bd",
   "metadata": {},
   "outputs": [
    {
     "name": "stdin",
     "output_type": "stream",
     "text": [
      "Enter  the username:  colorfull\n",
      "Enter the  password:  Ayz1234\n"
     ]
    },
    {
     "name": "stdout",
     "output_type": "stream",
     "text": [
      "Login successful!\n"
     ]
    }
   ],
   "source": [
    "username = \"colorfull\" # Predefined username and password\n",
    "password = \"Ayz1234\"\n",
    "def password_rule(pas): # create function for password rule\n",
    "    if len(pwd) < 8: # password contain atleast 8 charecter\n",
    "        return \"Password too short\"\n",
    "    elif not password.search(\"[a-z]\", pas): # password contain atleast one lower case letter\n",
    "        return \"Password contain lowercase letter\"\n",
    "    elif not password.search(\"[A-Z]\", pas):  # password contain atleast one upper case letter\n",
    "        return \"Password contain uppercase letter\"\n",
    "    elif not password.search(\"[0-9]\", pas):  # password should contain digits \n",
    "        return \"Password contain atleast one digit\"\n",
    "    else:\n",
    "        return \"Valid\"\n",
    "user = input(\"Enter  the username: \") # take user_name and password from user \n",
    "pas= input(\"Enter the  password: \")\n",
    "\n",
    "if user == username and pas== password: # if user & pas it match  to the username and password\n",
    "    print(\"Login successful!\") # print login sucessfull\n",
    "else:\n",
    "    print(\"Invalid username or password\") # other wise it return invalid password & username"
   ]
  },
  {
   "cell_type": "markdown",
   "id": "16d6f4eb-a140-46c4-9e8d-8c4fa5fdedb0",
   "metadata": {},
   "source": [
    "**Q.python program for to find cube of number entered by the user.**"
   ]
  },
  {
   "cell_type": "code",
   "execution_count": 34,
   "id": "4c5b23a2-5401-40f4-ac1a-079420441d33",
   "metadata": {},
   "outputs": [
    {
     "name": "stdin",
     "output_type": "stream",
     "text": [
      "Enter the number:  5\n"
     ]
    },
    {
     "name": "stdout",
     "output_type": "stream",
     "text": [
      "The cube of 5 is 125\n"
     ]
    }
   ],
   "source": [
    "number = int(input(\"Enter the number: \"))  # take input from user\n",
    "cube = number ** 3 # to find cube of the number\n",
    "print(f\"The cube of {number} is {cube}\")"
   ]
  },
  {
   "cell_type": "code",
   "execution_count": null,
   "id": "d4bc0b8a-f170-4a67-a509-b7646bfe175e",
   "metadata": {},
   "outputs": [],
   "source": []
  }
 ],
 "metadata": {
  "kernelspec": {
   "display_name": "Python [conda env:base] *",
   "language": "python",
   "name": "conda-base-py"
  },
  "language_info": {
   "codemirror_mode": {
    "name": "ipython",
    "version": 3
   },
   "file_extension": ".py",
   "mimetype": "text/x-python",
   "name": "python",
   "nbconvert_exporter": "python",
   "pygments_lexer": "ipython3",
   "version": "3.12.7"
  }
 },
 "nbformat": 4,
 "nbformat_minor": 5
}
