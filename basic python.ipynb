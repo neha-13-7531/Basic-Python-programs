{
 "cells": [
  {
   "cell_type": "markdown",
   "id": "92d6c30e-da6d-4b63-b79b-4e38e0766521",
   "metadata": {},
   "source": [
    "**Comments in Python**\n",
    "\n",
    "**1.single line comment use #**\n",
    "\n",
    "**2.Multi Line comment use (Triple cot) (\"\"\"    \"\"\")**"
   ]
  },
  {
   "cell_type": "code",
   "execution_count": 3,
   "id": "7d24acce-7a0b-492b-bf33-f61ee269a082",
   "metadata": {},
   "outputs": [
    {
     "name": "stdout",
     "output_type": "stream",
     "text": [
      "hello world\n"
     ]
    }
   ],
   "source": [
    "# multi line comment use \"\"\"  \"\"\"(triple cot) or single line comment use # (hash)\n",
    "\"\"\"\n",
    "  hello world \n",
    "\"\"\"\n",
    "print(\"hello world\")"
   ]
  },
  {
   "cell_type": "markdown",
   "id": "a2c0d181-f4a0-4feb-86a9-181f890fbfa5",
   "metadata": {},
   "source": [
    "**Data Type**"
   ]
  },
  {
   "cell_type": "code",
   "execution_count": 5,
   "id": "217babc9-c6cd-458c-9549-23a49d27612e",
   "metadata": {},
   "outputs": [],
   "source": [
    "a=12 # int\n",
    "b=10.5 # float\n",
    "c=5+ 6j #complex number\n",
    "d=\" Good Morning\" # string"
   ]
  },
  {
   "cell_type": "markdown",
   "id": "7d4bbd55-7921-4b36-934a-e6eb9258a8dd",
   "metadata": {},
   "source": [
    "**Sequence data type**\n",
    "- list  \n",
    "- Tuple\n",
    "- set\n",
    "- dictionary"
   ]
  },
  {
   "cell_type": "code",
   "execution_count": 7,
   "id": "bf15a916-f993-4b23-8cd1-2aae38109ce1",
   "metadata": {},
   "outputs": [
    {
     "name": "stdout",
     "output_type": "stream",
     "text": [
      "['xyz', '1', '20.8', 'abc_20']\n",
      "('neha', '28', '56.9', 'abc_78')\n",
      "{'3', 'moni', 'pqr'}\n",
      "{'name': 'Neha', 'age': '22'}\n"
     ]
    }
   ],
   "source": [
    "# list\n",
    "x=[\"xyz\",\"1\",\"20.8\",\"abc_20\"]\n",
    "print(x)\n",
    "\n",
    "# tuple\n",
    "y=(\"neha\",\"28\",\"56.9\",\"abc_78\")\n",
    "print(y)\n",
    "\n",
    "# set\n",
    "z={\"3\",\"pqr\",\"moni\"}\n",
    "print(z)\n",
    "\n",
    "# dictionary\n",
    "d={\"name\":\"Neha\",\"age\":\"22\"}\n",
    "print(d)"
   ]
  },
  {
   "cell_type": "markdown",
   "id": "4eaf12f0-1b5a-486f-853e-9b53b73798fe",
   "metadata": {},
   "source": [
    "**Type conversion in Python**"
   ]
  },
  {
   "cell_type": "code",
   "execution_count": 9,
   "id": "819ef2cb-bc14-4eeb-9865-7f335ef61e56",
   "metadata": {},
   "outputs": [
    {
     "data": {
      "text/plain": [
       "list"
      ]
     },
     "execution_count": 9,
     "metadata": {},
     "output_type": "execute_result"
    }
   ],
   "source": [
    "type(x)"
   ]
  },
  {
   "cell_type": "code",
   "execution_count": 10,
   "id": "04e57b4f-3e0b-417d-9078-dcc554a8756a",
   "metadata": {},
   "outputs": [
    {
     "data": {
      "text/plain": [
       "list"
      ]
     },
     "execution_count": 10,
     "metadata": {},
     "output_type": "execute_result"
    }
   ],
   "source": [
    "# list to tuple\n",
    "tuple(x)\n",
    "type(x)"
   ]
  },
  {
   "cell_type": "code",
   "execution_count": 11,
   "id": "6cdaf658-4879-44f8-bfcf-138e8d854b0d",
   "metadata": {},
   "outputs": [
    {
     "data": {
      "text/plain": [
       "'12'"
      ]
     },
     "execution_count": 11,
     "metadata": {},
     "output_type": "execute_result"
    }
   ],
   "source": [
    "#int to string\n",
    "type(a)\n",
    "str(a)"
   ]
  },
  {
   "cell_type": "code",
   "execution_count": 12,
   "id": "0c8ea7a8-d2a6-4493-a2a2-ec56d5ced01c",
   "metadata": {},
   "outputs": [
    {
     "name": "stdout",
     "output_type": "stream",
     "text": [
      "12\n"
     ]
    }
   ],
   "source": [
    "print(a)"
   ]
  },
  {
   "cell_type": "code",
   "execution_count": 13,
   "id": "92689772-397b-4c6f-a57e-57b344784d6a",
   "metadata": {},
   "outputs": [],
   "source": [
    "ab = 12 # int to float \n",
    "ba=12.5  # float to int\n",
    "ca=\"233\" # string to int\n",
    "xy=[\"asd\",\"sdc\",\"sds\"]  # list to tuple\n",
    "df=(\"xadi\",\"243\",\"34f\",\"24dsdz\") # convert to set\n",
    "gf={\"sdsj\",\"ffgs\",\"dfytf\",\"tygy\"} # convert to list"
   ]
  },
  {
   "cell_type": "code",
   "execution_count": 14,
   "id": "c44aeab6-280c-4c66-8f4d-1202c8ab4d77",
   "metadata": {},
   "outputs": [
    {
     "data": {
      "text/plain": [
       "12.0"
      ]
     },
     "execution_count": 14,
     "metadata": {},
     "output_type": "execute_result"
    }
   ],
   "source": [
    "ab = 12 \n",
    "\n",
    "float(ab) # int to float"
   ]
  },
  {
   "cell_type": "code",
   "execution_count": 15,
   "id": "fbb7a22c-840b-4764-9340-2d968ceb631f",
   "metadata": {},
   "outputs": [
    {
     "data": {
      "text/plain": [
       "12"
      ]
     },
     "execution_count": 15,
     "metadata": {},
     "output_type": "execute_result"
    }
   ],
   "source": [
    "ba=12.5\n",
    "int(ba) # float to int"
   ]
  },
  {
   "cell_type": "code",
   "execution_count": 16,
   "id": "27c6aafe-57d4-4642-b2ba-0a214104496a",
   "metadata": {},
   "outputs": [
    {
     "data": {
      "text/plain": [
       "233"
      ]
     },
     "execution_count": 16,
     "metadata": {},
     "output_type": "execute_result"
    }
   ],
   "source": [
    "ca=\"233\"\n",
    "int(ca) # string to int"
   ]
  },
  {
   "cell_type": "code",
   "execution_count": 17,
   "id": "38cf6061-0e32-4680-b171-a95924923135",
   "metadata": {},
   "outputs": [
    {
     "data": {
      "text/plain": [
       "('asd', 'sdc', 'sds')"
      ]
     },
     "execution_count": 17,
     "metadata": {},
     "output_type": "execute_result"
    }
   ],
   "source": [
    "xy=[\"asd\",\"sdc\",\"sds\"]\n",
    "tuple(xy) # list to tuple"
   ]
  },
  {
   "cell_type": "code",
   "execution_count": 18,
   "id": "41b73875-cf1f-444c-8f0c-d1039ce3b696",
   "metadata": {},
   "outputs": [
    {
     "data": {
      "text/plain": [
       "{'243', '24dsdz', '34f', 'xadi'}"
      ]
     },
     "execution_count": 18,
     "metadata": {},
     "output_type": "execute_result"
    }
   ],
   "source": [
    "df=(\"xadi\",\"243\",\"34f\",\"24dsdz\")\n",
    "set(df) # convert to set"
   ]
  },
  {
   "cell_type": "code",
   "execution_count": 19,
   "id": "9c4e723c-f769-4aad-b568-fe1ed65d2b4f",
   "metadata": {},
   "outputs": [
    {
     "data": {
      "text/plain": [
       "['dfytf', 'sdsj', 'ffgs', 'tygy']"
      ]
     },
     "execution_count": 19,
     "metadata": {},
     "output_type": "execute_result"
    }
   ],
   "source": [
    "gf={\"sdsj\",\"ffgs\",\"dfytf\",\"tygy\"}\n",
    "list(gf) # convert to list"
   ]
  },
  {
   "cell_type": "markdown",
   "id": "7916a055-dd17-477b-bf1d-66c870172f64",
   "metadata": {},
   "source": [
    "# Control structure & conditional statement"
   ]
  },
  {
   "cell_type": "code",
   "execution_count": 37,
   "id": "7eaa43a4-58e9-4b5c-96c8-ddc16225abec",
   "metadata": {},
   "outputs": [
    {
     "name": "stdin",
     "output_type": "stream",
     "text": [
      "enter a integer: 5\n"
     ]
    },
    {
     "name": "stdout",
     "output_type": "stream",
     "text": [
      "x is odd\n"
     ]
    }
   ],
   "source": [
    "# if else\n",
    "x=int(input(\"enter a integer:\")) # take input from user\n",
    "if x % 2==0:\n",
    "    print(\"x is even\") # check number is even or odd if  condition is true then return x is even\n",
    "else:\n",
    "    print(\"x is odd\") # number is odd then return x is odd"
   ]
  },
  {
   "cell_type": "code",
   "execution_count": 47,
   "id": "132f7c1a-0f92-4c5d-b9ee-773c93923368",
   "metadata": {},
   "outputs": [
    {
     "name": "stdin",
     "output_type": "stream",
     "text": [
      "Enter your percentage: 86\n"
     ]
    },
    {
     "name": "stdout",
     "output_type": "stream",
     "text": [
      "Grade A\n"
     ]
    }
   ],
   "source": [
    "# if elif else\n",
    "percentage=float(input(\"Enter your percentage:\"))\n",
    "if percentage >=90:  # check percentage is greater than 90  return Grade A +\n",
    "    print(\"Grade A+\")\n",
    "elif percentage >= 80: #check percentage is greater than 80  return Grade A\n",
    "    print(\"Grade A\")\n",
    "elif percentage >=70:  #check percentage is greater than 70  return Grade B+\n",
    "    print(\"Grade B+\")\n",
    "elif percentage >=60:  #check percentage is greater than 60  return Grade B\n",
    "    print(\"Grade B\")\n",
    "elif percentage >=40:  #check percentage is greater than 40  return pass \n",
    "    print(\"pass\")\n",
    "else:\n",
    "    print(\"Fail\")  # other wise return Fail (leass than 40)"
   ]
  },
  {
   "cell_type": "markdown",
   "id": "77f3d838-68ac-4573-b021-674e3bb9c531",
   "metadata": {},
   "source": [
    "# Loops\n",
    "- perform task repeatadly."
   ]
  },
  {
   "cell_type": "code",
   "execution_count": 52,
   "id": "ba3a76c0-1fc2-47dc-b1f9-9598907b02fa",
   "metadata": {},
   "outputs": [
    {
     "name": "stdout",
     "output_type": "stream",
     "text": [
      "5 x 1 = 5\n",
      "5 x 2 = 10\n",
      "5 x 3 = 15\n",
      "5 x 4 = 20\n",
      "5 x 5 = 25\n",
      "5 x 6 = 30\n",
      "5 x 7 = 35\n",
      "5 x 8 = 40\n",
      "5 x 9 = 45\n",
      "5 x 10 = 50\n"
     ]
    }
   ],
   "source": [
    "# for loop # use when we have any sequence\n",
    "number=5\n",
    "for i in range(1,11):\n",
    "    print(number,'x',i,'=',number*i)\n"
   ]
  },
  {
   "cell_type": "code",
   "execution_count": 63,
   "id": "ccc72b68-7d7e-41c3-9344-29b578bc0dcb",
   "metadata": {},
   "outputs": [
    {
     "name": "stdout",
     "output_type": "stream",
     "text": [
      "1\n",
      "2\n",
      "3\n",
      "4\n",
      "5\n",
      "6\n",
      "7\n",
      "8\n",
      "9\n",
      "10\n"
     ]
    }
   ],
   "source": [
    "# while loop \n",
    "count=1  # initial digit\n",
    "while count <=10:  # digit less than equal to 10  # when conditon is true until while loop excuted. \n",
    "    print(count)\n",
    "    count +=1 # for increase  digit"
   ]
  },
  {
   "cell_type": "code",
   "execution_count": 5,
   "id": "fce5bbed-7acf-48c3-9ad1-96fa7e707939",
   "metadata": {},
   "outputs": [
    {
     "name": "stdin",
     "output_type": "stream",
     "text": [
      "Enter first number: 10\n",
      "Enter Second number: 20\n",
      "Enter third number: 30\n"
     ]
    },
    {
     "name": "stdout",
     "output_type": "stream",
     "text": [
      "A is minimum number\n"
     ]
    }
   ],
   "source": [
    "#1.minimum of three number\n",
    "a=int(input(\"Enter first number:\"))\n",
    "b=int(input(\"Enter Second number:\"))\n",
    "c=int(input(\"Enter third number:\"))\n",
    "if a < b:\n",
    "    print(\"A is minimum number\")\n",
    "elif b < c:\n",
    "    print(\"B is minimum number\")\n",
    "else:\n",
    "    print(\"C is minimum number\")\n"
   ]
  },
  {
   "cell_type": "code",
   "execution_count": 30,
   "id": "c3b487e2-14e9-45c5-ab3b-df78687c74c1",
   "metadata": {},
   "outputs": [
    {
     "name": "stdin",
     "output_type": "stream",
     "text": [
      "Enter number: 7\n"
     ]
    },
    {
     "name": "stdout",
     "output_type": "stream",
     "text": [
      "7 is prime number\n"
     ]
    }
   ],
   "source": [
    "# 2.check number is prime or not\n",
    "num=int(input(\"Enter number:\")) # take input form user\n",
    "count=0   # count initialized to 0\n",
    "for i in range(1,num+1):   # it start form 1 to num\n",
    "    if num % i==0:\n",
    "        count=count +1 # if it is divisible by i the count is increase\n",
    "if count == 2: \n",
    "    print(num,\"is prime number\")\n",
    "else:\n",
    "    print(num,\"is not prime number\")\n",
    "    "
   ]
  },
  {
   "cell_type": "code",
   "execution_count": 3,
   "id": "8b75c0b1-7524-4387-bb33-2bb63bcf3b90",
   "metadata": {},
   "outputs": [
    {
     "name": "stdin",
     "output_type": "stream",
     "text": [
      "entre the count down time: 5\n"
     ]
    },
    {
     "name": "stdout",
     "output_type": "stream",
     "text": [
      "count down time  5\n",
      "count down time  4\n",
      "count down time  3\n",
      "count down time  2\n",
      "count down time  1\n",
      "count down time  0\n"
     ]
    }
   ],
   "source": [
    "#3. count down timer take the number as user input and count down the number till 0\n",
    "count_down_time=int(input(\"entre the count down time:\"))\n",
    "while count_down_time >=0:\n",
    "    print(\"count down time \",count_down_time,)\n",
    "    count_down_time -=1"
   ]
  },
  {
   "cell_type": "code",
   "execution_count": 15,
   "id": "00b1c3f9-bd90-4885-a55a-e274ff4b2520",
   "metadata": {},
   "outputs": [
    {
     "name": "stdin",
     "output_type": "stream",
     "text": [
      "enter the number 5\n"
     ]
    },
    {
     "name": "stdout",
     "output_type": "stream",
     "text": [
      "1 \n",
      "1 2 \n",
      "1 2 3 \n",
      "1 2 3 4 \n",
      "1 2 3 4 5 \n"
     ]
    }
   ],
   "source": [
    "# 4.number pyramid\n",
    "n=int(input(\"enter the number\"))\n",
    "for i in range(1,n+1):  # i for row\n",
    "    for j in range(1,i+1):  # j for column\n",
    "        print(j ,end=' ')\n",
    "    print() # print number to the next line"
   ]
  },
  {
   "cell_type": "code",
   "execution_count": 17,
   "id": "0acc6f17-b398-4e71-b06e-901e096581bb",
   "metadata": {},
   "outputs": [
    {
     "name": "stdin",
     "output_type": "stream",
     "text": [
      "enter the number 4\n"
     ]
    },
    {
     "name": "stdout",
     "output_type": "stream",
     "text": [
      "1\n",
      "1 2\n",
      "1 2 3\n",
      "1 2 3 4\n"
     ]
    }
   ],
   "source": [
    "rows=int(input(\"enter the number\"))\n",
    "for i in range(1,rows+1):\n",
    "    print(*range(1,i+1)) # * (all) use for unpack the output pattern."
   ]
  },
  {
   "cell_type": "markdown",
   "id": "82a52087-04c8-4514-9d02-b6f8ff89b5b0",
   "metadata": {},
   "source": [
    "# loop control Statement\n",
    "- break : It break the condition until its execute. \n",
    "- continue : continue the condition (check all condition).\n",
    "- pass : work as a place holder. (when we have no logic or empty loop then we use pass)"
   ]
  },
  {
   "cell_type": "markdown",
   "id": "c9f36674-5dca-4c78-8a2d-825d13eeeb56",
   "metadata": {},
   "source": [
    "**1.write a program that print all prime number within a specified range provided by the user.**"
   ]
  },
  {
   "cell_type": "code",
   "execution_count": 6,
   "id": "9af0d28c-8ef3-4121-94af-60ff3375f44f",
   "metadata": {},
   "outputs": [
    {
     "name": "stdin",
     "output_type": "stream",
     "text": [
      "Enter start number: 1\n",
      "Enter end number: 20\n"
     ]
    },
    {
     "name": "stdout",
     "output_type": "stream",
     "text": [
      "prime number between 1 and 20:\n",
      "2\n",
      "3\n",
      "5\n",
      "7\n",
      "11\n",
      "13\n",
      "17\n",
      "19\n"
     ]
    }
   ],
   "source": [
    "start_no=int(input(\"Enter start number:\")) # take  starting digit from user\n",
    "end_no=int(input(\"Enter end number:\"))  # take last digitfrom user\n",
    "print(f\"prime number between {start_no} and {end_no}:\")\n",
    "for i in range(start_no,end_no + 1):   # define the range where which we want to prime number between given range.\n",
    "    if i > 1:                       # this check the number is less than 1 i.e not prime # end _no +1 last disgit also include\n",
    "        for num in range(2,i):\n",
    "            if i% num == 0:       # check the number has any divisible by 1 or itself\n",
    "                break    # not prime  and exit the loop\n",
    "        else:\n",
    "            print(i)  # print only prime number "
   ]
  },
  {
   "cell_type": "markdown",
   "id": "1d18c28b-c424-496c-9a7e-c11c67892d64",
   "metadata": {},
   "source": [
    "**2.sum of natural number**"
   ]
  },
  {
   "cell_type": "code",
   "execution_count": 1,
   "id": "c7a94858-b1bc-43e0-9eaa-f8e68523e4e3",
   "metadata": {},
   "outputs": [
    {
     "name": "stdin",
     "output_type": "stream",
     "text": [
      "Enter a number: 23\n"
     ]
    },
    {
     "name": "stdout",
     "output_type": "stream",
     "text": [
      "the sum of natural number is 276\n"
     ]
    }
   ],
   "source": [
    "number=int(input(\"Enter a number:\")) # take input from user\n",
    "sum=0  # intial  sum is 0\n",
    "for i in range(1,number + 1): # define the range start from 1  upto number which we provide.\n",
    "    sum +=i  # add number \n",
    " \n",
    "print(\"the sum of natural number is\",sum)"
   ]
  },
  {
   "cell_type": "markdown",
   "id": "3b724f53-fc16-4901-911c-a3d91264cc70",
   "metadata": {},
   "source": [
    "**3.write a program that print all even number between two number provided by the user.** "
   ]
  },
  {
   "cell_type": "code",
   "execution_count": 16,
   "id": "5b58c0dc-cb83-4c73-9fe8-28edf6d121b9",
   "metadata": {},
   "outputs": [
    {
     "name": "stdin",
     "output_type": "stream",
     "text": [
      "Enter start number: 1\n",
      "Enter end number: 10\n"
     ]
    },
    {
     "name": "stdout",
     "output_type": "stream",
     "text": [
      "even number between 1 and 10:\n",
      "2\n",
      "4\n",
      "6\n",
      "8\n",
      "10\n"
     ]
    }
   ],
   "source": [
    "first=int(input(\"Enter start number:\")) # take  starting digit from user\n",
    "last=int(input(\"Enter end number:\"))  # take last digitfrom user\n",
    "print(f\"even number between {first} and {last}:\")\n",
    "for i in range(first,last + 1):\n",
    "    if i % 2 == 0:\n",
    "        print(i)\n",
    "    "
   ]
  },
  {
   "cell_type": "markdown",
   "id": "fb63d1d4-9e96-4b6f-aaf3-8b872c98cd99",
   "metadata": {},
   "source": [
    "5.**write a program to calculate the sum of the digit of a number provided by the user.**"
   ]
  },
  {
   "cell_type": "code",
   "execution_count": 7,
   "id": "a277b739-52ac-46a5-be4b-7651426fdd88",
   "metadata": {},
   "outputs": [
    {
     "name": "stdin",
     "output_type": "stream",
     "text": [
      "Enter a number: 27\n"
     ]
    },
    {
     "name": "stdout",
     "output_type": "stream",
     "text": [
      "sum of digit: 9\n"
     ]
    }
   ],
   "source": [
    "number=int(input(\"Enter a number:\"))\n",
    "sum=0\n",
    "while number > 0: \n",
    "    sum += number % 10 # add last digit digit to sum\n",
    "    number //= 10  # remove last digit from number\n",
    "print(\"sum of digit:\",sum)"
   ]
  },
  {
   "cell_type": "markdown",
   "id": "2c5d7ef9-6738-4b6c-a5ce-e3e3e5bad888",
   "metadata": {},
   "source": [
    "**6.write a program that count the number of vowels in a given string.**"
   ]
  },
  {
   "cell_type": "code",
   "execution_count": 34,
   "id": "ee13d82c-d962-46d5-b191-81f92b395428",
   "metadata": {},
   "outputs": [
    {
     "name": "stdin",
     "output_type": "stream",
     "text": [
      "Enter your string: Neha\n"
     ]
    },
    {
     "name": "stdout",
     "output_type": "stream",
     "text": [
      "The count of Vowels are: 2\n"
     ]
    }
   ],
   "source": [
    "string=input(\"Enter your string:\")\n",
    "vowel=0  # initial count is 0\n",
    "for i in string:\n",
    "    if i=='a' or i=='e' or i=='i' or i=='o' or i=='u' or i=='A' or i=='E' or i=='I' or i=='O'  or i=='U':  # check condition (vowel like a,e,i,o,u or A,E,I,O,U  present in the string or not)\n",
    "        vowel=vowel + 1  # if  yes then add it\n",
    "print(\"The count of Vowels are:\",vowel)"
   ]
  },
  {
   "cell_type": "markdown",
   "id": "04b17041-9451-4970-839f-51b4a4ba594e",
   "metadata": {},
   "source": [
    "**7.calculate the GCD(Gretest common divisor)**"
   ]
  },
  {
   "cell_type": "code",
   "execution_count": 41,
   "id": "95fe73a1-1ca9-4669-94c5-b6504975f751",
   "metadata": {},
   "outputs": [
    {
     "name": "stdin",
     "output_type": "stream",
     "text": [
      "enter the first number : 36\n",
      "enter the second number: 60\n"
     ]
    },
    {
     "name": "stdout",
     "output_type": "stream",
     "text": [
      "GCD of 36 and 60 is 12\n"
     ]
    }
   ],
   "source": [
    "num1=int(input(\"enter the first number :\"))\n",
    "num2=int(input(\"enter the second number:\"))\n",
    "x=num1\n",
    "y=num2\n",
    "while num1 != num2:\n",
    "    if num1 > num2:\n",
    "        num1 -= num2 # if num1 is less than num2 and subtract it from num2 and strore in num1\n",
    "    else:\n",
    "        num2 -= num1\n",
    "print(\"GCD of\",x,\"and\",y,\"is\",num1)"
   ]
  },
  {
   "cell_type": "markdown",
   "id": "b43c0ede-4a18-4d58-9861-c04b3237253d",
   "metadata": {},
   "source": [
    "4.**convert temprature from celsius to fahrenheit**"
   ]
  },
  {
   "cell_type": "code",
   "execution_count": 3,
   "id": "6564da65-0207-470e-83b1-d7a8f5d0a5b2",
   "metadata": {},
   "outputs": [
    {
     "name": "stdin",
     "output_type": "stream",
     "text": [
      "Enter the Temprature  in celcius: 46\n"
     ]
    },
    {
     "name": "stdout",
     "output_type": "stream",
     "text": [
      "Temprature in Fahreheit is : 114.8\n"
     ]
    }
   ],
   "source": [
    "temprature=float(input(\"Enter the Temprature  in celcius:\")) # take input from user\n",
    "fahreheit=(9/5*temprature)+32  # to convert celcius  to fahreheit\n",
    "print(\"Temprature in Fahreheit is :\",fahreheit)"
   ]
  },
  {
   "cell_type": "markdown",
   "id": "b1238822-cf2b-41a1-aa1d-e8344dcaae08",
   "metadata": {},
   "source": [
    "**1.program to print half pyramid using***"
   ]
  },
  {
   "cell_type": "code",
   "execution_count": 3,
   "id": "1d48240d-45a9-4080-8c54-eb64f2ca5b40",
   "metadata": {},
   "outputs": [
    {
     "name": "stdout",
     "output_type": "stream",
     "text": [
      "* \n",
      "* * \n",
      "* * * \n",
      "* * * * \n",
      "* * * * * \n",
      "* * * * * * \n"
     ]
    }
   ],
   "source": [
    "x=6\n",
    "for i in range(1,x+1): # i for row  i.e i goes from 1 to 6 \n",
    "    for j in range(1,i+1): # j for column \n",
    "        print('*',end=' ')\n",
    "    print()"
   ]
  },
  {
   "cell_type": "markdown",
   "id": "f153fed2-0816-40e7-b623-317f8519ed29",
   "metadata": {},
   "source": [
    "2.inverted half pyramid using*"
   ]
  },
  {
   "cell_type": "code",
   "execution_count": 17,
   "id": "b803ab2d-7c3e-4137-abef-d87f439bd62d",
   "metadata": {},
   "outputs": [
    {
     "name": "stdout",
     "output_type": "stream",
     "text": [
      "* * * * * * \n",
      "* * * * * \n",
      "* * * * \n",
      "* * * \n",
      "* * \n",
      "* \n",
      "\n"
     ]
    }
   ],
   "source": [
    "x=6\n",
    "for i in range(x+1,0,-1): # i for row  \n",
    "    for j in range(0,i-1): # j for column\n",
    "        print('*',end=' ')\n",
    "    print()"
   ]
  },
  {
   "cell_type": "code",
   "execution_count": 5,
   "id": "9daf558b-0162-421e-ac2c-c4f8a4e84938",
   "metadata": {},
   "outputs": [
    {
     "name": "stdin",
     "output_type": "stream",
     "text": [
      "Enter no of rows: 5\n"
     ]
    },
    {
     "name": "stdout",
     "output_type": "stream",
     "text": [
      "* * * * * \n",
      "* * * * \n",
      "* * * \n",
      "* * \n",
      "* \n"
     ]
    }
   ],
   "source": [
    "x=int(input(\"Enter no of rows:\")) # take input from user\n",
    "for i in range(x,0,-1): # i for row  \n",
    "    for j in range(0,i): # j for column  range start from 0 to i\n",
    "        print('*',end=' ')\n",
    "    print()"
   ]
  },
  {
   "cell_type": "code",
   "execution_count": 27,
   "id": "32a22a9a-a1cb-4f72-af9a-651cf0e78a31",
   "metadata": {},
   "outputs": [
    {
     "name": "stdin",
     "output_type": "stream",
     "text": [
      "Enter no of rows: 6\n"
     ]
    },
    {
     "name": "stdout",
     "output_type": "stream",
     "text": [
      "          * \n",
      "        * * * \n",
      "      * * * * * \n",
      "    * * * * * * * \n",
      "  * * * * * * * * * \n",
      "* * * * * * * * * * * \n"
     ]
    }
   ],
   "source": [
    "x=int(input(\"Enter no of rows:\"))\n",
    "a=0 # initital  starting is 0\n",
    "for i in range(1, x+1):no of rows print\n",
    "    for space in range(1, (x-i)+1):# check the space and also in one line\n",
    "        print(end='  ')\n",
    "    while a!=(2*i-1):\n",
    "        print(\"*\",end=' ')\n",
    "        a += 1\n",
    "    a=0  # recet the rows starting from 1 \n",
    "    print()"
   ]
  },
  {
   "cell_type": "code",
   "execution_count": null,
   "id": "8f3452ab-b66b-43e9-8fdf-fb2e2ed5c379",
   "metadata": {},
   "outputs": [],
   "source": []
  }
 ],
 "metadata": {
  "kernelspec": {
   "display_name": "Python [conda env:base] *",
   "language": "python",
   "name": "conda-base-py"
  },
  "language_info": {
   "codemirror_mode": {
    "name": "ipython",
    "version": 3
   },
   "file_extension": ".py",
   "mimetype": "text/x-python",
   "name": "python",
   "nbconvert_exporter": "python",
   "pygments_lexer": "ipython3",
   "version": "3.12.7"
  }
 },
 "nbformat": 4,
 "nbformat_minor": 5
}
