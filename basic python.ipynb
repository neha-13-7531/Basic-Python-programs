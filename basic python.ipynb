{
 "cells": [
  {
   "cell_type": "markdown",
   "id": "92d6c30e-da6d-4b63-b79b-4e38e0766521",
   "metadata": {},
   "source": [
    "**Comments in Python**\n",
    "\n",
    "**1.single line comment use #**\n",
    "\n",
    "**2.Multi Line comment use (Triple cot) (\"\"\"    \"\"\")**"
   ]
  },
  {
   "cell_type": "code",
   "execution_count": 3,
   "id": "7d24acce-7a0b-492b-bf33-f61ee269a082",
   "metadata": {},
   "outputs": [
    {
     "name": "stdout",
     "output_type": "stream",
     "text": [
      "hello world\n"
     ]
    }
   ],
   "source": [
    "# multi line comment use \"\"\"  \"\"\"(triple cot) or single line comment use # (hash)\n",
    "\"\"\"\n",
    "  hello world \n",
    "\"\"\"\n",
    "print(\"hello world\")"
   ]
  },
  {
   "cell_type": "markdown",
   "id": "a2c0d181-f4a0-4feb-86a9-181f890fbfa5",
   "metadata": {},
   "source": [
    "**Data Type**"
   ]
  },
  {
   "cell_type": "code",
   "execution_count": 5,
   "id": "217babc9-c6cd-458c-9549-23a49d27612e",
   "metadata": {},
   "outputs": [],
   "source": [
    "a=12 # int\n",
    "b=10.5 # float\n",
    "c=5+ 6j #complex number\n",
    "d=\" Good Morning\" # string"
   ]
  },
  {
   "cell_type": "markdown",
   "id": "7d4bbd55-7921-4b36-934a-e6eb9258a8dd",
   "metadata": {},
   "source": [
    "**Sequence data type**\n",
    "- list  \n",
    "- Tuple\n",
    "- set\n",
    "- dictionary"
   ]
  },
  {
   "cell_type": "code",
   "execution_count": 7,
   "id": "bf15a916-f993-4b23-8cd1-2aae38109ce1",
   "metadata": {},
   "outputs": [
    {
     "name": "stdout",
     "output_type": "stream",
     "text": [
      "['xyz', '1', '20.8', 'abc_20']\n",
      "('neha', '28', '56.9', 'abc_78')\n",
      "{'3', 'moni', 'pqr'}\n",
      "{'name': 'Neha', 'age': '22'}\n"
     ]
    }
   ],
   "source": [
    "# list\n",
    "x=[\"xyz\",\"1\",\"20.8\",\"abc_20\"]\n",
    "print(x)\n",
    "\n",
    "# tuple\n",
    "y=(\"neha\",\"28\",\"56.9\",\"abc_78\")\n",
    "print(y)\n",
    "\n",
    "# set\n",
    "z={\"3\",\"pqr\",\"moni\"}\n",
    "print(z)\n",
    "\n",
    "# dictionary\n",
    "d={\"name\":\"Neha\",\"age\":\"22\"}\n",
    "print(d)"
   ]
  },
  {
   "cell_type": "markdown",
   "id": "4eaf12f0-1b5a-486f-853e-9b53b73798fe",
   "metadata": {},
   "source": [
    "**Type conversion in Python**"
   ]
  },
  {
   "cell_type": "code",
   "execution_count": 9,
   "id": "819ef2cb-bc14-4eeb-9865-7f335ef61e56",
   "metadata": {},
   "outputs": [
    {
     "data": {
      "text/plain": [
       "list"
      ]
     },
     "execution_count": 9,
     "metadata": {},
     "output_type": "execute_result"
    }
   ],
   "source": [
    "type(x)"
   ]
  },
  {
   "cell_type": "code",
   "execution_count": 10,
   "id": "04e57b4f-3e0b-417d-9078-dcc554a8756a",
   "metadata": {},
   "outputs": [
    {
     "data": {
      "text/plain": [
       "list"
      ]
     },
     "execution_count": 10,
     "metadata": {},
     "output_type": "execute_result"
    }
   ],
   "source": [
    "# list to tuple\n",
    "tuple(x)\n",
    "type(x)"
   ]
  },
  {
   "cell_type": "code",
   "execution_count": 11,
   "id": "6cdaf658-4879-44f8-bfcf-138e8d854b0d",
   "metadata": {},
   "outputs": [
    {
     "data": {
      "text/plain": [
       "'12'"
      ]
     },
     "execution_count": 11,
     "metadata": {},
     "output_type": "execute_result"
    }
   ],
   "source": [
    "#int to string\n",
    "type(a)\n",
    "str(a)"
   ]
  },
  {
   "cell_type": "code",
   "execution_count": 12,
   "id": "0c8ea7a8-d2a6-4493-a2a2-ec56d5ced01c",
   "metadata": {},
   "outputs": [
    {
     "name": "stdout",
     "output_type": "stream",
     "text": [
      "12\n"
     ]
    }
   ],
   "source": [
    "print(a)"
   ]
  },
  {
   "cell_type": "code",
   "execution_count": 13,
   "id": "92689772-397b-4c6f-a57e-57b344784d6a",
   "metadata": {},
   "outputs": [],
   "source": [
    "ab = 12 # int to float \n",
    "ba=12.5  # float to int\n",
    "ca=\"233\" # string to int\n",
    "xy=[\"asd\",\"sdc\",\"sds\"]  # list to tuple\n",
    "df=(\"xadi\",\"243\",\"34f\",\"24dsdz\") # convert to set\n",
    "gf={\"sdsj\",\"ffgs\",\"dfytf\",\"tygy\"} # convert to list"
   ]
  },
  {
   "cell_type": "code",
   "execution_count": 14,
   "id": "c44aeab6-280c-4c66-8f4d-1202c8ab4d77",
   "metadata": {},
   "outputs": [
    {
     "data": {
      "text/plain": [
       "12.0"
      ]
     },
     "execution_count": 14,
     "metadata": {},
     "output_type": "execute_result"
    }
   ],
   "source": [
    "ab = 12 \n",
    "\n",
    "float(ab) # int to float"
   ]
  },
  {
   "cell_type": "code",
   "execution_count": 15,
   "id": "fbb7a22c-840b-4764-9340-2d968ceb631f",
   "metadata": {},
   "outputs": [
    {
     "data": {
      "text/plain": [
       "12"
      ]
     },
     "execution_count": 15,
     "metadata": {},
     "output_type": "execute_result"
    }
   ],
   "source": [
    "ba=12.5\n",
    "int(ba) # float to int"
   ]
  },
  {
   "cell_type": "code",
   "execution_count": 16,
   "id": "27c6aafe-57d4-4642-b2ba-0a214104496a",
   "metadata": {},
   "outputs": [
    {
     "data": {
      "text/plain": [
       "233"
      ]
     },
     "execution_count": 16,
     "metadata": {},
     "output_type": "execute_result"
    }
   ],
   "source": [
    "ca=\"233\"\n",
    "int(ca) # string to int"
   ]
  },
  {
   "cell_type": "code",
   "execution_count": 17,
   "id": "38cf6061-0e32-4680-b171-a95924923135",
   "metadata": {},
   "outputs": [
    {
     "data": {
      "text/plain": [
       "('asd', 'sdc', 'sds')"
      ]
     },
     "execution_count": 17,
     "metadata": {},
     "output_type": "execute_result"
    }
   ],
   "source": [
    "xy=[\"asd\",\"sdc\",\"sds\"]\n",
    "tuple(xy) # list to tuple"
   ]
  },
  {
   "cell_type": "code",
   "execution_count": 18,
   "id": "41b73875-cf1f-444c-8f0c-d1039ce3b696",
   "metadata": {},
   "outputs": [
    {
     "data": {
      "text/plain": [
       "{'243', '24dsdz', '34f', 'xadi'}"
      ]
     },
     "execution_count": 18,
     "metadata": {},
     "output_type": "execute_result"
    }
   ],
   "source": [
    "df=(\"xadi\",\"243\",\"34f\",\"24dsdz\")\n",
    "set(df) # convert to set"
   ]
  },
  {
   "cell_type": "code",
   "execution_count": 19,
   "id": "9c4e723c-f769-4aad-b568-fe1ed65d2b4f",
   "metadata": {},
   "outputs": [
    {
     "data": {
      "text/plain": [
       "['dfytf', 'sdsj', 'ffgs', 'tygy']"
      ]
     },
     "execution_count": 19,
     "metadata": {},
     "output_type": "execute_result"
    }
   ],
   "source": [
    "gf={\"sdsj\",\"ffgs\",\"dfytf\",\"tygy\"}\n",
    "list(gf) # convert to list"
   ]
  },
  {
   "cell_type": "markdown",
   "id": "7916a055-dd17-477b-bf1d-66c870172f64",
   "metadata": {},
   "source": [
    "# Control structure & conditional statement"
   ]
  },
  {
   "cell_type": "code",
   "execution_count": 37,
   "id": "7eaa43a4-58e9-4b5c-96c8-ddc16225abec",
   "metadata": {},
   "outputs": [
    {
     "name": "stdin",
     "output_type": "stream",
     "text": [
      "enter a integer: 5\n"
     ]
    },
    {
     "name": "stdout",
     "output_type": "stream",
     "text": [
      "x is odd\n"
     ]
    }
   ],
   "source": [
    "# if else\n",
    "x=int(input(\"enter a integer:\")) # take input from user\n",
    "if x % 2==0:\n",
    "    print(\"x is even\") # check number is even or odd if  condition is true then return x is even\n",
    "else:\n",
    "    print(\"x is odd\") # number is odd then return x is odd"
   ]
  },
  {
   "cell_type": "code",
   "execution_count": 47,
   "id": "132f7c1a-0f92-4c5d-b9ee-773c93923368",
   "metadata": {},
   "outputs": [
    {
     "name": "stdin",
     "output_type": "stream",
     "text": [
      "Enter your percentage: 86\n"
     ]
    },
    {
     "name": "stdout",
     "output_type": "stream",
     "text": [
      "Grade A\n"
     ]
    }
   ],
   "source": [
    "# if elif else\n",
    "percentage=float(input(\"Enter your percentage:\"))\n",
    "if percentage >=90:  # check percentage is greater than 90  return Grade A +\n",
    "    print(\"Grade A+\")\n",
    "elif percentage >= 80: #check percentage is greater than 80  return Grade A\n",
    "    print(\"Grade A\")\n",
    "elif percentage >=70:  #check percentage is greater than 70  return Grade B+\n",
    "    print(\"Grade B+\")\n",
    "elif percentage >=60:  #check percentage is greater than 60  return Grade B\n",
    "    print(\"Grade B\")\n",
    "elif percentage >=40:  #check percentage is greater than 40  return pass \n",
    "    print(\"pass\")\n",
    "else:\n",
    "    print(\"Fail\")  # other wise return Fail (leass than 40)"
   ]
  },
  {
   "cell_type": "markdown",
   "id": "77f3d838-68ac-4573-b021-674e3bb9c531",
   "metadata": {},
   "source": [
    "# Loops\n",
    "- perform task repeatadly."
   ]
  },
  {
   "cell_type": "code",
   "execution_count": 52,
   "id": "ba3a76c0-1fc2-47dc-b1f9-9598907b02fa",
   "metadata": {},
   "outputs": [
    {
     "name": "stdout",
     "output_type": "stream",
     "text": [
      "5 x 1 = 5\n",
      "5 x 2 = 10\n",
      "5 x 3 = 15\n",
      "5 x 4 = 20\n",
      "5 x 5 = 25\n",
      "5 x 6 = 30\n",
      "5 x 7 = 35\n",
      "5 x 8 = 40\n",
      "5 x 9 = 45\n",
      "5 x 10 = 50\n"
     ]
    }
   ],
   "source": [
    "# for loop # use when we have any sequence\n",
    "number=5\n",
    "for i in range(1,11):\n",
    "    print(number,'x',i,'=',number*i)\n"
   ]
  },
  {
   "cell_type": "code",
   "execution_count": 63,
   "id": "ccc72b68-7d7e-41c3-9344-29b578bc0dcb",
   "metadata": {},
   "outputs": [
    {
     "name": "stdout",
     "output_type": "stream",
     "text": [
      "1\n",
      "2\n",
      "3\n",
      "4\n",
      "5\n",
      "6\n",
      "7\n",
      "8\n",
      "9\n",
      "10\n"
     ]
    }
   ],
   "source": [
    "# while loop \n",
    "count=1  # initial digit\n",
    "while count <=10:  # digit less than equal to 10  # when conditon is true until while loop excuted. \n",
    "    print(count)\n",
    "    count +=1 # for increase  digit"
   ]
  },
  {
   "cell_type": "code",
   "execution_count": 5,
   "id": "fce5bbed-7acf-48c3-9ad1-96fa7e707939",
   "metadata": {},
   "outputs": [
    {
     "name": "stdin",
     "output_type": "stream",
     "text": [
      "Enter first number: 10\n",
      "Enter Second number: 20\n",
      "Enter third number: 30\n"
     ]
    },
    {
     "name": "stdout",
     "output_type": "stream",
     "text": [
      "A is minimum number\n"
     ]
    }
   ],
   "source": [
    "#1.minimum of three number\n",
    "a=int(input(\"Enter first number:\"))\n",
    "b=int(input(\"Enter Second number:\"))\n",
    "c=int(input(\"Enter third number:\"))\n",
    "if a < b:\n",
    "    print(\"A is minimum number\")\n",
    "elif b < c:\n",
    "    print(\"B is minimum number\")\n",
    "else:\n",
    "    print(\"C is minimum number\")\n"
   ]
  },
  {
   "cell_type": "code",
   "execution_count": 30,
   "id": "c3b487e2-14e9-45c5-ab3b-df78687c74c1",
   "metadata": {},
   "outputs": [
    {
     "name": "stdin",
     "output_type": "stream",
     "text": [
      "Enter number: 7\n"
     ]
    },
    {
     "name": "stdout",
     "output_type": "stream",
     "text": [
      "7 is prime number\n"
     ]
    }
   ],
   "source": [
    "# 2.check number is prime or not\n",
    "num=int(input(\"Enter number:\")) # take input form user\n",
    "count=0   # count initialized to 0\n",
    "for i in range(1,num+1):   # it start form 1 to num\n",
    "    if num % i==0:\n",
    "        count=count +1 # if it is divisible by i the count is increase\n",
    "if count == 2: \n",
    "    print(num,\"is prime number\")\n",
    "else:\n",
    "    print(num,\"is not prime number\")\n",
    "    "
   ]
  },
  {
   "cell_type": "code",
   "execution_count": 3,
   "id": "8b75c0b1-7524-4387-bb33-2bb63bcf3b90",
   "metadata": {},
   "outputs": [
    {
     "name": "stdin",
     "output_type": "stream",
     "text": [
      "entre the count down time: 5\n"
     ]
    },
    {
     "name": "stdout",
     "output_type": "stream",
     "text": [
      "count down time  5\n",
      "count down time  4\n",
      "count down time  3\n",
      "count down time  2\n",
      "count down time  1\n",
      "count down time  0\n"
     ]
    }
   ],
   "source": [
    "#3. count down timer take the number as user input and count down the number till 0\n",
    "count_down_time=int(input(\"entre the count down time:\"))\n",
    "while count_down_time >=0:\n",
    "    print(\"count down time \",count_down_time,)\n",
    "    count_down_time -=1"
   ]
  },
  {
   "cell_type": "code",
   "execution_count": 15,
   "id": "00b1c3f9-bd90-4885-a55a-e274ff4b2520",
   "metadata": {},
   "outputs": [
    {
     "name": "stdin",
     "output_type": "stream",
     "text": [
      "enter the number 5\n"
     ]
    },
    {
     "name": "stdout",
     "output_type": "stream",
     "text": [
      "1 \n",
      "1 2 \n",
      "1 2 3 \n",
      "1 2 3 4 \n",
      "1 2 3 4 5 \n"
     ]
    }
   ],
   "source": [
    "# 4.number pyramid\n",
    "n=int(input(\"enter the number\"))\n",
    "for i in range(1,n+1):  # i for row\n",
    "    for j in range(1,i+1):  # j for column\n",
    "        print(j ,end=' ')\n",
    "    print() # print number to the next line"
   ]
  },
  {
   "cell_type": "code",
   "execution_count": 17,
   "id": "0acc6f17-b398-4e71-b06e-901e096581bb",
   "metadata": {},
   "outputs": [
    {
     "name": "stdin",
     "output_type": "stream",
     "text": [
      "enter the number 4\n"
     ]
    },
    {
     "name": "stdout",
     "output_type": "stream",
     "text": [
      "1\n",
      "1 2\n",
      "1 2 3\n",
      "1 2 3 4\n"
     ]
    }
   ],
   "source": [
    "rows=int(input(\"enter the number\"))\n",
    "for i in range(1,rows+1):\n",
    "    print(*range(1,i+1)) # * (all) use for unpack the output pattern."
   ]
  },
  {
   "cell_type": "markdown",
   "id": "82a52087-04c8-4514-9d02-b6f8ff89b5b0",
   "metadata": {},
   "source": [
    "# loop control Statement\n",
    "- break : It break the condition until its execute. \n",
    "- continue : continue the condition (check all condition).\n",
    "- pass : work as a place holder. (when we have no logic or empty loop then we use pass)"
   ]
  },
  {
   "cell_type": "markdown",
   "id": "c9f36674-5dca-4c78-8a2d-825d13eeeb56",
   "metadata": {},
   "source": [
    "**1.write a program that print all prime number within a specified range provided by the user.**"
   ]
  },
  {
   "cell_type": "code",
   "execution_count": 6,
   "id": "9af0d28c-8ef3-4121-94af-60ff3375f44f",
   "metadata": {},
   "outputs": [
    {
     "name": "stdin",
     "output_type": "stream",
     "text": [
      "Enter start number: 1\n",
      "Enter end number: 20\n"
     ]
    },
    {
     "name": "stdout",
     "output_type": "stream",
     "text": [
      "prime number between 1 and 20:\n",
      "2\n",
      "3\n",
      "5\n",
      "7\n",
      "11\n",
      "13\n",
      "17\n",
      "19\n"
     ]
    }
   ],
   "source": [
    "start_no=int(input(\"Enter start number:\")) # take  starting digit from user\n",
    "end_no=int(input(\"Enter end number:\"))  # take last digitfrom user\n",
    "print(f\"prime number between {start_no} and {end_no}:\")\n",
    "for i in range(start_no,end_no + 1):   # define the range where which we want to prime number between given range.\n",
    "    if i > 1:                       # this check the number is less than 1 i.e not prime # end _no +1 last disgit also include\n",
    "        for num in range(2,i):\n",
    "            if i% num == 0:       # check the number has any divisible by 1 or itself\n",
    "                break    # not prime  and exit the loop\n",
    "        else:\n",
    "            print(i)  # print only prime number "
   ]
  },
  {
   "cell_type": "markdown",
   "id": "1d18c28b-c424-496c-9a7e-c11c67892d64",
   "metadata": {},
   "source": [
    "**2.sum of natural number**"
   ]
  },
  {
   "cell_type": "code",
   "execution_count": 1,
   "id": "c7a94858-b1bc-43e0-9eaa-f8e68523e4e3",
   "metadata": {},
   "outputs": [
    {
     "name": "stdin",
     "output_type": "stream",
     "text": [
      "Enter a number: 23\n"
     ]
    },
    {
     "name": "stdout",
     "output_type": "stream",
     "text": [
      "the sum of natural number is 276\n"
     ]
    }
   ],
   "source": [
    "number=int(input(\"Enter a number:\")) # take input from user\n",
    "sum=0  # intial  sum is 0\n",
    "for i in range(1,number + 1): # define the range start from 1  upto number which we provide.\n",
    "    sum +=i  # add number \n",
    " \n",
    "print(\"the sum of natural number is\",sum)"
   ]
  },
  {
   "cell_type": "markdown",
   "id": "3b724f53-fc16-4901-911c-a3d91264cc70",
   "metadata": {},
   "source": [
    "**3.write a program that print all even number between two number provided by the user.** "
   ]
  },
  {
   "cell_type": "code",
   "execution_count": 16,
   "id": "5b58c0dc-cb83-4c73-9fe8-28edf6d121b9",
   "metadata": {},
   "outputs": [
    {
     "name": "stdin",
     "output_type": "stream",
     "text": [
      "Enter start number: 1\n",
      "Enter end number: 10\n"
     ]
    },
    {
     "name": "stdout",
     "output_type": "stream",
     "text": [
      "even number between 1 and 10:\n",
      "2\n",
      "4\n",
      "6\n",
      "8\n",
      "10\n"
     ]
    }
   ],
   "source": [
    "first=int(input(\"Enter start number:\")) # take  starting digit from user\n",
    "last=int(input(\"Enter end number:\"))  # take last digitfrom user\n",
    "print(f\"even number between {first} and {last}:\")\n",
    "for i in range(first,last + 1):\n",
    "    if i % 2 == 0:\n",
    "        print(i)\n",
    "    "
   ]
  },
  {
   "cell_type": "markdown",
   "id": "fb63d1d4-9e96-4b6f-aaf3-8b872c98cd99",
   "metadata": {},
   "source": [
    "5.**write a program to calculate the sum of the digit of a number provided by the user.**"
   ]
  },
  {
   "cell_type": "code",
   "execution_count": 7,
   "id": "a277b739-52ac-46a5-be4b-7651426fdd88",
   "metadata": {},
   "outputs": [
    {
     "name": "stdin",
     "output_type": "stream",
     "text": [
      "Enter a number: 27\n"
     ]
    },
    {
     "name": "stdout",
     "output_type": "stream",
     "text": [
      "sum of digit: 9\n"
     ]
    }
   ],
   "source": [
    "number=int(input(\"Enter a number:\"))\n",
    "sum=0\n",
    "while number > 0: \n",
    "    sum += number % 10 # add last digit digit to sum\n",
    "    number //= 10  # remove last digit from number\n",
    "print(\"sum of digit:\",sum)"
   ]
  },
  {
   "cell_type": "markdown",
   "id": "2c5d7ef9-6738-4b6c-a5ce-e3e3e5bad888",
   "metadata": {},
   "source": [
    "**6.write a program that count the number of vowels in a given string.**"
   ]
  },
  {
   "cell_type": "code",
   "execution_count": 34,
   "id": "ee13d82c-d962-46d5-b191-81f92b395428",
   "metadata": {},
   "outputs": [
    {
     "name": "stdin",
     "output_type": "stream",
     "text": [
      "Enter your string: Neha\n"
     ]
    },
    {
     "name": "stdout",
     "output_type": "stream",
     "text": [
      "The count of Vowels are: 2\n"
     ]
    }
   ],
   "source": [
    "string=input(\"Enter your string:\")\n",
    "vowel=0  # initial count is 0\n",
    "for i in string:\n",
    "    if i=='a' or i=='e' or i=='i' or i=='o' or i=='u' or i=='A' or i=='E' or i=='I' or i=='O'  or i=='U':  # check condition (vowel like a,e,i,o,u or A,E,I,O,U  present in the string or not)\n",
    "        vowel=vowel + 1  # if  yes then add it\n",
    "print(\"The count of Vowels are:\",vowel)"
   ]
  },
  {
   "cell_type": "markdown",
   "id": "04b17041-9451-4970-839f-51b4a4ba594e",
   "metadata": {},
   "source": [
    "**7.calculate the GCD(Gretest common divisor)**"
   ]
  },
  {
   "cell_type": "code",
   "execution_count": 41,
   "id": "95fe73a1-1ca9-4669-94c5-b6504975f751",
   "metadata": {},
   "outputs": [
    {
     "name": "stdin",
     "output_type": "stream",
     "text": [
      "enter the first number : 36\n",
      "enter the second number: 60\n"
     ]
    },
    {
     "name": "stdout",
     "output_type": "stream",
     "text": [
      "GCD of 36 and 60 is 12\n"
     ]
    }
   ],
   "source": [
    "num1=int(input(\"enter the first number :\"))\n",
    "num2=int(input(\"enter the second number:\"))\n",
    "x=num1\n",
    "y=num2\n",
    "while num1 != num2:\n",
    "    if num1 > num2:\n",
    "        num1 -= num2 # if num1 is less than num2 and subtract it from num2 and strore in num1\n",
    "    else:\n",
    "        num2 -= num1\n",
    "print(\"GCD of\",x,\"and\",y,\"is\",num1)"
   ]
  },
  {
   "cell_type": "markdown",
   "id": "b43c0ede-4a18-4d58-9861-c04b3237253d",
   "metadata": {},
   "source": [
    "4.**convert temprature from celsius to fahrenheit**"
   ]
  },
  {
   "cell_type": "code",
   "execution_count": 3,
   "id": "6564da65-0207-470e-83b1-d7a8f5d0a5b2",
   "metadata": {},
   "outputs": [
    {
     "name": "stdin",
     "output_type": "stream",
     "text": [
      "Enter the Temprature  in celcius: 46\n"
     ]
    },
    {
     "name": "stdout",
     "output_type": "stream",
     "text": [
      "Temprature in Fahreheit is : 114.8\n"
     ]
    }
   ],
   "source": [
    "temprature=float(input(\"Enter the Temprature  in celcius:\")) # take input from user\n",
    "fahreheit=(9/5*temprature)+32  # to convert celcius  to fahreheit\n",
    "print(\"Temprature in Fahreheit is :\",fahreheit)"
   ]
  },
  {
   "cell_type": "markdown",
   "id": "b1238822-cf2b-41a1-aa1d-e8344dcaae08",
   "metadata": {},
   "source": [
    "**1.program to print half pyramid using***"
   ]
  },
  {
   "cell_type": "code",
   "execution_count": 3,
   "id": "1d48240d-45a9-4080-8c54-eb64f2ca5b40",
   "metadata": {},
   "outputs": [
    {
     "name": "stdout",
     "output_type": "stream",
     "text": [
      "* \n",
      "* * \n",
      "* * * \n",
      "* * * * \n",
      "* * * * * \n",
      "* * * * * * \n"
     ]
    }
   ],
   "source": [
    "x=6\n",
    "for i in range(1,x+1): # i for row  i.e i goes from 1 to 6 \n",
    "    for j in range(1,i+1): # j for column \n",
    "        print('*',end=' ')\n",
    "    print()"
   ]
  },
  {
   "cell_type": "markdown",
   "id": "f153fed2-0816-40e7-b623-317f8519ed29",
   "metadata": {},
   "source": [
    "2.inverted half pyramid using*"
   ]
  },
  {
   "cell_type": "code",
   "execution_count": 17,
   "id": "b803ab2d-7c3e-4137-abef-d87f439bd62d",
   "metadata": {},
   "outputs": [
    {
     "name": "stdout",
     "output_type": "stream",
     "text": [
      "* * * * * * \n",
      "* * * * * \n",
      "* * * * \n",
      "* * * \n",
      "* * \n",
      "* \n",
      "\n"
     ]
    }
   ],
   "source": [
    "x=6\n",
    "for i in range(x+1,0,-1): # i for row  \n",
    "    for j in range(0,i-1): # j for column\n",
    "        print('*',end=' ')\n",
    "    print()"
   ]
  },
  {
   "cell_type": "code",
   "execution_count": 5,
   "id": "9daf558b-0162-421e-ac2c-c4f8a4e84938",
   "metadata": {},
   "outputs": [
    {
     "name": "stdin",
     "output_type": "stream",
     "text": [
      "Enter no of rows: 5\n"
     ]
    },
    {
     "name": "stdout",
     "output_type": "stream",
     "text": [
      "* * * * * \n",
      "* * * * \n",
      "* * * \n",
      "* * \n",
      "* \n"
     ]
    }
   ],
   "source": [
    "x=int(input(\"Enter no of rows:\")) # take input from user\n",
    "for i in range(x,0,-1): # i for row  \n",
    "    for j in range(0,i): # j for column  range start from 0 to i\n",
    "        print('*',end=' ')\n",
    "    print()"
   ]
  },
  {
   "cell_type": "code",
   "execution_count": 27,
   "id": "32a22a9a-a1cb-4f72-af9a-651cf0e78a31",
   "metadata": {},
   "outputs": [
    {
     "name": "stdin",
     "output_type": "stream",
     "text": [
      "Enter no of rows: 6\n"
     ]
    },
    {
     "name": "stdout",
     "output_type": "stream",
     "text": [
      "          * \n",
      "        * * * \n",
      "      * * * * * \n",
      "    * * * * * * * \n",
      "  * * * * * * * * * \n",
      "* * * * * * * * * * * \n"
     ]
    }
   ],
   "source": [
    "x=int(input(\"Enter no of rows:\"))\n",
    "a=0 # initital  starting is 0\n",
    "for i in range(1, x+1):no of rows print\n",
    "    for space in range(1, (x-i)+1):# check the space and also in one line\n",
    "        print(end='  ')\n",
    "    while a!=(2*i-1):\n",
    "        print(\"*\",end=' ')\n",
    "        a += 1\n",
    "    a=0  # recet the rows starting from 1 \n",
    "    print()"
   ]
  },
  {
   "cell_type": "code",
   "execution_count": 7,
   "id": "8f3452ab-b66b-43e9-8fdf-fb2e2ed5c379",
   "metadata": {},
   "outputs": [
    {
     "name": "stdin",
     "output_type": "stream",
     "text": [
      "Enter the number 5\n"
     ]
    },
    {
     "name": "stdout",
     "output_type": "stream",
     "text": [
      "*********\n",
      " *******\n",
      "  *****\n",
      "   ***\n",
      "    *\n"
     ]
    }
   ],
   "source": [
    "x=int(input(\"Enter the number\")) # take input from user\n",
    "for i in range(x , 0 , -1): # define range from given number  and -1 for decrement.\n",
    "    print(' ' * (x-i) + '*' * (2 * i-1)) # ' ' * (x-i) for adding space to center align and '*' * (2 * i-1) it gives correct no of star in inverted.\n",
    "                                           # suppose i=5 (2*5-1=9) it print 9 star ."
   ]
  },
  {
   "cell_type": "code",
   "execution_count": 13,
   "id": "28237b5f-8949-4218-b6e6-b006ccc67728",
   "metadata": {},
   "outputs": [
    {
     "name": "stdin",
     "output_type": "stream",
     "text": [
      "Enter the number 6\n"
     ]
    },
    {
     "name": "stdout",
     "output_type": "stream",
     "text": [
      "           1 \n",
      "         2 3 2 \n",
      "       3 4 5 4 3 \n",
      "     4 5 6 7 6 5 4 \n",
      "   5 6 7 8 9 8 7 6 5 \n",
      " 6 7 8 9 10 11 10 9 8 7 6 \n"
     ]
    }
   ],
   "source": [
    "num=int(input(\"Enter the number\")) # take input from user\n",
    "for i in range(1,num+1): # starting range from 1 to num +1\n",
    "    print('  '*(num-i),end=' ') #  print space for alignment\n",
    "    for j in range(i,i*2):  #  it increasing number starting from i to i*2 i.e i= 4 it print 4,5,6\n",
    "        print(j,end=' ')\n",
    "    for j in range(i*2-2,i-1,-1): # i*2 -2 and goes down to i i.e i=4 it print 5,4\n",
    "        print(j,end=' ')\n",
    "    print()"
   ]
  },
  {
   "cell_type": "markdown",
   "id": "b5f2127a-83fa-431e-97b2-50386a669c57",
   "metadata": {},
   "source": [
    "# Operators "
   ]
  },
  {
   "cell_type": "code",
   "execution_count": 12,
   "id": "3d17fb88-f09d-4d86-84c5-3d8aff66c5e4",
   "metadata": {},
   "outputs": [
    {
     "name": "stdout",
     "output_type": "stream",
     "text": [
      "1\n"
     ]
    }
   ],
   "source": [
    "# Bitwise Operators \n",
    "# and (&)\n",
    "a= 5 & 3  # 0101 & 0011=0001\n",
    "print(a)"
   ]
  },
  {
   "cell_type": "code",
   "execution_count": 14,
   "id": "df8b6b84-2853-4a06-8ab9-d4d9214fb23d",
   "metadata": {},
   "outputs": [
    {
     "name": "stdout",
     "output_type": "stream",
     "text": [
      "7\n"
     ]
    }
   ],
   "source": [
    "# or(|)\n",
    "y= 5| 3  # 0101 & 0011=0111 (7)\n",
    "print(y)"
   ]
  },
  {
   "cell_type": "code",
   "execution_count": 16,
   "id": "5fb55508-14b6-422f-aed7-a11bd6074bb4",
   "metadata": {},
   "outputs": [
    {
     "name": "stdout",
     "output_type": "stream",
     "text": [
      "6\n"
     ]
    }
   ],
   "source": [
    "# XOR (^)\n",
    "y=5 ^ 3 # 0101 & 0011=0110 (6)\n",
    "print(y)"
   ]
  },
  {
   "cell_type": "code",
   "execution_count": 18,
   "id": "699506e6-4727-4ed7-91ce-2c8fa0eaf1d2",
   "metadata": {},
   "outputs": [
    {
     "name": "stdout",
     "output_type": "stream",
     "text": [
      "-6\n"
     ]
    }
   ],
   "source": [
    "# NOT(~)\n",
    "y= ~5  # ~0101 = 1010\n",
    "print(y)"
   ]
  },
  {
   "cell_type": "code",
   "execution_count": 20,
   "id": "bad840ab-de28-4362-9cae-3afee8123b72",
   "metadata": {},
   "outputs": [
    {
     "name": "stdout",
     "output_type": "stream",
     "text": [
      "10\n"
     ]
    }
   ],
   "source": [
    "# left shift(<<)\n",
    "y=5<< 1 # move from 1 # 0101 << 1=1010(10)\n",
    "print(y)"
   ]
  },
  {
   "cell_type": "code",
   "execution_count": 22,
   "id": "bca9fa4d-5e41-4d10-a65e-c17c0babd7ef",
   "metadata": {},
   "outputs": [
    {
     "name": "stdout",
     "output_type": "stream",
     "text": [
      "2\n"
     ]
    }
   ],
   "source": [
    "# right shift(>>)\n",
    "y=5 >> 1  # 0101 << 1=0010(2)\n",
    "print(y)"
   ]
  },
  {
   "cell_type": "code",
   "execution_count": 24,
   "id": "ca973132-de35-40e3-9f84-15b6a7a5aa8e",
   "metadata": {},
   "outputs": [
    {
     "name": "stdout",
     "output_type": "stream",
     "text": [
      "True\n"
     ]
    }
   ],
   "source": [
    "# Identity Operator\n",
    "# is\n",
    "n=5\n",
    "m=n\n",
    "y=(n is m )\n",
    "print(y)"
   ]
  },
  {
   "cell_type": "code",
   "execution_count": 28,
   "id": "588ff6dd-4856-419a-9d2c-6ae718c03a59",
   "metadata": {},
   "outputs": [
    {
     "name": "stdout",
     "output_type": "stream",
     "text": [
      "True\n"
     ]
    }
   ],
   "source": [
    "# is not\n",
    "a=10\n",
    "b=5\n",
    "c=(a is not b)\n",
    "print(c)"
   ]
  },
  {
   "cell_type": "code",
   "execution_count": 30,
   "id": "8443d8a2-8784-4b18-9a62-ea8228363fd7",
   "metadata": {},
   "outputs": [
    {
     "name": "stdout",
     "output_type": "stream",
     "text": [
      "True\n"
     ]
    }
   ],
   "source": [
    "# Membership Operator\n",
    "# in\n",
    "x=[1,2,3]\n",
    "y=1 in x\n",
    "print(y)"
   ]
  },
  {
   "cell_type": "code",
   "execution_count": 32,
   "id": "471b33f6-b40f-4e78-b4a8-44917795cf9d",
   "metadata": {},
   "outputs": [
    {
     "name": "stdout",
     "output_type": "stream",
     "text": [
      "True\n"
     ]
    }
   ],
   "source": [
    "# not in\n",
    "x=[1,2,3]\n",
    "y=4 not in x\n",
    "print(y)"
   ]
  },
  {
   "cell_type": "markdown",
   "id": "23412636-8fce-4754-92f4-342b5c8aac93",
   "metadata": {},
   "source": [
    "**Q.1.implement a program where a user enters their current saving and their monthly deposite.use assingnment oerators to update their saving account after  adding  their mothly deposite,including a monthly interest of 0.5%**"
   ]
  },
  {
   "cell_type": "code",
   "execution_count": 83,
   "id": "36a81d02-2c30-464e-8bb1-461b42917c63",
   "metadata": {},
   "outputs": [
    {
     "name": "stdin",
     "output_type": "stream",
     "text": [
      "Enter your current savings:  3500\n",
      "Enter your monthly deposit:  400\n"
     ]
    },
    {
     "name": "stdout",
     "output_type": "stream",
     "text": [
      "Your updated savings after deposit and interest is:3917.50\n"
     ]
    }
   ],
   "source": [
    "current_savings = float(input(\"Enter your current savings: \")) # take input from user \n",
    "monthly_deposit = float(input(\"Enter your monthly deposit: \"))\n",
    "\n",
    "# Calculate monthly interest (0.5%)\n",
    "monthly_rate= 0.005  # 0.5% = 0.5 / 100 = 0.005.\n",
    "\n",
    "# Update savings using assignment operators\n",
    "current_savings += current_savings * monthly_rate  # Add interest\n",
    "current_savings += monthly_deposit  # Add monthly deposit\n",
    "print(f\"Your updated savings after deposit and interest is:{current_savings:.2f}\")"
   ]
  },
  {
   "cell_type": "markdown",
   "id": "b2055caf-2404-4b90-8f14-b0fc17ca009e",
   "metadata": {},
   "source": [
    "**Q.3.develop a system that evaluates a students performance based on scores from multiple categories(e.g, tests,assignment,project and attendance).each category should have different weight,and the pgrogram should calculate the final score based on this weight.include conditions where if the attendance score falls bellow threshould,it automatically reduces the final score by a certain percentage.**"
   ]
  },
  {
   "cell_type": "code",
   "execution_count": 1,
   "id": "dd0284cf-58cb-415b-9c66-8dd921beeb95",
   "metadata": {},
   "outputs": [
    {
     "name": "stdin",
     "output_type": "stream",
     "text": [
      " Enter your Test score:  45\n",
      "Enter your Assignment score:  70\n",
      "Enter your project score :  66\n",
      "Enter your Attendance :  70\n"
     ]
    },
    {
     "name": "stdout",
     "output_type": "stream",
     "text": [
      "Your Final Score: 61.3\n"
     ]
    }
   ],
   "source": [
    "# assign the weight \n",
    "test_weight = 0.3\n",
    "assignment_weight = 0.2\n",
    "project_weight = 0.3\n",
    "attendance_weight = 0.2\n",
    "\n",
    "stud_attendance = 70  # If attendance is less than 70%\n",
    "penalty=0.1 # if you have  low attendance then your penalty is 0.1 (10%)\n",
    "\n",
    "# take input from user\n",
    "test = float(input(\" Enter your Test score: \"))\n",
    "assignment = float(input(\"Enter your Assignment score: \"))\n",
    "project = float(input(\"Enter your project score : \"))\n",
    "attendance = float(input(\"Enter your Attendance : \"))\n",
    "\n",
    "# Calculate  the total score with weights\n",
    "final_score = (test * test_weight) + (assignment * assignment_weight) + (project * project_weight) + (attendance * attendance_weight)\n",
    "\n",
    "# Check for low attendance\n",
    "if  stud_attendance < attendance:\n",
    "    print(\" student have Low attendance! Final score will be reduced.\")\n",
    "    final_score = final_score - (final_score * penalty)\n",
    "\n",
    "# Show final score\n",
    "print(\"Your Final Score:\", final_score)"
   ]
  },
  {
   "cell_type": "markdown",
   "id": "49a8373a-7356-4a73-8f0d-399633abe58e",
   "metadata": {},
   "source": [
    "**Q.2.write a program that calculate the compound interes on an initial invenstment over a given no of years.the user should input the initial amount the annual intrest rate the duration in year and a specific year when a withdrawal will be made.the program must adjust the calculation based on the withdraw**"
   ]
  },
  {
   "cell_type": "code",
   "execution_count": 3,
   "id": "97571559-8e7c-4529-8d7e-193b67aaae28",
   "metadata": {},
   "outputs": [
    {
     "name": "stdin",
     "output_type": "stream",
     "text": [
      "Enter your initial amount : 30000\n",
      "Enter your annual rate (%)  5.0\n",
      "Enter the year : 2\n",
      "enter withdraw year: 1\n",
      "Enter the amount you have withdrawal : 5000\n"
     ]
    },
    {
     "name": "stdout",
     "output_type": "stream",
     "text": [
      "Final amount is : 27825.0\n"
     ]
    }
   ],
   "source": [
    "initial_amount=float(input(\"Enter your initial amount :\")) # take initial amount from user\n",
    "annual_rate=float(input(\"Enter your annual rate (%) \"))  # take annual rate from user\n",
    "year=int(input(\"Enter the year :\")) # take year from user\n",
    "withdraw_year=int(input(\"enter withdraw year:\"))  # take withdraw year from user\n",
    "withdraw_amount=float(input(\"Enter the amount you have withdrawal :\")) # take withdraw amount from user\n",
    "\n",
    "for i in range(1,year + 1):  # range start from 1 to year + 1\n",
    "    initial_amount=initial_amount + (initial_amount *annual_rate / 100)  # add compound interest to current amount.\n",
    "    if i==withdraw_year:  # if current year is withdraw year it subtract the withdraw amount from  initial amount\n",
    "       initial_amount -=  withdraw_amount\n",
    "print(\"Final amount is :\", initial_amount)"
   ]
  },
  {
   "cell_type": "markdown",
   "id": "95cbe68e-daa3-447a-8a48-112d8249aa46",
   "metadata": {},
   "source": [
    "**Q.1.Implement a game where the computer randomly selects a number between 1 and 100,and the user has to guess it.after each guess the program tells the user whether their guess was too higher too low.**"
   ]
  },
  {
   "cell_type": "code",
   "execution_count": 3,
   "id": "fdf5489d-d7d6-4aa6-bd01-b4406984daa8",
   "metadata": {},
   "outputs": [
    {
     "name": "stdin",
     "output_type": "stream",
     "text": [
      "Guess a number between 1 and 100:  55\n"
     ]
    },
    {
     "name": "stdout",
     "output_type": "stream",
     "text": [
      "Number is Too high\n"
     ]
    },
    {
     "name": "stdin",
     "output_type": "stream",
     "text": [
      "Guess a number between 1 and 100:  50\n"
     ]
    },
    {
     "name": "stdout",
     "output_type": "stream",
     "text": [
      "correct\n"
     ]
    }
   ],
   "source": [
    "import random\n",
    "\n",
    "x = random.randint(1, 100) # to choose random number  between 1 to 100\n",
    "x=50\n",
    "while True:  # This creates an infinite loop, which keeps running until we manually break out of it\n",
    "    guess_no = int(input(\"Guess a number between 1 and 100: \"))\n",
    "    \n",
    "    if guess_no < x:\n",
    "        print(\"Number is Too low\")\n",
    "    elif guess_no > x:\n",
    "        print(\"Number is Too high\")\n",
    "    else:\n",
    "        print(\"correct\")  # if the guess is not less than and not greater than, it must be equal to x private number.\n",
    "        break"
   ]
  },
  {
   "cell_type": "markdown",
   "id": "45c0a617-5e66-4452-9372-1f0d7607d39a",
   "metadata": {},
   "source": [
    "**Q.2.write a program that takes a decimal number and convert it to binary using a loop and not using built-in-bin() function**"
   ]
  },
  {
   "cell_type": "code",
   "execution_count": 12,
   "id": "6338868a-a2f5-4798-b865-139c1332e70a",
   "metadata": {},
   "outputs": [
    {
     "name": "stdin",
     "output_type": "stream",
     "text": [
      "Enter a decimal number:  10\n"
     ]
    },
    {
     "name": "stdout",
     "output_type": "stream",
     "text": [
      "Binary number is: 1010 \n"
     ]
    }
   ],
   "source": [
    "num = int(input(\"Enter a decimal number: \"))\n",
    "binary = \" \" # create empty string (\"\")  which  is store in binary\n",
    "while num > 0:\n",
    "    binary = str(num % 2) + binary  # gets the remainder when num is divided by 2 — either 0 or 1. or  str use for to convert digit to a string \n",
    "    num//= 2\n",
    "print(\"Binary number is:\", binary)\n"
   ]
  },
  {
   "cell_type": "markdown",
   "id": "03a9283c-9fe9-4992-8eb1-e380d3e737af",
   "metadata": {},
   "source": [
    "**Q.3.write a python program to convert kilometers to miles**"
   ]
  },
  {
   "cell_type": "code",
   "execution_count": 19,
   "id": "cc698bf8-6609-4150-9dc8-c78e0b281de0",
   "metadata": {},
   "outputs": [
    {
     "name": "stdin",
     "output_type": "stream",
     "text": [
      "Enter distance in kilometers:  56\n"
     ]
    },
    {
     "name": "stdout",
     "output_type": "stream",
     "text": [
      "The conversion kilometer to miles is: 34.796776\n"
     ]
    }
   ],
   "source": [
    "kilometer_no= float(input(\"Enter distance in kilometers: \"))\n",
    "miles_convert = kilometer_no * 0.621371  # to convert kilometer to miles . 1 kilometer (km) = 0.621371 miles\n",
    "print(\"The conversion kilometer to miles is:\",miles_convert)\n"
   ]
  },
  {
   "cell_type": "markdown",
   "id": "4cd2ddc6-5544-478c-8fa5-d4c47126e797",
   "metadata": {},
   "source": [
    "**Q.4.write a python program to find number divisible by another number.**"
   ]
  },
  {
   "cell_type": "code",
   "execution_count": 32,
   "id": "e07a9cf1-36ce-4c3a-950b-4a6fcda91005",
   "metadata": {},
   "outputs": [
    {
     "name": "stdin",
     "output_type": "stream",
     "text": [
      "Enter a number:  20\n",
      "Enter the divisor:  2\n"
     ]
    },
    {
     "name": "stdout",
     "output_type": "stream",
     "text": [
      "20 is divisible by 2\n"
     ]
    }
   ],
   "source": [
    "n= int(input(\"Enter a number: \")) # take number from user\n",
    "divisor_no = int(input(\"Enter the divisor: \")) # take divisor from user\n",
    "\n",
    "if n % divisor_no== 0:  #Checks if the remainder is 0\n",
    "    print(f\"{n} is divisible by {divisor_no}\")  # If yes, prints it's divisible\n",
    "    \n",
    "else:\n",
    "    print(f\"{n} is  divisible  by another number\") # then  print divisible by another number\n"
   ]
  },
  {
   "cell_type": "markdown",
   "id": "bf778b5f-6dc8-4c0b-970c-25f8475f6dc2",
   "metadata": {},
   "source": [
    "# Function\n",
    "- Block of code that is organized the reusable to  perform a single action."
   ]
  },
  {
   "cell_type": "code",
   "execution_count": 2,
   "id": "707822dd-3a4d-408d-b245-28b23ccd7047",
   "metadata": {},
   "outputs": [
    {
     "name": "stdin",
     "output_type": "stream",
     "text": [
      "Enter the lenght: 5\n",
      "Enter the width: 4\n"
     ]
    },
    {
     "name": "stdout",
     "output_type": "stream",
     "text": [
      "Area of rectangle is : 20\n"
     ]
    }
   ],
   "source": [
    "# Area of rectangle\n",
    "def area_rectangle():  # define a fuction \n",
    "    l=int(input(\"Enter the lenght:\"))\n",
    "    w=int(input(\"Enter the width:\"))\n",
    "    return l * w # formula for area of rectangle\n",
    "area=area_rectangle()  # call function\n",
    "print(\"Area of rectangle is :\",area) "
   ]
  },
  {
   "cell_type": "markdown",
   "id": "721be583-4aaa-4bcd-9a29-f55d295ebfed",
   "metadata": {},
   "source": [
    "**Parameter**\n",
    "- it is variable used as a placeholder to store the value that we pass into the fuction.\n",
    "\n",
    "**Argument**\n",
    "- it is actual value\n",
    "- Types of argument:\n",
    "    - positional argument\n",
    "    - keyword argument\n",
    "    - variable lenght\n",
    "    - default"
   ]
  },
  {
   "cell_type": "code",
   "execution_count": 4,
   "id": "0a54e724-2ddc-496d-9add-48f7ae00d7c1",
   "metadata": {},
   "outputs": [
    {
     "name": "stdout",
     "output_type": "stream",
     "text": [
      "Name:neha,Age:22\n"
     ]
    }
   ],
   "source": [
    "# keyword argument\n",
    "def info(name,age):\n",
    "    print(f\"Name:{name},Age:{age}\")\n",
    "info(name=\"neha\",age=22) # keyword argument\n"
   ]
  },
  {
   "cell_type": "code",
   "execution_count": 10,
   "id": "f2831a5b-4507-4f2d-856a-c9eac4eb7f02",
   "metadata": {},
   "outputs": [
    {
     "name": "stdout",
     "output_type": "stream",
     "text": [
      "neha\n",
      "moni\n",
      "khushi\n"
     ]
    }
   ],
   "source": [
    "# variable length argument\n",
    "def info(*names) :# * for args\n",
    "    for name in names:\n",
    "        print(name)\n",
    "info(\"neha\",\"moni\",\"khushi\")\n"
   ]
  },
  {
   "cell_type": "code",
   "execution_count": 30,
   "id": "ac9417af-3508-475b-a7f0-6b42ded4d87c",
   "metadata": {},
   "outputs": [
    {
     "name": "stdout",
     "output_type": "stream",
     "text": [
      "Fisrt name is Neha and last name is Rikame\n",
      "Fisrt name is Neha and last name is Rikame\n"
     ]
    }
   ],
   "source": [
    "def info(**kwargs):  # ** for kwargs to take keyword argument\n",
    "    for first,last in kwargs.items():\n",
    "        print(f\"Fisrt name is {kwargs['first']} and last name is {kwargs['last']}\")\n",
    "info(first=\"Neha\",last=\"Rikame\")"
   ]
  },
  {
   "cell_type": "code",
   "execution_count": 34,
   "id": "17e3833d-d75e-4879-a212-046536f2eb2c",
   "metadata": {},
   "outputs": [
    {
     "name": "stdout",
     "output_type": "stream",
     "text": [
      "First is Neha\n",
      "Last is Rikame\n",
      "Age is 22\n"
     ]
    }
   ],
   "source": [
    "def info(**kwargs):\n",
    "    for key,value in kwargs.items():\n",
    "        print(f\"{key.capitalize()} is {value}\")  # capitalize  use for to make first letter is capital and other are small\n",
    "info(first='Neha',last='Rikame',age=22)"
   ]
  },
  {
   "cell_type": "markdown",
   "id": "e0b0ef1f-2e5d-42b2-a529-aacb7ee989b9",
   "metadata": {},
   "source": [
    "**Q.1 write a function to greet the user**"
   ]
  },
  {
   "cell_type": "code",
   "execution_count": 4,
   "id": "27889c9f-aa00-4787-b75f-d67d84892d9e",
   "metadata": {},
   "outputs": [
    {
     "name": "stdin",
     "output_type": "stream",
     "text": [
      "Enter your name Neha\n"
     ]
    },
    {
     "name": "stdout",
     "output_type": "stream",
     "text": [
      "Hello Good Morning!,Neha\n"
     ]
    }
   ],
   "source": [
    "def greet(user):  # define greet function that take user name as input\n",
    "    print(f\"Hello Good Morning!,{user}\")\n",
    "user=input(\"Enter your name\")\n",
    "greet(user) # call function"
   ]
  },
  {
   "cell_type": "markdown",
   "id": "ead2ce14-582e-4bcc-b1ff-b42c0566ebad",
   "metadata": {},
   "source": [
    "**Q.2 write a function to add two numbers.** "
   ]
  },
  {
   "cell_type": "code",
   "execution_count": 15,
   "id": "ec8dcffe-7f4d-4a1b-93a8-c5070baf4a3f",
   "metadata": {},
   "outputs": [
    {
     "name": "stdin",
     "output_type": "stream",
     "text": [
      "Enter first number: 11\n",
      "Enter second number: 22\n"
     ]
    },
    {
     "name": "stdout",
     "output_type": "stream",
     "text": [
      "Addition of two number is: 33\n"
     ]
    }
   ],
   "source": [
    "x=int(input(\"Enter first number:\"))  # take input from user\n",
    "y=int(input(\"Enter second number:\"))\n",
    "def add(x,y):  # create  add function \n",
    "        return x + y\n",
    "Addition=add(x,y)  # call function\n",
    "print(\"Addition of two number is:\",Addition)"
   ]
  },
  {
   "cell_type": "markdown",
   "id": "a027adce-fe6b-4364-91a9-58b4ebffff70",
   "metadata": {},
   "source": [
    "**Q.3.write a function to find factorial of a number.**"
   ]
  },
  {
   "cell_type": "code",
   "execution_count": 7,
   "id": "2739e304-f807-4749-ab64-d6b6494a917e",
   "metadata": {},
   "outputs": [
    {
     "name": "stdin",
     "output_type": "stream",
     "text": [
      "enter the number 5\n"
     ]
    },
    {
     "name": "stdout",
     "output_type": "stream",
     "text": [
      "factorial of 5 is 120\n"
     ]
    }
   ],
   "source": [
    "def factorial(n):\n",
    "    if n==1:  #if n is 0 it return 1\n",
    "        return 1\n",
    "    else:\n",
    "        return n * factorial(n-1) \n",
    "num=int(input(\"enter the number\"))\n",
    "print(\"factorial of\",num,\"is\",factorial(num))"
   ]
  },
  {
   "cell_type": "markdown",
   "id": "5a8b510d-bb29-4b0f-a92c-e94d69e4b8cb",
   "metadata": {},
   "source": [
    "**Q.4.define a function that return the result of raising the base to the exponent without using ** operator.**"
   ]
  },
  {
   "cell_type": "code",
   "execution_count": 5,
   "id": "72ca541a-f012-41a1-bb93-7c86028ffd82",
   "metadata": {},
   "outputs": [
    {
     "name": "stdout",
     "output_type": "stream",
     "text": [
      "25\n"
     ]
    }
   ],
   "source": [
    "def powerof(base, exponent):  # 2*2*2 (base=2,exponent=3)\n",
    "    count = 1  # initially count is 1\n",
    "    for n in range(exponent):\n",
    "        count *= base\n",
    "    return count\n",
    "\n",
    "\n",
    "print(powerof(5,2))"
   ]
  },
  {
   "cell_type": "markdown",
   "id": "68816897-d8ec-4617-834a-8ae486c3b93a",
   "metadata": {},
   "source": [
    "# Built in Fuction"
   ]
  },
  {
   "cell_type": "code",
   "execution_count": 10,
   "id": "e09abaf5-7ee0-4bf2-a0f4-dc7f8875fdee",
   "metadata": {},
   "outputs": [
    {
     "name": "stdout",
     "output_type": "stream",
     "text": [
      "[4, 8, 12, 16]\n"
     ]
    }
   ],
   "source": [
    "# map () : to modify all items in a list\n",
    "def add(x):\n",
    "    return x + x\n",
    "num=[2,4,6,8]\n",
    "res=map(add,num)\n",
    "print(list(res))\n",
    "# to add 2+2,4+4,6+6,8+8"
   ]
  },
  {
   "cell_type": "code",
   "execution_count": 12,
   "id": "12cb9f3c-e7dc-4d60-b124-71c70cd95fa6",
   "metadata": {},
   "outputs": [
    {
     "name": "stdout",
     "output_type": "stream",
     "text": [
      "[2, 10, 4, 8]\n"
     ]
    }
   ],
   "source": [
    "# filter () : to filter out items based on given condition\n",
    "def even(n):\n",
    "    return n % 2==0\n",
    "num=[2,5,10,4,7,8]\n",
    "res=filter(even,num)\n",
    "print(list(res))"
   ]
  },
  {
   "cell_type": "code",
   "execution_count": 18,
   "id": "e97bc566-fe01-44ed-9344-b335f646475b",
   "metadata": {},
   "outputs": [
    {
     "name": "stdout",
     "output_type": "stream",
     "text": [
      "168\n"
     ]
    }
   ],
   "source": [
    "# reduce (): combine all items into a single value\n",
    "# it import from functools.\n",
    "from functools import reduce\n",
    "def multi(x,y):\n",
    "    return x*y\n",
    "num=[2,4,3,7]\n",
    "res=reduce(multi,num)\n",
    "print(res)"
   ]
  },
  {
   "cell_type": "code",
   "execution_count": 22,
   "id": "a95f54b4-86b7-4a32-8c00-6a291d28b0f7",
   "metadata": {},
   "outputs": [
    {
     "name": "stdout",
     "output_type": "stream",
     "text": [
      "9\n"
     ]
    }
   ],
   "source": [
    "# lambda (): it is Anonymous function.with argument and expression\n",
    "multi=lambda x:x*x\n",
    "print(multi(3)) # 3*3\n"
   ]
  },
  {
   "cell_type": "code",
   "execution_count": 24,
   "id": "11c7212a-27d8-4b3c-8cd5-f16160f8faff",
   "metadata": {},
   "outputs": [
    {
     "name": "stdout",
     "output_type": "stream",
     "text": [
      "0 Apple\n",
      "1 banana\n",
      "2 cherry\n"
     ]
    }
   ],
   "source": [
    "# enumerate () : when we get index and value\n",
    "fruit=['Apple','banana','cherry']\n",
    "for index,fruit in enumerate(fruit):\n",
    "    print(index,fruit)"
   ]
  },
  {
   "cell_type": "code",
   "execution_count": 30,
   "id": "7de9c091-6dbd-4086-a3df-25c52656807c",
   "metadata": {},
   "outputs": [
    {
     "name": "stdout",
     "output_type": "stream",
     "text": [
      "21\n"
     ]
    }
   ],
   "source": [
    "# recursive () : function call itself\n",
    "\n",
    "def fibo(n):\n",
    "    if n<=1:  # base condition\n",
    "        return n\n",
    "    else:\n",
    "        return fibo(n-1) + fibo(n-2) # recursive call\n",
    "print(fibo(8))\n",
    "# 1,1,2,3,5,8,13,21 fibonacci series(8) -addition of previous two number"
   ]
  },
  {
   "cell_type": "markdown",
   "id": "9a3f32d6-23d3-4565-8513-efbf9dd171a1",
   "metadata": {},
   "source": [
    "**Q.1 print number from 1 to n using recursion.**"
   ]
  },
  {
   "cell_type": "code",
   "execution_count": 2,
   "id": "c5372296-2403-41a4-aafb-65b87562d428",
   "metadata": {},
   "outputs": [
    {
     "name": "stdout",
     "output_type": "stream",
     "text": [
      "1\n",
      "2\n",
      "3\n",
      "4\n",
      "5\n",
      "6\n",
      "7\n",
      "8\n",
      "9\n",
      "10\n"
     ]
    }
   ],
   "source": [
    "def number(x):\n",
    "    if x > 0:   # base condition \n",
    "        number(x-1)  # recursive call\n",
    "        print(x)\n",
    "number(10)  "
   ]
  },
  {
   "cell_type": "markdown",
   "id": "47e4081d-36eb-42f2-98ac-c83805386d57",
   "metadata": {},
   "source": [
    "**Q.2 write a recursive function to count how many digits are in a number.**"
   ]
  },
  {
   "cell_type": "code",
   "execution_count": 9,
   "id": "e706d2c2-02a0-4ab4-a046-2145f091892c",
   "metadata": {},
   "outputs": [
    {
     "name": "stdout",
     "output_type": "stream",
     "text": [
      "4\n"
     ]
    }
   ],
   "source": [
    "def digit_count(num):\n",
    "    if num < 10:  # base condition  if number is greater than 10 it return 1\n",
    "        return 1\n",
    "    return 1 + digit_count(num // 10)  # recursive call  it floor mode by 10 to remove last digit \n",
    "print(digit_count(4535))"
   ]
  },
  {
   "cell_type": "markdown",
   "id": "56c1c466-c832-4dbe-a359-433cd00763f1",
   "metadata": {},
   "source": [
    "**Q.3 write a lambda  to return the last charecter of a string**"
   ]
  },
  {
   "cell_type": "code",
   "execution_count": 16,
   "id": "0d983b18-852f-48d3-bb17-26c5f4eea05c",
   "metadata": {},
   "outputs": [
    {
     "name": "stdout",
     "output_type": "stream",
     "text": [
      "a\n"
     ]
    }
   ],
   "source": [
    "last_charecter=lambda  s: s[-1]  # -1 for getting last charecter in string\n",
    "print(last_charecter(\"Neha\"))"
   ]
  },
  {
   "cell_type": "markdown",
   "id": "17ff97f8-70fc-4199-8cff-69300dc4cb3e",
   "metadata": {},
   "source": [
    "**Q.4.use map () to find the length of each word in a sentence.**"
   ]
  },
  {
   "cell_type": "code",
   "execution_count": 19,
   "id": "1d6d0df3-e1b9-4ac9-b31f-d9eb91385b6e",
   "metadata": {},
   "outputs": [
    {
     "name": "stdin",
     "output_type": "stream",
     "text": [
      "Enter your sentence : I am good girl\n"
     ]
    },
    {
     "name": "stdout",
     "output_type": "stream",
     "text": [
      "[1, 2, 4, 4]\n"
     ]
    }
   ],
   "source": [
    "sentence=input(\"Enter your sentence :\")\n",
    "length=list(map(len,sentence.split())) # split  use for it convert the sentence into the word  and len for it count the length of each word.\n",
    "print(length)  \n",
    "# sentence is : I am good girl\n",
    "        # split : ['I','am','good','girl']\n",
    "        "
   ]
  },
  {
   "cell_type": "markdown",
   "id": "453efd78-e113-4776-8d69-20ea998a152d",
   "metadata": {},
   "source": [
    "**Q.5 use map() with a lambda to add 10 to each number in a list.**"
   ]
  },
  {
   "cell_type": "code",
   "execution_count": 24,
   "id": "1a9da1e9-b31c-45e3-b950-aec7f1c652d1",
   "metadata": {},
   "outputs": [
    {
     "name": "stdout",
     "output_type": "stream",
     "text": [
      "[21, 40, 50, 70]\n"
     ]
    }
   ],
   "source": [
    "li=[11,30,40,60]  # define a list\n",
    "result=list(map(lambda n: n+10,li)) # add 10 in each item in a list\n",
    "print(result)"
   ]
  },
  {
   "cell_type": "markdown",
   "id": "9950b45c-8cf5-4d1a-8129-9dc110280b07",
   "metadata": {},
   "source": [
    "**Q.6.use filter() to get number greater than 50 from a list.**"
   ]
  },
  {
   "cell_type": "code",
   "execution_count": 27,
   "id": "4942029d-8775-4128-a26d-2ec22572c054",
   "metadata": {},
   "outputs": [
    {
     "name": "stdout",
     "output_type": "stream",
     "text": [
      "[55, 67]\n"
     ]
    }
   ],
   "source": [
    "def greater(num):\n",
    "    return num > 50\n",
    "num=[20,55,67,50,10,40]\n",
    "result=filter(greater,num)\n",
    "print(list(result))\n"
   ]
  },
  {
   "cell_type": "markdown",
   "id": "169a79e5-d3c5-4f96-8e08-05d5001c2ecd",
   "metadata": {},
   "source": [
    "**Q.7 use reduce() to find the maximum value in a list.**"
   ]
  },
  {
   "cell_type": "code",
   "execution_count": 36,
   "id": "9d2ae7d8-bedc-44fb-bd53-3e74c8b2e1fc",
   "metadata": {},
   "outputs": [
    {
     "name": "stdout",
     "output_type": "stream",
     "text": [
      "99\n"
     ]
    }
   ],
   "source": [
    "from functools import reduce # to import reduce  use functools\n",
    "num=[10,55,70,78,99]\n",
    "result=reduce(max,num) # maximum number in the list\n",
    "print(result)"
   ]
  },
  {
   "cell_type": "code",
   "execution_count": null,
   "id": "4be9479f-ef1e-4825-8a4b-458a6d1158a2",
   "metadata": {},
   "outputs": [],
   "source": []
  }
 ],
 "metadata": {
  "kernelspec": {
   "display_name": "Python [conda env:base] *",
   "language": "python",
   "name": "conda-base-py"
  },
  "language_info": {
   "codemirror_mode": {
    "name": "ipython",
    "version": 3
   },
   "file_extension": ".py",
   "mimetype": "text/x-python",
   "name": "python",
   "nbconvert_exporter": "python",
   "pygments_lexer": "ipython3",
   "version": "3.12.7"
  }
 },
 "nbformat": 4,
 "nbformat_minor": 5
}
